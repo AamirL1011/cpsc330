{
 "cells": [
  {
   "cell_type": "markdown",
   "metadata": {},
   "source": [
    "# CPSC 330 hw8"
   ]
  },
  {
   "cell_type": "code",
   "execution_count": 1,
   "metadata": {},
   "outputs": [],
   "source": [
    "import numpy as np\n",
    "import pandas as pd"
   ]
  },
  {
   "cell_type": "markdown",
   "metadata": {},
   "source": [
    "## Submission Instructions\n",
    "rubric={points:5}\n",
    "\n",
    "Follow the [homework submission instructions](https://github.students.cs.ubc.ca/cpsc330-2019w-t2/home/blob/master/docs/homework_instructions.md). \n",
    "\n",
    "Furthermore, this assignment has an **additional submission requirement** outlined in Exercise 3."
   ]
  },
  {
   "cell_type": "markdown",
   "metadata": {},
   "source": [
    "## Dataset\n",
    "\n",
    "Choose one of the following datasets:\n",
    "\n",
    "| Description | Where it's from | Type of problem |\n",
    "|------------|------------------|-----------------|\n",
    "| Movie reviews |  lecture 5 | language data + binary classification\n",
    "| Adult census |  lecture 7 | binary classification\n",
    "| House prices |  lecture 9 | regression\n",
    "| Amazon product ratings |  lecture 15 | unsupervised / nearest neighbours\n",
    "| Rain in Australia | lecture 16 | time series + binary classification\n",
    "| Churn prediction | lecture 17 | survival analysis\n",
    "| New York City Airbnb listings |  hw5 | regression\n",
    "| Donald Trump's tweets |  hw6 | language data, regression\n",
    "| Avocado prices |  hw7 | time series + regression\n",
    "| Another dataset of your chosing | ? | ? |\n",
    "\n",
    "**IMPORTANT NOTE:** If you are using one of the course datasets, you are welcome to reuse code from the course: lecture code, my homework solution code, your homework solution code, etc. The idea is to reduce the time spent on writing code so that you can focus on the communication aspect. If you reuse code, please make a brief note of it explaining where you got the code from.\n",
    "\n",
    "If you choose the last option (\"Another dataset\") then the above will not apply, of course. So, the last option would potentially be a lot more work if you are starting from scratch, but I wanted to give you the option in case you really want to, or in case you have a personal project with code already written. If you choose this option and you incorporate code that was written by someone else, you MUST cite this code. \n",
    "\n",
    "You are also welcome to use one of the course datasets but focus on a different problem, e.g. binary classification of whether avocado price increased vs. decreased in the last week, or try to predict a different column of a dataset, etc. Just make sure to clearly state what you're doing."
   ]
  },
  {
   "cell_type": "markdown",
   "metadata": {},
   "source": [
    "## Exercise 1\n",
    "rubric={points:5}\n",
    "\n",
    "For your dataset, describe your goal (e.g. what you are trying to predict). Then, describe a (possibly fictional) scenario where someone in the real world is interested in this task and why it is useful to them. What is the **decision** that ML is going to help make (see lecture 21) and what are the alternatives?\n",
    "\n",
    "Max 1 paragraph total."
   ]
  },
  {
   "cell_type": "markdown",
   "metadata": {},
   "source": []
  },
  {
   "cell_type": "markdown",
   "metadata": {},
   "source": [
    "## Exercise 2\n",
    "rubric={points:10}\n",
    "\n",
    "Build a model for your chosen problem. Your work must involve the following elements:\n",
    "\n",
    "- Exploratory outlier detection. \n",
    "- Preprocessing.\n",
    "- Try some models includng, at least, the 3 steps discussed in lecture 20:\n",
    "    1. `DummyRegressor` or `DummyClassifer`\n",
    "    2. `HuberRegressor` or `LogisticRegression`\n",
    "    3. `CatBoostRegressor` or `CatBoostClassifier`\n",
    "- Hyperparameter tuning.\n",
    "\n",
    "Note: for the outlier detection, if you are using a dataset from lecture, please do not do not exactly the same thing that was done in lecture 19. For example, consider a scatter plot of two features or look at a different feature than what we did in lecture.\n",
    "\n",
    "Note: if you have trouble installing CatBoost you are welcome to substitute in XGBoost or LightGBM instead. Hopefully one of them will be easy to install. \n",
    "\n",
    "Note: you're not required to use the \"proper handling of categorical features\" in CatBoost, though it would be fun if you do!\n",
    "\n",
    "Note: remember, you're allowed to reuse code from the course! My intention is that you shouldn't spend a huge amount of time on this exercise. Maybe 1 hour?"
   ]
  },
  {
   "cell_type": "code",
   "execution_count": null,
   "metadata": {},
   "outputs": [],
   "source": []
  },
  {
   "cell_type": "markdown",
   "metadata": {},
   "source": [
    "## Exercise 3\n",
    "rubric={points:40}\n",
    "\n",
    "In a **separate Jupyter notebook from this one**, write up your results in a \"blog post\" or report format that is aimed at a **potentially non-technical decision-maker or stakeholder**. Your post must include the following elements (not necessarily in this order):\n",
    "\n",
    "- Describe the problem/decision.\n",
    "- Describing the dataset (the raw data and/or some EDA).\n",
    "- Describing the model.\n",
    "- Describing your results, both quantitatively and qualitatively. Make sure to refer to the original problem/decision.\n",
    "- A section on caveats, describing at least 3 reasons why your results might be incorrect, misleading, overconfident, or otherwise problematic. Make reference to your specific dataset, model, approach, etc. To check that your reasons are specific enough, make sure they would not make sense, if left unchanged, to most students' submissions; for example, do not just say \"overfitting\" without explaining why you might be worried about overfitting in your specific case.\n",
    "- At least 2 visualizations.\n",
    "\n",
    "A reasonable length for your entire post would be **1000 words**. The maximum allowed is 2000 words.\n",
    "\n",
    "**SUBMISSION REQUIREMENT:** Upload your blog post to your homework repository. Then, put a clickable link to your blog post in your homework repository README. Thus, your README should now have two links: one to this document and one to your blog post. Please test both of them out in your web browser and make sure that both of them work as intended.\n",
    "\n",
    "Note: Exercise 2 is separate from this because we want to see all your code in Exercise 2. Your blog post should have a lot less code than Exercise 2, if any."
   ]
  },
  {
   "cell_type": "markdown",
   "metadata": {},
   "source": [
    "#### A note on plagiarism\n",
    "\n",
    "- In this assignment, you are allowed to include code that was not written by you, but you must cite the source.\n",
    "- In this assignment, you are **NOT** allowed to include text or visualizations that were not written/created by you.\n",
    "\n",
    "If you are in any doubt as to what constitutes plagiarism, please just ask.\n",
    "\n",
    "For more information see the [UBC Academic Misconduct policies](http://www.calendar.ubc.ca/vancouver/index.cfm?tree=3,54,111,959)."
   ]
  },
  {
   "cell_type": "markdown",
   "metadata": {},
   "source": []
  },
  {
   "cell_type": "markdown",
   "metadata": {},
   "source": [
    "## Exercise 4\n",
    "rubric={points:10}\n",
    "\n",
    "- Describe one effective communication technique (lecture 21/22) that you used in your post, or an aspect of the post that you are particularly satisfied with.\n",
    "- Describe an aspect of your post that you are not quite satisfied with, or one way in which your post could still be improved.\n",
    "\n",
    "Max 1 paragraph total."
   ]
  },
  {
   "cell_type": "markdown",
   "metadata": {},
   "source": []
  },
  {
   "cell_type": "markdown",
   "metadata": {},
   "source": [
    "## Exercise 5\n",
    "rubric={points:15}\n",
    "\n",
    "Create a visualization that is different from the ones in your report, which was crafted intentionally to mislead or misrepresent the results of your analysis. Include your visualization, and the code that generated it, here. Then, explain what you did: \n",
    "\n",
    "- What is the incorrect interpretation that your visualization is trying to show? \n",
    "- What is the correct interpretation?\n",
    "- How would you fix your visualization?\n",
    "\n",
    "Max 1 paragraph total."
   ]
  },
  {
   "cell_type": "markdown",
   "metadata": {},
   "source": []
  },
  {
   "cell_type": "markdown",
   "metadata": {},
   "source": [
    "## (optional) Exercise 6\n",
    "\n",
    "Publish your blog post from Exercise 3 publicly using a tool like Hugo, and paste a link here. Be sure to pick a tool in which code and code output look reasonable. \n",
    "\n",
    "Note: this exercise is optional/bonus. If you do it, the grader will add **1 point** to your grade (probably by adding it to some arbitrary question, since I don't think our system handles bonus questions yet). Hopefully the main motivation for you to do this is for your portfolio/resume, not for the 1 point."
   ]
  },
  {
   "cell_type": "markdown",
   "metadata": {},
   "source": []
  },
  {
   "cell_type": "markdown",
   "metadata": {},
   "source": [
    "## Final sanity check\n",
    "\n",
    "- Please revisit the **IMPORTANT NOTE** at the top to make sure you have appropriately cited your code.\n",
    "- Please revisit the **SUBMISSION REQUIREMENT** in Exercise 3 to make sure you have those links in your README.\n",
    "\n",
    "And that's it, you're done with homework assignments for CPSC 330!"
   ]
  }
 ],
 "metadata": {
  "anaconda-cloud": {},
  "kernelspec": {
   "display_name": "Python 3",
   "language": "python",
   "name": "python3"
  },
  "language_info": {
   "codemirror_mode": {
    "name": "ipython",
    "version": 3
   },
   "file_extension": ".py",
   "mimetype": "text/x-python",
   "name": "python",
   "nbconvert_exporter": "python",
   "pygments_lexer": "ipython3",
   "version": "3.7.6"
  },
  "name": "_merged",
  "toc": {
   "colors": {
    "hover_highlight": "#DAA520",
    "navigate_num": "#000000",
    "navigate_text": "#333333",
    "running_highlight": "#FF0000",
    "selected_highlight": "#FFD700",
    "sidebar_border": "#EEEEEE",
    "wrapper_background": "#FFFFFF"
   },
   "moveMenuLeft": true,
   "nav_menu": {
    "height": "438px",
    "width": "252px"
   },
   "navigate_menu": true,
   "number_sections": true,
   "sideBar": true,
   "threshold": 4,
   "toc_cell": false,
   "toc_section_display": "block",
   "toc_window_display": false,
   "widenNotebook": false
  }
 },
 "nbformat": 4,
 "nbformat_minor": 4
}
