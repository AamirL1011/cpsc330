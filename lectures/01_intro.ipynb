{
 "cells": [
  {
   "cell_type": "markdown",
   "metadata": {},
   "source": [
    "# CPSC 330 Lecture 1\n",
    "\n",
    "Instructor: Mike Gelbart"
   ]
  },
  {
   "cell_type": "markdown",
   "metadata": {},
   "source": [
    "Outline:\n",
    "\n",
    "- About this course (30 min)\n",
    "- Survey + Break (10 min)\n",
    "- Python requirements (30 min)"
   ]
  },
  {
   "cell_type": "markdown",
   "metadata": {},
   "source": [
    "## About this course (30 min)\n",
    "\n",
    "#### Most important link\n",
    "\n",
    "https://github.students.cs.ubc.ca/cpsc330-2019w-t2/home\n",
    "\n",
    "Please read everything on there!\n",
    "\n",
    "#### Why CPSC 330?\n",
    "\n",
    "- CPSC 340 has many prerequisites \n",
    "- CPSC 340 goes deeper but has a more narrow scope\n",
    "- This course: if you'll only take one ML course and might need to use a bit of ML at work"
   ]
  },
  {
   "cell_type": "markdown",
   "metadata": {},
   "source": [
    "#### CPSC 330 vs. 340\n",
    "\n",
    "https://github.students.cs.ubc.ca/cpsc330-2019w-t2/home/blob/master/docs/330_vs_340.md\n",
    "\n",
    "#### Registration, waitlist and prerequisites\n",
    "\n",
    "https://github.students.cs.ubc.ca/cpsc330-2019w-t2/home/blob/master/docs/course_info.md#registration\n",
    "\n",
    "Please do not contact me about these issues before reading everything in this document. Even then, I am very unlikely to be able to help with registration, waitlist or prerequisite issues."
   ]
  },
  {
   "cell_type": "markdown",
   "metadata": {},
   "source": [
    "#### Course format\n",
    "\n",
    "- Weekly assignments due Saturday at 6pm.\n",
    "- First assignment due **this Saturday**, Jan 11th, at 6pm (you should have hw repos already).\n",
    "- Students on the waitlist should complete the assignment (otherwise you will get 0 if/when you join the course).\n",
    "- You can work in partners for Homework 2 onward.\n",
    "- Weekly tutorials (optional) run by the TAs.\n",
    "- One midterm, one final.\n",
    "- Homework can be done in partners (except the first one).\n",
    "\n",
    "#### Code of conduct\n",
    "\n",
    "- Our main forum for getting help will be [Piazza](https://piazza.com/class/k1gx4b3djbv3ph).\n",
    "- Please read the entire [document about asking for help](https://github.students.cs.ubc.ca/cpsc330-2019w-t2/home/blob/master/docs/asking_for_help.md).\n",
    "\n",
    "#### Grades\n",
    "\n",
    "The grading breakdown is [here](https://github.students.cs.ubc.ca/cpsc330-2019w-t2/home/blob/master/docs/course_info.md#grading). The policy on challenging grades is [here](https://github.students.cs.ubc.ca/cpsc330-2019w-t2/home/blob/master/docs/grades.md)."
   ]
  },
  {
   "cell_type": "markdown",
   "metadata": {},
   "source": [
    "#### Course tools: Python, git, GitHub\n",
    "\n",
    "- Instructions on course page for [Python](https://github.students.cs.ubc.ca/cpsc330-2019w-t2/home/blob/master/docs/python_info.md) and [git](https://github.students.cs.ubc.ca/cpsc330-2019w-t2/home/blob/master/docs/git_installation.md)."
   ]
  },
  {
   "cell_type": "markdown",
   "metadata": {},
   "source": [
    "#### Lecture and homework format: Jupyter notebooks\n",
    "\n",
    "- This document is a [Jupyter notebook](https://jupyter.org/), with file extension `.ipynb`.\n",
    "- Jupyter notebooks are edited with one of two web apps: Jupyter notebook (older) or Jupyter lab (newer).\n",
    "  - The Python install instructions (above) suggest installing Anaconda, which should include these applications.\n",
    "  - I am using Jupyter lab, but you can use either one.\n",
    "- Jupyter notebooks contain a mix of code, code output, markdown-formatted text (including LaTeX equations), and more.\n",
    "- When you open a Jupyter notebook in one of these apps, the document is \"live\", meaning you can run the code.\n",
    "- For example:"
   ]
  },
  {
   "cell_type": "code",
   "execution_count": 1,
   "metadata": {},
   "outputs": [
    {
     "data": {
      "text/plain": [
       "2"
      ]
     },
     "execution_count": 1,
     "metadata": {},
     "output_type": "execute_result"
    }
   ],
   "source": [
    "1+1"
   ]
  },
  {
   "cell_type": "code",
   "execution_count": 2,
   "metadata": {},
   "outputs": [
    {
     "data": {
      "text/plain": [
       "[9999, 2, 3]"
      ]
     },
     "execution_count": 2,
     "metadata": {},
     "output_type": "execute_result"
    }
   ],
   "source": [
    "x = [1,2,3]\n",
    "x[0] = 9999\n",
    "x"
   ]
  },
  {
   "cell_type": "markdown",
   "metadata": {},
   "source": [
    "- By default, Jupyter prints out the result of the last line of code, so you don't need as many `print` statements.\n",
    "- In addition to the \"live\" notebooks, Jupyter notebooks can be statically rendered in the web browser, e.g. [this](https://github.students.cs.ubc.ca/cpsc330-2019w-t2/home/blob/master/lectures/lecture1.ipynb).\n",
    "  - This can be convenient for quick read-only access, without needing to launch the Jupyter notebook/lab application.\n",
    "  - But you need to launch the app properly to interact with the notebooks.\n",
    "\n"
   ]
  },
  {
   "cell_type": "markdown",
   "metadata": {},
   "source": [
    "#### Lecture style\n",
    "\n",
    "- We'll use lecture videos where available, e.g. from CPSC 340 or the MDS program, to use class time more interactively.\n",
    "- Lots of live coding in Jupyter.\n",
    "- All materials will be posted, no need to photograph anything."
   ]
  },
  {
   "cell_type": "markdown",
   "metadata": {},
   "source": [
    "#### About me\n",
    "\n",
    "- PhD in machine learning (2015), have been teaching at UBC since then (no more research).\n",
    "- Doing some consulting for startups and for a venture capital fund.\n",
    "- Part of the team that created the UBC Master of Data Science (MDS), Co-Director of MDS since 2018.\n",
    "- Have taught CPSC 340 several times.\n",
    "- Designed this course.\n",
    "- Please call me Mike!"
   ]
  },
  {
   "cell_type": "markdown",
   "metadata": {},
   "source": [
    "## Survey + Break (10 min)\n",
    "\n",
    "- We will try to take a 5-minute break half way through every class.\n",
    "- Today, please complete the entry survey on [Canvas](https://canvas.ubc.ca/courses/36014)."
   ]
  },
  {
   "cell_type": "markdown",
   "metadata": {},
   "source": [
    "## Python requirements (30 min)"
   ]
  },
  {
   "cell_type": "markdown",
   "metadata": {},
   "source": [
    "## Prerequisites and Resources (TODO)\n",
    "\n",
    "- Basic Python programming\n",
    "- Numpy\n",
    "- Pandas\n",
    "- Matplotlib\n",
    "- Sparse matrices\n",
    "- Python [videos](https://www.youtube.com/playlist?list=53Q26aQzhknaT3zwWvl7w8wQE) and [notebooks](https://github.com/UBC-MDS/DSCI_511_prog-dsci) \n",
    "- [More Python: numpy and pandas](lectures/02_numpy-pandas.ipynb) \n",
    "- [Numpy quickstart tutorial](https://docs.scipy.org/doc/numpy/user/quickl)\n",
    "- [Learn python3 in Y minutes](https://learnxinyminutes.com/docs/python3/)\n",
    "- https://github.com/UBC-CS/cpsc330/blob/master/lectures/02_numpy-pandas.ipynb"
   ]
  },
  {
   "cell_type": "markdown",
   "metadata": {},
   "source": [
    "## Python lecture videos (5 min)\n"
   ]
  },
  {
   "cell_type": "markdown",
   "metadata": {},
   "source": [
    "- We do not have time to teach all the Python we need.\n",
    "- Some of you will already know Python, others won't.\n",
    "- Homework 1 is all about Python.\n",
    "- For those needing help, I will refer you to videos of me lecturing in the MDS program a few months ago:\n",
    "  - [videos](https://www.youtube.com/playlist?list=PLWmXHcz_53Q26aQzhknaT3zwWvl7w8wQE) (can be sped up, e.g. to 1.25x)\n",
    "  - [notebooks](https://github.com/UBC-MDS/DSCI_511_prog-dsci)\n",
    "  - You are expected to know Python roughly up to lectures 1-3, and the part of lecture 4 about importing. \n",
    "- We will do more Python on Thursday."
   ]
  },
  {
   "cell_type": "code",
   "execution_count": null,
   "metadata": {},
   "outputs": [],
   "source": []
  },
  {
   "cell_type": "markdown",
   "metadata": {},
   "source": [
    "https://github.com/UBC-CS/cpsc330/blob/master/docs/python_reference.ipynb"
   ]
  },
  {
   "cell_type": "code",
   "execution_count": null,
   "metadata": {},
   "outputs": [],
   "source": []
  }
 ],
 "metadata": {
  "kernelspec": {
   "display_name": "Python 3",
   "language": "python",
   "name": "python3"
  },
  "language_info": {
   "codemirror_mode": {
    "name": "ipython",
    "version": 3
   },
   "file_extension": ".py",
   "mimetype": "text/x-python",
   "name": "python",
   "nbconvert_exporter": "python",
   "pygments_lexer": "ipython3",
   "version": "3.7.6"
  }
 },
 "nbformat": 4,
 "nbformat_minor": 4
}
