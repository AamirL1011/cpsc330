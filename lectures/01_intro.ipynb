{
 "cells": [
  {
   "cell_type": "markdown",
   "metadata": {},
   "source": [
    "# CPSC 330 Lecture 1\n",
    "\n",
    "Instructor: Mike Gelbart"
   ]
  },
  {
   "cell_type": "markdown",
   "metadata": {},
   "source": [
    "Outline:\n",
    "\n",
    "- Using Zoom (5 min)\n",
    "- About this course (20 min)\n",
    "- Python requirements/resources (10 min)\n",
    "- Survey + Break (15 min)\n",
    "- Introducing our first dataset (5 min)\n",
    "- Introduction to supervised learning (10 min)\n",
    "- `DummyClassifier` (5 min)\n",
    "- Activity (15 min)"
   ]
  },
  {
   "cell_type": "code",
   "execution_count": 3,
   "metadata": {},
   "outputs": [],
   "source": [
    "import pandas as pd\n",
    "from sklearn.dummy import DummyClassifier"
   ]
  },
  {
   "cell_type": "markdown",
   "metadata": {},
   "source": [
    "## Using Zoom while someone is screensharing (5 min)"
   ]
  },
  {
   "cell_type": "markdown",
   "metadata": {},
   "source": [
    "- When someone is screensharing, Zoom automatically puts you into full screen.\n",
    "- This is annoying most of the time, and I suggest you disable this in settings.\n",
    "- However, for this course you can go into full screen because I will explicity leave you space on the right side. \n",
    "- Please mark \"yes\" in the Participants box to confirm that you have the set up done correctly."
   ]
  },
  {
   "cell_type": "markdown",
   "metadata": {},
   "source": [
    "## About this course (20 min)\n",
    "\n",
    "#### Most important link\n",
    "\n",
    "https://github.com/UBC-CS/cpsc330\n",
    "\n",
    "Please read everything on there!\n",
    "\n",
    "**Syllabus quiz** available on Canvas, due Friday at 11:59pm."
   ]
  },
  {
   "cell_type": "markdown",
   "metadata": {},
   "source": [
    "#### CPSC 330 vs. 340\n",
    "\n",
    "https://github.com/UBC-CS/cpsc330/blob/master/docs/330_vs_340.md\n",
    "\n",
    "TLDR:\n",
    "\n",
    "- CPSC 340 has many prerequisites \n",
    "- CPSC 340 goes deeper but has a more narrow scope\n",
    "- I think CPSC 330 will be more useful if you just plan to apply basic ML"
   ]
  },
  {
   "cell_type": "markdown",
   "metadata": {},
   "source": [
    "#### Registration, waitlist and prerequisites\n",
    "\n",
    "https://github.com/UBC-CS/cpsc330/blob/master/docs/course_info.md#registration\n",
    "\n",
    "Please do not contact me about these issues before reading everything in this document. Even then, I am very unlikely to be able to help with registration, waitlist or prerequisite issues."
   ]
  },
  {
   "cell_type": "markdown",
   "metadata": {},
   "source": [
    "#### Course format\n",
    "\n",
    "- Weekly assignments due Mondays at 6pm.\n",
    "- First assignment due **this coming Monday**, Sep 14th, at 6pm (you should have hw repos already).\n",
    "- You must do the first assignment on your own.\n",
    "- I'm hoping you'll be able to work in partners on subsequent assignments - pending the technology side of things.\n",
    "- Weekly tutorials (optional) run by the TAs.\n",
    "- One midterm, one final (I'm thinking of a \"take-home\" format)."
   ]
  },
  {
   "cell_type": "markdown",
   "metadata": {},
   "source": [
    "#### Code of conduct\n",
    "\n",
    "- Our main forum for getting help will be [Piazza](https://piazza.com/class/kb2e6nwu3uj23).\n",
    "- Please read the entire [document about asking for help](https://github.com/UBC-CS/cpsc330/blob/master/docs/asking_for_help.md).\n",
    "\n",
    "TLDR: be nice.\n",
    "\n",
    "#### Grades\n",
    "\n",
    "The grading breakdown is [here](https://github.com/UBC-CS/cpsc330/blob/master/docs/course_info.md#grading). The policy on challenging grades is [here](https://github.com/UBC-CS/cpsc330/blob/master/docs/grades.md)."
   ]
  },
  {
   "cell_type": "markdown",
   "metadata": {},
   "source": [
    "#### Course tools: Python, git, GitHub\n",
    "\n",
    "- Instructions on course page for [Python](https://github.com/UBC-CS/cpsc330/blob/master/docs/python_info.md) and [git](https://github.com/UBC-CS/cpsc330/blob/master/docs/git_installation.md)."
   ]
  },
  {
   "cell_type": "markdown",
   "metadata": {},
   "source": [
    "#### Lecture and homework format: Jupyter notebooks\n",
    "\n",
    "- This document is a [Jupyter notebook](https://jupyter.org/), with file extension `.ipynb`.\n",
    "- Jupyter notebooks are edited with one of two web apps: Jupyter notebook (older) or Jupyter lab (newer).\n",
    "  - The Python install instructions (above) suggest installing Anaconda, which should include these applications.\n",
    "  - I am using Jupyter lab, some things might not work with the Jupyter notebook application.\n",
    "- Jupyter notebooks contain a mix of code, code output, markdown-formatted text (including LaTeX equations), and more.\n",
    "- When you open a Jupyter notebook in one of these apps, the document is \"live\", meaning you can run the code.\n",
    "- For example:"
   ]
  },
  {
   "cell_type": "code",
   "execution_count": 4,
   "metadata": {},
   "outputs": [
    {
     "data": {
      "text/plain": [
       "2"
      ]
     },
     "execution_count": 4,
     "metadata": {},
     "output_type": "execute_result"
    }
   ],
   "source": [
    "1+1"
   ]
  },
  {
   "cell_type": "code",
   "execution_count": 5,
   "metadata": {},
   "outputs": [
    {
     "data": {
      "text/plain": [
       "[9999, 2, 3]"
      ]
     },
     "execution_count": 5,
     "metadata": {},
     "output_type": "execute_result"
    }
   ],
   "source": [
    "x = [1,2,3]\n",
    "x[0] = 9999\n",
    "x"
   ]
  },
  {
   "cell_type": "markdown",
   "metadata": {},
   "source": [
    "- By default, Jupyter prints out the result of the last line of code, so you don't need as many `print` statements.\n",
    "- In addition to the \"live\" notebooks, Jupyter notebooks can be statically rendered in the web browser, e.g. [this](https://github.com/UBC-CS/cpsc330/blob/master/lectures/01_intro.ipynb).\n",
    "  - This can be convenient for quick read-only access, without needing to launch the Jupyter notebook/lab application.\n",
    "  - But you need to launch the app properly to interact with the notebooks.\n",
    "\n"
   ]
  },
  {
   "cell_type": "markdown",
   "metadata": {},
   "source": [
    "#### Lecture style\n",
    "\n",
    "- Lots of live coding in Jupyter.\n",
    "- All materials will be posted, no need to photograph anything."
   ]
  },
  {
   "cell_type": "markdown",
   "metadata": {},
   "source": [
    "#### About me\n",
    "\n",
    "- PhD in machine learning, have been teaching at UBC since then (no more research).\n",
    "- Doing some consulting for startups and for a venture capital fund.\n",
    "- Part of the team that created the UBC Master of Data Science (MDS), Co-Director of MDS since 2018.\n",
    "- Have taught CPSC 340 several times.\n",
    "- Designed this course, this is my second time teaching it.\n",
    "- Please call me Mike!"
   ]
  },
  {
   "cell_type": "markdown",
   "metadata": {},
   "source": [
    "## Python requirements/resources (10 min)"
   ]
  },
  {
   "cell_type": "markdown",
   "metadata": {},
   "source": [
    "#### Python knowledge you'll need\n",
    "\n",
    "- Basic Python programming\n",
    "- Numpy\n",
    "- Pandas\n",
    "- Matplotlib\n",
    "- Sparse matrices\n"
   ]
  },
  {
   "cell_type": "markdown",
   "metadata": {},
   "source": [
    "#### Python resources\n",
    "\n",
    "- We do not have time to teach all the Python we need.\n",
    "- Some of you will already know Python, others won't.\n",
    "- Homework 1 is all about Python.\n",
    "\n",
    "https://github.com/UBC-CS/cpsc330/blob/master/docs/resources.md"
   ]
  },
  {
   "cell_type": "markdown",
   "metadata": {},
   "source": [
    "## Survey + Break (15 min)\n",
    "\n",
    "- We will try to take a 5-minute break half way through every class.\n",
    "- Today, we'll take a longer break because there are two surveys to complete.\n",
    "- Please complete the anonymous entry survey on Qualtrics [here](https://ubc.ca1.qualtrics.com/jfe/form/SV_6RI7xxxTSlWqeXP).\n",
    "- Also, please complete the anonymous cilantro survey on Qualtrics [here](https://ubc.ca1.qualtrics.com/jfe/form/SV_43egGadpsmKxUuV).\n",
    "  - We wil be analyzing these data set next week in class!!\n",
    "- Click \"Yes\" in the participants box when you are done both surveys."
   ]
  },
  {
   "cell_type": "markdown",
   "metadata": {},
   "source": [
    "## Introducing our first data set (5 min)"
   ]
  },
  {
   "cell_type": "markdown",
   "metadata": {},
   "source": [
    "- This dataset contains longtitude and latitude data for 400 cities in the US\n",
    "- Each city is labelled as `red` or `blue` depending on how they voted in the 2012 election.\n",
    "- The cities data was sampled from (http://simplemaps.com/static/demos/resources/us-cities/cities.csv). The election information was collected from Wikipedia."
   ]
  },
  {
   "cell_type": "markdown",
   "metadata": {},
   "source": [
    "This dataset contains votes (red or blue) for various cities (?) in some past U.S. election."
   ]
  },
  {
   "cell_type": "code",
   "execution_count": 6,
   "metadata": {},
   "outputs": [
    {
     "data": {
      "text/html": [
       "<div>\n",
       "<style scoped>\n",
       "    .dataframe tbody tr th:only-of-type {\n",
       "        vertical-align: middle;\n",
       "    }\n",
       "\n",
       "    .dataframe tbody tr th {\n",
       "        vertical-align: top;\n",
       "    }\n",
       "\n",
       "    .dataframe thead th {\n",
       "        text-align: right;\n",
       "    }\n",
       "</style>\n",
       "<table border=\"1\" class=\"dataframe\">\n",
       "  <thead>\n",
       "    <tr style=\"text-align: right;\">\n",
       "      <th></th>\n",
       "      <th>lon</th>\n",
       "      <th>lat</th>\n",
       "      <th>vote</th>\n",
       "    </tr>\n",
       "  </thead>\n",
       "  <tbody>\n",
       "    <tr>\n",
       "      <th>1</th>\n",
       "      <td>-80.162475</td>\n",
       "      <td>25.692104</td>\n",
       "      <td>blue</td>\n",
       "    </tr>\n",
       "    <tr>\n",
       "      <th>2</th>\n",
       "      <td>-80.214360</td>\n",
       "      <td>25.944083</td>\n",
       "      <td>blue</td>\n",
       "    </tr>\n",
       "    <tr>\n",
       "      <th>3</th>\n",
       "      <td>-80.094133</td>\n",
       "      <td>26.234314</td>\n",
       "      <td>blue</td>\n",
       "    </tr>\n",
       "    <tr>\n",
       "      <th>4</th>\n",
       "      <td>-80.248086</td>\n",
       "      <td>26.291902</td>\n",
       "      <td>blue</td>\n",
       "    </tr>\n",
       "    <tr>\n",
       "      <th>5</th>\n",
       "      <td>-81.789963</td>\n",
       "      <td>26.348035</td>\n",
       "      <td>blue</td>\n",
       "    </tr>\n",
       "    <tr>\n",
       "      <th>...</th>\n",
       "      <td>...</td>\n",
       "      <td>...</td>\n",
       "      <td>...</td>\n",
       "    </tr>\n",
       "    <tr>\n",
       "      <th>396</th>\n",
       "      <td>-97.460476</td>\n",
       "      <td>48.225094</td>\n",
       "      <td>red</td>\n",
       "    </tr>\n",
       "    <tr>\n",
       "      <th>397</th>\n",
       "      <td>-96.551116</td>\n",
       "      <td>48.591592</td>\n",
       "      <td>blue</td>\n",
       "    </tr>\n",
       "    <tr>\n",
       "      <th>398</th>\n",
       "      <td>-166.519855</td>\n",
       "      <td>53.887114</td>\n",
       "      <td>red</td>\n",
       "    </tr>\n",
       "    <tr>\n",
       "      <th>399</th>\n",
       "      <td>-163.733617</td>\n",
       "      <td>67.665859</td>\n",
       "      <td>red</td>\n",
       "    </tr>\n",
       "    <tr>\n",
       "      <th>400</th>\n",
       "      <td>-145.423115</td>\n",
       "      <td>68.077395</td>\n",
       "      <td>red</td>\n",
       "    </tr>\n",
       "  </tbody>\n",
       "</table>\n",
       "<p>400 rows × 3 columns</p>\n",
       "</div>"
      ],
      "text/plain": [
       "            lon        lat  vote\n",
       "1    -80.162475  25.692104  blue\n",
       "2    -80.214360  25.944083  blue\n",
       "3    -80.094133  26.234314  blue\n",
       "4    -80.248086  26.291902  blue\n",
       "5    -81.789963  26.348035  blue\n",
       "..          ...        ...   ...\n",
       "396  -97.460476  48.225094   red\n",
       "397  -96.551116  48.591592  blue\n",
       "398 -166.519855  53.887114   red\n",
       "399 -163.733617  67.665859   red\n",
       "400 -145.423115  68.077395   red\n",
       "\n",
       "[400 rows x 3 columns]"
      ]
     },
     "execution_count": 6,
     "metadata": {},
     "output_type": "execute_result"
    }
   ],
   "source": [
    "df = pd.read_csv('data/cities_USA.csv', index_col=0)\n",
    "df"
   ]
  },
  {
   "cell_type": "code",
   "execution_count": 7,
   "metadata": {},
   "outputs": [
    {
     "data": {
      "image/png": "[encoded data removed]",
      "text/plain": [
       "<Figure size 432x288 with 2 Axes>"
      ]
     },
     "metadata": {
      "needs_background": "light"
     },
     "output_type": "display_data"
    }
   ],
   "source": [
    "df.plot.scatter(x=\"lon\", y=\"lat\", c=\"vote\", alpha=0.3);"
   ]
  },
  {
   "cell_type": "markdown",
   "metadata": {},
   "source": [
    "## Introduction to supervised learning (10 min)"
   ]
  },
  {
   "cell_type": "markdown",
   "metadata": {},
   "source": [
    "- In supervised learning, we have a set of features, $X$, with associated targets, $y$\n",
    "- We wish to find a model function that relates $X$ to $y$\n",
    "- Then use that model function to predict future observations."
   ]
  },
  {
   "cell_type": "markdown",
   "metadata": {},
   "source": [
    "What are $X$ and $y$ here?"
   ]
  },
  {
   "cell_type": "code",
   "execution_count": 8,
   "metadata": {},
   "outputs": [
    {
     "data": {
      "text/html": [
       "<div>\n",
       "<style scoped>\n",
       "    .dataframe tbody tr th:only-of-type {\n",
       "        vertical-align: middle;\n",
       "    }\n",
       "\n",
       "    .dataframe tbody tr th {\n",
       "        vertical-align: top;\n",
       "    }\n",
       "\n",
       "    .dataframe thead th {\n",
       "        text-align: right;\n",
       "    }\n",
       "</style>\n",
       "<table border=\"1\" class=\"dataframe\">\n",
       "  <thead>\n",
       "    <tr style=\"text-align: right;\">\n",
       "      <th></th>\n",
       "      <th>lon</th>\n",
       "      <th>lat</th>\n",
       "    </tr>\n",
       "  </thead>\n",
       "  <tbody>\n",
       "    <tr>\n",
       "      <th>1</th>\n",
       "      <td>-80.162475</td>\n",
       "      <td>25.692104</td>\n",
       "    </tr>\n",
       "    <tr>\n",
       "      <th>2</th>\n",
       "      <td>-80.214360</td>\n",
       "      <td>25.944083</td>\n",
       "    </tr>\n",
       "    <tr>\n",
       "      <th>3</th>\n",
       "      <td>-80.094133</td>\n",
       "      <td>26.234314</td>\n",
       "    </tr>\n",
       "    <tr>\n",
       "      <th>4</th>\n",
       "      <td>-80.248086</td>\n",
       "      <td>26.291902</td>\n",
       "    </tr>\n",
       "    <tr>\n",
       "      <th>5</th>\n",
       "      <td>-81.789963</td>\n",
       "      <td>26.348035</td>\n",
       "    </tr>\n",
       "    <tr>\n",
       "      <th>...</th>\n",
       "      <td>...</td>\n",
       "      <td>...</td>\n",
       "    </tr>\n",
       "    <tr>\n",
       "      <th>396</th>\n",
       "      <td>-97.460476</td>\n",
       "      <td>48.225094</td>\n",
       "    </tr>\n",
       "    <tr>\n",
       "      <th>397</th>\n",
       "      <td>-96.551116</td>\n",
       "      <td>48.591592</td>\n",
       "    </tr>\n",
       "    <tr>\n",
       "      <th>398</th>\n",
       "      <td>-166.519855</td>\n",
       "      <td>53.887114</td>\n",
       "    </tr>\n",
       "    <tr>\n",
       "      <th>399</th>\n",
       "      <td>-163.733617</td>\n",
       "      <td>67.665859</td>\n",
       "    </tr>\n",
       "    <tr>\n",
       "      <th>400</th>\n",
       "      <td>-145.423115</td>\n",
       "      <td>68.077395</td>\n",
       "    </tr>\n",
       "  </tbody>\n",
       "</table>\n",
       "<p>400 rows × 2 columns</p>\n",
       "</div>"
      ],
      "text/plain": [
       "            lon        lat\n",
       "1    -80.162475  25.692104\n",
       "2    -80.214360  25.944083\n",
       "3    -80.094133  26.234314\n",
       "4    -80.248086  26.291902\n",
       "5    -81.789963  26.348035\n",
       "..          ...        ...\n",
       "396  -97.460476  48.225094\n",
       "397  -96.551116  48.591592\n",
       "398 -166.519855  53.887114\n",
       "399 -163.733617  67.665859\n",
       "400 -145.423115  68.077395\n",
       "\n",
       "[400 rows x 2 columns]"
      ]
     },
     "execution_count": 8,
     "metadata": {},
     "output_type": "execute_result"
    }
   ],
   "source": [
    "X = df[[\"lon\", \"lat\"]]\n",
    "X"
   ]
  },
  {
   "cell_type": "code",
   "execution_count": 9,
   "metadata": {},
   "outputs": [
    {
     "data": {
      "text/plain": [
       "1      blue\n",
       "2      blue\n",
       "3      blue\n",
       "4      blue\n",
       "5      blue\n",
       "       ... \n",
       "396     red\n",
       "397    blue\n",
       "398     red\n",
       "399     red\n",
       "400     red\n",
       "Name: vote, Length: 400, dtype: object"
      ]
     },
     "execution_count": 9,
     "metadata": {},
     "output_type": "execute_result"
    }
   ],
   "source": [
    "y = df[\"vote\"]\n",
    "y"
   ]
  },
  {
   "cell_type": "markdown",
   "metadata": {},
   "source": [
    "- Note that $X$ is a 2-dimensional array, whereas $y$ is 1-dimensional."
   ]
  },
  {
   "cell_type": "code",
   "execution_count": 10,
   "metadata": {},
   "outputs": [
    {
     "data": {
      "text/plain": [
       "(400, 2)"
      ]
     },
     "execution_count": 10,
     "metadata": {},
     "output_type": "execute_result"
    }
   ],
   "source": [
    "X.shape"
   ]
  },
  {
   "cell_type": "code",
   "execution_count": 11,
   "metadata": {},
   "outputs": [
    {
     "data": {
      "text/plain": [
       "2"
      ]
     },
     "execution_count": 11,
     "metadata": {},
     "output_type": "execute_result"
    }
   ],
   "source": [
    "X.ndim"
   ]
  },
  {
   "cell_type": "code",
   "execution_count": 12,
   "metadata": {},
   "outputs": [
    {
     "data": {
      "text/plain": [
       "(400,)"
      ]
     },
     "execution_count": 12,
     "metadata": {},
     "output_type": "execute_result"
    }
   ],
   "source": [
    "y.shape"
   ]
  },
  {
   "cell_type": "code",
   "execution_count": 13,
   "metadata": {},
   "outputs": [
    {
     "data": {
      "text/plain": [
       "1"
      ]
     },
     "execution_count": 13,
     "metadata": {},
     "output_type": "execute_result"
    }
   ],
   "source": [
    "y.ndim"
   ]
  },
  {
   "cell_type": "markdown",
   "metadata": {},
   "source": [
    "#### Classification vs Regression\n",
    "- Variables can be characterized as quantitative/numeric or qualitative/categorical\n",
    "- **Classification** = prediction of a categorical target (e.g. red vs. blue)\n",
    "- **Regression** = prediction of a quantitative target (coming later in this course)"
   ]
  },
  {
   "cell_type": "markdown",
   "metadata": {},
   "source": [
    "<img src='img/regr.png' width=\"750\">"
   ]
  },
  {
   "cell_type": "markdown",
   "metadata": {},
   "source": [
    "There is also _unsupervised learning_, which we'll talk about (very briefly) later in the course."
   ]
  },
  {
   "cell_type": "markdown",
   "metadata": {},
   "source": [
    "- For ML we typically work with \"tabular data\".\n",
    "- Rows are examples.\n",
    "- Columns are features (the last column is typically the target)."
   ]
  },
  {
   "cell_type": "markdown",
   "metadata": {},
   "source": [
    "### Terminology\n",
    "- You will see a lot of variable terminology in machine learning and statistics\n",
    "- See the MDS terminology resource [here](https://ubc-mds.github.io/resources_pages/terminology/).\n",
    "\n",
    "Of particular note:\n",
    "\n",
    "- **examples** = rows = samples = records = instances (usually denoted by $n$)\n",
    "- **features** = inputs = predictors = explanatory variables = regressors = independent variables = covariates (usually denoted by $d$)\n",
    "- **targets** = outputs = outcomes = response variable = dependent variable = labels (if categorical).\n",
    "- **training** = learning = fitting"
   ]
  },
  {
   "cell_type": "markdown",
   "metadata": {},
   "source": [
    "## `DummyClassifier` (5 min)"
   ]
  },
  {
   "cell_type": "markdown",
   "metadata": {},
   "source": [
    "- Rule of thumb: start simple.\n",
    "- Simplest classifier: [`DummyClassifier`](https://scikit-learn.org/stable/modules/generated/sklearn.dummy.DummyClassifier.html)."
   ]
  },
  {
   "cell_type": "code",
   "execution_count": 14,
   "metadata": {},
   "outputs": [],
   "source": [
    "# df = pd.read_csv('data/cities_USA.csv', index_col=0)\n",
    "# X = df.drop(columns=['vote'])\n",
    "# y = df['vote']\n",
    "# X_train, X_test, y_train, y_test = train_test_split(X,\n",
    "#                                                     y,\n",
    "#                                                     test_size=0.5,\n",
    "#                                                     random_state=123)"
   ]
  },
  {
   "cell_type": "code",
   "execution_count": 15,
   "metadata": {},
   "outputs": [],
   "source": [
    "from sklearn.dummy import DummyClassifier"
   ]
  },
  {
   "cell_type": "code",
   "execution_count": 16,
   "metadata": {},
   "outputs": [],
   "source": [
    "dc = DummyClassifier(strategy=\"prior\")\n",
    "dc.fit(X, y);"
   ]
  },
  {
   "cell_type": "code",
   "execution_count": 19,
   "metadata": {},
   "outputs": [
    {
     "data": {
      "text/plain": [
       "0.585"
      ]
     },
     "execution_count": 19,
     "metadata": {},
     "output_type": "execute_result"
    }
   ],
   "source": [
    "dc.score(X, y)"
   ]
  },
  {
   "cell_type": "markdown",
   "metadata": {},
   "source": [
    "- What is this doing?\n",
    "- Just picking the most popular class:"
   ]
  },
  {
   "cell_type": "code",
   "execution_count": 20,
   "metadata": {},
   "outputs": [
    {
     "data": {
      "text/plain": [
       "blue    234\n",
       "red     166\n",
       "Name: vote, dtype: int64"
      ]
     },
     "execution_count": 20,
     "metadata": {},
     "output_type": "execute_result"
    }
   ],
   "source": [
    "y.value_counts()"
   ]
  },
  {
   "cell_type": "code",
   "execution_count": 22,
   "metadata": {},
   "outputs": [
    {
     "data": {
      "text/plain": [
       "blue    0.585\n",
       "red     0.415\n",
       "Name: vote, dtype: float64"
      ]
     },
     "execution_count": 22,
     "metadata": {},
     "output_type": "execute_result"
    }
   ],
   "source": [
    "y.value_counts()/len(y)"
   ]
  },
  {
   "cell_type": "markdown",
   "metadata": {},
   "source": [
    "Blue is more common, so just predict blue everywhere:"
   ]
  },
  {
   "cell_type": "code",
   "execution_count": 23,
   "metadata": {},
   "outputs": [
    {
     "data": {
      "text/plain": [
       "array(['blue', 'blue', 'blue', 'blue', 'blue', 'blue', 'blue', 'blue',\n",
       "       'blue', 'blue', 'blue', 'blue', 'blue', 'blue', 'blue', 'blue',\n",
       "       'blue', 'blue', 'blue', 'blue', 'blue', 'blue', 'blue', 'blue',\n",
       "       'blue', 'blue', 'blue', 'blue', 'blue', 'blue', 'blue', 'blue',\n",
       "       'blue', 'blue', 'blue', 'blue', 'blue', 'blue', 'blue', 'blue',\n",
       "       'blue', 'blue', 'blue', 'blue', 'blue', 'blue', 'blue', 'blue',\n",
       "       'blue', 'blue', 'blue', 'blue', 'blue', 'blue', 'blue', 'blue',\n",
       "       'blue', 'blue', 'blue', 'blue', 'blue', 'blue', 'blue', 'blue',\n",
       "       'blue', 'blue', 'blue', 'blue', 'blue', 'blue', 'blue', 'blue',\n",
       "       'blue', 'blue', 'blue', 'blue', 'blue', 'blue', 'blue', 'blue',\n",
       "       'blue', 'blue', 'blue', 'blue', 'blue', 'blue', 'blue', 'blue',\n",
       "       'blue', 'blue', 'blue', 'blue', 'blue', 'blue', 'blue', 'blue',\n",
       "       'blue', 'blue', 'blue', 'blue', 'blue', 'blue', 'blue', 'blue',\n",
       "       'blue', 'blue', 'blue', 'blue', 'blue', 'blue', 'blue', 'blue',\n",
       "       'blue', 'blue', 'blue', 'blue', 'blue', 'blue', 'blue', 'blue',\n",
       "       'blue', 'blue', 'blue', 'blue', 'blue', 'blue', 'blue', 'blue',\n",
       "       'blue', 'blue', 'blue', 'blue', 'blue', 'blue', 'blue', 'blue',\n",
       "       'blue', 'blue', 'blue', 'blue', 'blue', 'blue', 'blue', 'blue',\n",
       "       'blue', 'blue', 'blue', 'blue', 'blue', 'blue', 'blue', 'blue',\n",
       "       'blue', 'blue', 'blue', 'blue', 'blue', 'blue', 'blue', 'blue',\n",
       "       'blue', 'blue', 'blue', 'blue', 'blue', 'blue', 'blue', 'blue',\n",
       "       'blue', 'blue', 'blue', 'blue', 'blue', 'blue', 'blue', 'blue',\n",
       "       'blue', 'blue', 'blue', 'blue', 'blue', 'blue', 'blue', 'blue',\n",
       "       'blue', 'blue', 'blue', 'blue', 'blue', 'blue', 'blue', 'blue',\n",
       "       'blue', 'blue', 'blue', 'blue', 'blue', 'blue', 'blue', 'blue',\n",
       "       'blue', 'blue', 'blue', 'blue', 'blue', 'blue', 'blue', 'blue',\n",
       "       'blue', 'blue', 'blue', 'blue', 'blue', 'blue', 'blue', 'blue',\n",
       "       'blue', 'blue', 'blue', 'blue', 'blue', 'blue', 'blue', 'blue',\n",
       "       'blue', 'blue', 'blue', 'blue', 'blue', 'blue', 'blue', 'blue',\n",
       "       'blue', 'blue', 'blue', 'blue', 'blue', 'blue', 'blue', 'blue',\n",
       "       'blue', 'blue', 'blue', 'blue', 'blue', 'blue', 'blue', 'blue',\n",
       "       'blue', 'blue', 'blue', 'blue', 'blue', 'blue', 'blue', 'blue',\n",
       "       'blue', 'blue', 'blue', 'blue', 'blue', 'blue', 'blue', 'blue',\n",
       "       'blue', 'blue', 'blue', 'blue', 'blue', 'blue', 'blue', 'blue',\n",
       "       'blue', 'blue', 'blue', 'blue', 'blue', 'blue', 'blue', 'blue',\n",
       "       'blue', 'blue', 'blue', 'blue', 'blue', 'blue', 'blue', 'blue',\n",
       "       'blue', 'blue', 'blue', 'blue', 'blue', 'blue', 'blue', 'blue',\n",
       "       'blue', 'blue', 'blue', 'blue', 'blue', 'blue', 'blue', 'blue',\n",
       "       'blue', 'blue', 'blue', 'blue', 'blue', 'blue', 'blue', 'blue',\n",
       "       'blue', 'blue', 'blue', 'blue', 'blue', 'blue', 'blue', 'blue',\n",
       "       'blue', 'blue', 'blue', 'blue', 'blue', 'blue', 'blue', 'blue',\n",
       "       'blue', 'blue', 'blue', 'blue', 'blue', 'blue', 'blue', 'blue',\n",
       "       'blue', 'blue', 'blue', 'blue', 'blue', 'blue', 'blue', 'blue',\n",
       "       'blue', 'blue', 'blue', 'blue', 'blue', 'blue', 'blue', 'blue',\n",
       "       'blue', 'blue', 'blue', 'blue', 'blue', 'blue', 'blue', 'blue',\n",
       "       'blue', 'blue', 'blue', 'blue', 'blue', 'blue', 'blue', 'blue',\n",
       "       'blue', 'blue', 'blue', 'blue', 'blue', 'blue', 'blue', 'blue',\n",
       "       'blue', 'blue', 'blue', 'blue', 'blue', 'blue', 'blue', 'blue',\n",
       "       'blue', 'blue', 'blue', 'blue', 'blue', 'blue', 'blue', 'blue',\n",
       "       'blue', 'blue', 'blue', 'blue', 'blue', 'blue', 'blue', 'blue'],\n",
       "      dtype='<U4')"
      ]
     },
     "execution_count": 23,
     "metadata": {},
     "output_type": "execute_result"
    }
   ],
   "source": [
    "dc.predict(X)"
   ]
  },
  {
   "cell_type": "markdown",
   "metadata": {},
   "source": [
    "## TODO\n",
    "\n",
    "talk about fit/predict"
   ]
  },
  {
   "cell_type": "markdown",
   "metadata": {},
   "source": [
    "## True/False questions (15 min)\n",
    "\n",
    "1. about dummyclassifier and fit/predict"
   ]
  },
  {
   "cell_type": "code",
   "execution_count": null,
   "metadata": {},
   "outputs": [],
   "source": []
  }
 ],
 "metadata": {
  "kernelspec": {
   "display_name": "Python 3",
   "language": "python",
   "name": "python3"
  },
  "language_info": {
   "codemirror_mode": {
    "name": "ipython",
    "version": 3
   },
   "file_extension": ".py",
   "mimetype": "text/x-python",
   "name": "python",
   "nbconvert_exporter": "python",
   "pygments_lexer": "ipython3",
   "version": "3.7.6"
  }
 },
 "nbformat": 4,
 "nbformat_minor": 4
}
