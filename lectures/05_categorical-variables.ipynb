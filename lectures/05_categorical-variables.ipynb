{
 "cells": [
  {
   "cell_type": "markdown",
   "metadata": {
    "slideshow": {
     "slide_type": "slide"
    }
   },
   "source": [
    "# CPSC 330 Lecture 5"
   ]
  },
  {
   "cell_type": "markdown",
   "metadata": {},
   "source": [
    "#### Lecture outline\n",
    "\n",
    "- Announcements\n",
    "- Left over from last class: `C` hyperparameter in `LogisticRegression` (10 min)\n",
    "- Scaling/normalizing continuous features (20 min)\n",
    "- One-hot encoding categorical features (25 min)\n",
    "- Break (5 min)\n",
    "- Another classifier: SVMs (10 min)\n",
    "- Another classifier: random forests (15 min)\n",
    "\n",
    "Piazza:\n",
    "- Random Forest True/False"
   ]
  },
  {
   "cell_type": "code",
   "execution_count": 2,
   "metadata": {
    "slideshow": {
     "slide_type": "skip"
    }
   },
   "outputs": [],
   "source": [
    "import numpy as np\n",
    "import pandas as pd\n",
    "\n",
    "import matplotlib.pyplot as plt\n",
    "%matplotlib inline\n",
    "\n",
    "from sklearn import tree \n",
    "from sklearn.tree import DecisionTreeClassifier\n",
    "from sklearn.model_selection import train_test_split \n",
    "from sklearn.preprocessing import Normalizer, StandardScaler, MinMaxScaler\n",
    "from sklearn.preprocessing import OneHotEncoder, LabelEncoder, OrdinalEncoder\n",
    "from sklearn.linear_model import LogisticRegression\n",
    "from sklearn.svm import SVC, LinearSVC\n",
    "from sklearn.ensemble import RandomForestClassifier\n",
    "from sklearn.datasets import make_blobs\n",
    "from sklearn.compose import ColumnTransformer\n",
    "\n",
    "from plot_classifier import plot_classifier"
   ]
  },
  {
   "cell_type": "markdown",
   "metadata": {},
   "source": [
    "## Announcements\n",
    "\n",
    "- Thanks to those who have filled out the survey on Canvas! \n",
    "  - Please fill out the survey if you haven't already.\n",
    "- Per student feedback, the midterm on Feb 13 will start 11:05 and run for 75 minutes. \n",
    "- hw3 due Sunday at 6pm\n",
    "- Extra office hour on Friday at 9am (Nam) \n",
    "  - This time slot might become permanent, see calendar.\n",
    "- I have to run off after class - please post questions on Piazza."
   ]
  },
  {
   "cell_type": "markdown",
   "metadata": {},
   "source": [
    "High level note: \n",
    "\n",
    "- This is the first time I'm offering CPSC 330. \n",
    "- I'm not sure yet what is a good level of depth\n",
    "  - Am I sweeping too much under the rug? I want you to have some basic understanding of what is going on.\n",
    "  - But I don't want this to be another CPSC 340. I need the extra time to do new things.\n",
    "- Please feel free to give me feedback on this issue throughout the course. \n"
   ]
  },
  {
   "cell_type": "code",
   "execution_count": 3,
   "metadata": {
    "slideshow": {
     "slide_type": "skip"
    }
   },
   "outputs": [],
   "source": [
    "def show_scores(model, \n",
    "                X_train, y_train,\n",
    "                X_valid, y_valid):\n",
    "    \"\"\"\n",
    "    Shows train and test error \n",
    "    Parameters\n",
    "    ----------\n",
    "    model: sklearn classifier model\n",
    "        The sklearn model\n",
    "    X_train: numpy.ndarray        \n",
    "        The X part of the train set\n",
    "    y_train: numpy.ndarray\n",
    "        The y part of the train set    \n",
    "    X_valid: numpy.ndarray        \n",
    "        The X part of the validation set\n",
    "    y_valid: numpy.ndarray\n",
    "        The y part of the validation set    \n",
    "    Returns\n",
    "    -------\n",
    "        None\n",
    "        prints the train and validation errors. \n",
    "    \n",
    "    Usage: show_scores(lr, X_train, y_train, X_test, y_test)\n",
    "    \n",
    "    \"\"\"    \n",
    "#     print('Model: ', model)\n",
    "    print(\"Training error: %.3f\" % (1-model.score(X_train, y_train)))\n",
    "    print(\"Test     error: %.3f\" % (1-model.score(X_valid, y_valid)))\n",
    "#     print('\\n\\n')"
   ]
  },
  {
   "cell_type": "markdown",
   "metadata": {},
   "source": [
    "## Feature normalization/standardization (15 mins)"
   ]
  },
  {
   "cell_type": "code",
   "execution_count": 4,
   "metadata": {},
   "outputs": [
    {
     "data": {
      "image/png": "[encoded data removed]",
      "text/plain": [
       "<Figure size 432x288 with 1 Axes>"
      ]
     },
     "metadata": {
      "needs_background": "light"
     },
     "output_type": "display_data"
    }
   ],
   "source": [
    "n_classes = 2\n",
    "X, y = make_blobs(n_features=2, centers=2, cluster_std=3, random_state=123)\n",
    "\n",
    "plt.scatter(X[:, 0], X[:, 1], marker='o', c=y, s=25, edgecolor='k');"
   ]
  },
  {
   "cell_type": "code",
   "execution_count": 5,
   "metadata": {},
   "outputs": [],
   "source": [
    "X_train, X_test, y_train, y_test = train_test_split(X,\n",
    "                                                    y,\n",
    "                                                    test_size=0.5,\n",
    "                                                    random_state=123)"
   ]
  },
  {
   "cell_type": "code",
   "execution_count": 6,
   "metadata": {},
   "outputs": [
    {
     "name": "stderr",
     "output_type": "stream",
     "text": [
      "/Users/mgelbart/opt/anaconda3/lib/python3.7/site-packages/sklearn/linear_model/logistic.py:432: FutureWarning: Default solver will be changed to 'lbfgs' in 0.22. Specify a solver to silence this warning.\n",
      "  FutureWarning)\n"
     ]
    }
   ],
   "source": [
    "lr = LogisticRegression()\n",
    "lr.fit(X_train, y_train);"
   ]
  },
  {
   "cell_type": "code",
   "execution_count": 7,
   "metadata": {},
   "outputs": [
    {
     "name": "stdout",
     "output_type": "stream",
     "text": [
      "Training error: 0.060\n",
      "Test     error: 0.020\n"
     ]
    }
   ],
   "source": [
    "show_scores(lr, X_train, y_train, X_test, y_test)"
   ]
  },
  {
   "cell_type": "code",
   "execution_count": 8,
   "metadata": {},
   "outputs": [
    {
     "data": {
      "image/png": "[encoded data removed]",
      "text/plain": [
       "<Figure size 432x288 with 1 Axes>"
      ]
     },
     "metadata": {},
     "output_type": "display_data"
    }
   ],
   "source": [
    "plot_classifier(X_test, y_test, lr);"
   ]
  },
  {
   "cell_type": "markdown",
   "metadata": {},
   "source": [
    "- What happens if we scale the first feature by 1/1000?\n",
    "- You could imagine these being distances, and now we've collected one of them in kilometres instead of metres.\n",
    "  - Intuitively, this should not affect the predictive power of our model."
   ]
  },
  {
   "cell_type": "code",
   "execution_count": 9,
   "metadata": {},
   "outputs": [],
   "source": [
    "X_train2 = X_train.copy()\n",
    "X_train2[:,0] /= 1000\n",
    "X_test2 = X_test.copy()\n",
    "X_test2[:,0] /= 1000"
   ]
  },
  {
   "cell_type": "code",
   "execution_count": 10,
   "metadata": {},
   "outputs": [
    {
     "data": {
      "text/plain": [
       "array([[ 1.67741709e-04, -6.19046781e+00],\n",
       "       [-7.73228256e-03,  1.99135511e+00],\n",
       "       [ 6.75679976e-04, -8.36762793e+00],\n",
       "       [-7.10973217e-03, -1.90787774e+00],\n",
       "       [ 1.05471740e-02,  2.28314497e+00],\n",
       "       [-1.33119848e-03,  5.96767459e-01],\n",
       "       [ 4.87219970e-03, -8.25600968e+00],\n",
       "       [-4.87191413e-03, -8.66686964e+00],\n",
       "       [ 3.93792146e-03, -2.21254517e+00],\n",
       "       [-4.54081827e-03, -8.07380639e-01]])"
      ]
     },
     "execution_count": 10,
     "metadata": {},
     "output_type": "execute_result"
    }
   ],
   "source": [
    "X_train2[:10]"
   ]
  },
  {
   "cell_type": "code",
   "execution_count": 11,
   "metadata": {},
   "outputs": [
    {
     "name": "stderr",
     "output_type": "stream",
     "text": [
      "/Users/mgelbart/opt/anaconda3/lib/python3.7/site-packages/sklearn/linear_model/logistic.py:432: FutureWarning: Default solver will be changed to 'lbfgs' in 0.22. Specify a solver to silence this warning.\n",
      "  FutureWarning)\n"
     ]
    }
   ],
   "source": [
    "lr2 = LogisticRegression()\n",
    "lr2.fit(X_train2, y_train);"
   ]
  },
  {
   "cell_type": "code",
   "execution_count": 12,
   "metadata": {},
   "outputs": [
    {
     "name": "stdout",
     "output_type": "stream",
     "text": [
      "Training error: 0.260\n",
      "Test     error: 0.180\n"
     ]
    }
   ],
   "source": [
    "show_scores(lr2, X_train2, y_train, X_test2, y_test)"
   ]
  },
  {
   "cell_type": "markdown",
   "metadata": {},
   "source": [
    "- Note that the test error went up from 2% to 18%!!\n",
    "- Decision trees don't have this problem:"
   ]
  },
  {
   "cell_type": "code",
   "execution_count": 13,
   "metadata": {},
   "outputs": [
    {
     "name": "stdout",
     "output_type": "stream",
     "text": [
      "Training error: 0.000\n",
      "Test     error: 0.040\n"
     ]
    }
   ],
   "source": [
    "dt = DecisionTreeClassifier(random_state=1)\n",
    "dt.fit(X_train, y_train)\n",
    "show_scores(dt, X_train, y_train, X_test, y_test)"
   ]
  },
  {
   "cell_type": "code",
   "execution_count": 14,
   "metadata": {},
   "outputs": [
    {
     "name": "stdout",
     "output_type": "stream",
     "text": [
      "Training error: 0.000\n",
      "Test     error: 0.040\n"
     ]
    }
   ],
   "source": [
    "dt = DecisionTreeClassifier(random_state=1)\n",
    "dt.fit(X_train2, y_train)\n",
    "show_scores(dt, X_train2, y_train, X_test2, y_test)"
   ]
  },
  {
   "cell_type": "markdown",
   "metadata": {},
   "source": [
    "- Hmm, this does worse. What is happening?\n",
    "- Answer: `LogisticRegression` is sensitive to the scaling of the features (especially for small `C`).\n",
    "  - There is an implicit assumption that the different features are on a \"level playing field\".\n",
    "  - Which means if one of them has really small values, it's not being considered much."
   ]
  },
  {
   "cell_type": "code",
   "execution_count": 15,
   "metadata": {},
   "outputs": [
    {
     "data": {
      "image/png": "[encoded data removed]",
      "text/plain": [
       "<Figure size 432x288 with 1 Axes>"
      ]
     },
     "metadata": {},
     "output_type": "display_data"
    }
   ],
   "source": [
    "plot_classifier(X_test2, y_test, lr2, lims=(-.01, .01, -10, 10));"
   ]
  },
  {
   "cell_type": "markdown",
   "metadata": {},
   "source": [
    "- It seems the model is just predicting a horizontal line!\n",
    "- It is worrying that we get such a bad result."
   ]
  },
  {
   "cell_type": "markdown",
   "metadata": {},
   "source": [
    "- This problem affects a large number of ML methods.\n",
    "- Two approaches to this problem are standardization and normalization\n"
   ]
  },
  {
   "cell_type": "markdown",
   "metadata": {},
   "source": [
    "| Approach | What it does | How to update $X$ (but see below!) | sklearn implementation | \n",
    "|---------|------------|-----------------------|----------------|\n",
    "| normalization | sets range to $[0,1]$   | `X -= np.min(X,axis=0)`<br>`X /= np.max(X,axis=0)`  | [`MinMaxScaler()`](https://scikit-learn.org/stable/modules/generated/sklearn.preprocessing.MinMaxScaler.html)\n",
    "| standardization | sets sample mean to $0$, s.d. to $1$   | `X -= np.mean(X,axis=0)`<br>`X /=  np.std(X,axis=0)` | [`StandardScaler()`](https://scikit-learn.org/stable/modules/generated/sklearn.preprocessing.StandardScaler.html#sklearn.preprocessing.StandardScaler) |\n",
    "\n",
    "There are all sorts of articles on this; see, e.g. [here](http://www.dataminingblog.com/standardization-vs-normalization/) and [here](https://medium.com/@rrfd/standardize-or-normalize-examples-in-python-e3f174b65dfc)."
   ]
  },
  {
   "cell_type": "markdown",
   "metadata": {},
   "source": [
    "- Let's see a quick example of using these scaling methods"
   ]
  },
  {
   "cell_type": "code",
   "execution_count": 16,
   "metadata": {},
   "outputs": [],
   "source": [
    "from sklearn.preprocessing import StandardScaler, MinMaxScaler"
   ]
  },
  {
   "cell_type": "code",
   "execution_count": 17,
   "metadata": {},
   "outputs": [],
   "source": [
    "scaler = StandardScaler()\n",
    "scaler.fit(X_train2)\n",
    "X_train2_scaled = scaler.transform(X_train2)\n",
    "X_test2_scaled = scaler.transform(X_test2)"
   ]
  },
  {
   "cell_type": "markdown",
   "metadata": {},
   "source": [
    "- Note the same Golden Rule issue we talked about last class!!\n",
    "- We fit the transformer on the training data, and then transform both data sets."
   ]
  },
  {
   "cell_type": "markdown",
   "metadata": {},
   "source": [
    "Let's check that it did what we expected:"
   ]
  },
  {
   "cell_type": "code",
   "execution_count": 18,
   "metadata": {},
   "outputs": [
    {
     "data": {
      "text/plain": [
       "array([3.10862447e-17, 7.77156117e-17])"
      ]
     },
     "execution_count": 18,
     "metadata": {},
     "output_type": "execute_result"
    }
   ],
   "source": [
    "X_train2_scaled.mean(axis=0)"
   ]
  },
  {
   "cell_type": "code",
   "execution_count": 122,
   "metadata": {},
   "outputs": [
    {
     "data": {
      "text/plain": [
       "array([1., 1.])"
      ]
     },
     "execution_count": 122,
     "metadata": {},
     "output_type": "execute_result"
    }
   ],
   "source": [
    "X_train2_scaled.std(axis=0)"
   ]
  },
  {
   "cell_type": "markdown",
   "metadata": {},
   "source": [
    "Note that for test we get something different - that is OK!!"
   ]
  },
  {
   "cell_type": "code",
   "execution_count": 123,
   "metadata": {},
   "outputs": [
    {
     "data": {
      "text/plain": [
       "array([0.00499913, 0.24599373])"
      ]
     },
     "execution_count": 123,
     "metadata": {},
     "output_type": "execute_result"
    }
   ],
   "source": [
    "X_test2_scaled.mean(axis=0)"
   ]
  },
  {
   "cell_type": "code",
   "execution_count": 124,
   "metadata": {},
   "outputs": [
    {
     "data": {
      "text/plain": [
       "array([1.15537989, 0.92337763])"
      ]
     },
     "execution_count": 124,
     "metadata": {},
     "output_type": "execute_result"
    }
   ],
   "source": [
    "X_test2_scaled.std(axis=0)"
   ]
  },
  {
   "cell_type": "code",
   "execution_count": 125,
   "metadata": {},
   "outputs": [],
   "source": [
    "lr3 = LogisticRegression()\n",
    "lr3.fit(X_train2_scaled, y_train);"
   ]
  },
  {
   "cell_type": "code",
   "execution_count": 126,
   "metadata": {},
   "outputs": [
    {
     "name": "stdout",
     "output_type": "stream",
     "text": [
      "Training error: 0.080\n",
      "Test     error: 0.020\n"
     ]
    }
   ],
   "source": [
    "show_scores(lr3, X_train2_scaled, y_train, X_test2_scaled, y_test)"
   ]
  },
  {
   "cell_type": "code",
   "execution_count": 127,
   "metadata": {},
   "outputs": [
    {
     "data": {
      "image/png": "[encoded data removed]",
      "text/plain": [
       "<Figure size 432x288 with 1 Axes>"
      ]
     },
     "metadata": {
      "needs_background": "light"
     },
     "output_type": "display_data"
    }
   ],
   "source": [
    "plot_classifier(X_test2_scaled, y_test, lr3, ticks=True);"
   ]
  },
  {
   "cell_type": "markdown",
   "metadata": {},
   "source": [
    "Here we got back something reasonable."
   ]
  },
  {
   "cell_type": "code",
   "execution_count": 131,
   "metadata": {},
   "outputs": [],
   "source": [
    "minmax = MinMaxScaler()\n",
    "minmax.fit(X_train2)\n",
    "X_train2_minmax = minmax.transform(X_train2)\n",
    "X_test2_minmax  = minmax.transform(X_test2)"
   ]
  },
  {
   "cell_type": "markdown",
   "metadata": {},
   "source": [
    "Let's again check the results:"
   ]
  },
  {
   "cell_type": "code",
   "execution_count": 132,
   "metadata": {},
   "outputs": [
    {
     "data": {
      "text/plain": [
       "array([0., 0.])"
      ]
     },
     "execution_count": 132,
     "metadata": {},
     "output_type": "execute_result"
    }
   ],
   "source": [
    "X_train2_minmax.min(axis=0)"
   ]
  },
  {
   "cell_type": "code",
   "execution_count": 133,
   "metadata": {},
   "outputs": [
    {
     "data": {
      "text/plain": [
       "array([1., 1.])"
      ]
     },
     "execution_count": 133,
     "metadata": {},
     "output_type": "execute_result"
    }
   ],
   "source": [
    "X_train2_minmax.max(axis=0)"
   ]
  },
  {
   "cell_type": "markdown",
   "metadata": {},
   "source": [
    "And again for test:"
   ]
  },
  {
   "cell_type": "code",
   "execution_count": 137,
   "metadata": {},
   "outputs": [
    {
     "data": {
      "text/plain": [
       "array([0.0060665 , 0.17735288])"
      ]
     },
     "execution_count": 137,
     "metadata": {},
     "output_type": "execute_result"
    }
   ],
   "source": [
    "X_test2_minmax.min(axis=0)"
   ]
  },
  {
   "cell_type": "code",
   "execution_count": 138,
   "metadata": {},
   "outputs": [
    {
     "data": {
      "text/plain": [
       "array([1.02762574, 1.05531983])"
      ]
     },
     "execution_count": 138,
     "metadata": {},
     "output_type": "execute_result"
    }
   ],
   "source": [
    "X_test2_minmax.max(axis=0)"
   ]
  },
  {
   "cell_type": "code",
   "execution_count": 139,
   "metadata": {},
   "outputs": [],
   "source": [
    "lr4 = LogisticRegression()\n",
    "lr4.fit(X_train2_minmax, y_train);"
   ]
  },
  {
   "cell_type": "code",
   "execution_count": 140,
   "metadata": {},
   "outputs": [
    {
     "name": "stdout",
     "output_type": "stream",
     "text": [
      "Training error: 0.080\n",
      "Test     error: 0.040\n"
     ]
    }
   ],
   "source": [
    "show_scores(lr4, X_train2_minmax, y_train, X_test2_minmax, y_test)"
   ]
  },
  {
   "cell_type": "code",
   "execution_count": 141,
   "metadata": {},
   "outputs": [
    {
     "data": {
      "image/png": "[encoded data removed]",
      "text/plain": [
       "<Figure size 432x288 with 1 Axes>"
      ]
     },
     "metadata": {
      "needs_background": "light"
     },
     "output_type": "display_data"
    }
   ],
   "source": [
    "plot_classifier(X_test2_minmax, y_test, lr4, ticks=True, lims=(0, 1.1, -0.01, 1.1));"
   ]
  },
  {
   "cell_type": "markdown",
   "metadata": {},
   "source": [
    "And, again, something reasonable."
   ]
  },
  {
   "cell_type": "markdown",
   "metadata": {},
   "source": [
    "In general, I would guess standardization is more popular, but you see normalization too."
   ]
  },
  {
   "cell_type": "markdown",
   "metadata": {},
   "source": [
    "#### Preprocessing the targets?\n",
    "\n",
    "- Generally not needed, but we sometimes do.\n",
    "- More on this below, with one-hot encoding."
   ]
  },
  {
   "cell_type": "markdown",
   "metadata": {},
   "source": [
    "## Encoding of categorical variables (25 mins)"
   ]
  },
  {
   "cell_type": "markdown",
   "metadata": {},
   "source": [
    "- In scikit-learn, most algorithms require numeric inputs.\n",
    "- That means we have to convert categorical features to numeric values.\n",
    "- We will do this twice: with a toy dataset for illustration, and then with a bigger dataset to compute scores."
   ]
  },
  {
   "cell_type": "markdown",
   "metadata": {},
   "source": [
    "- First dataset: we are looking at the `effect` of different treatment for depression.\n",
    "- We would like to use `age`, `weight`, and `treatment` to predict `effect`."
   ]
  },
  {
   "cell_type": "code",
   "execution_count": 90,
   "metadata": {},
   "outputs": [
    {
     "data": {
      "text/html": [
       "<div>\n",
       "<style scoped>\n",
       "    .dataframe tbody tr th:only-of-type {\n",
       "        vertical-align: middle;\n",
       "    }\n",
       "\n",
       "    .dataframe tbody tr th {\n",
       "        vertical-align: top;\n",
       "    }\n",
       "\n",
       "    .dataframe thead th {\n",
       "        text-align: right;\n",
       "    }\n",
       "</style>\n",
       "<table border=\"1\" class=\"dataframe\">\n",
       "  <thead>\n",
       "    <tr style=\"text-align: right;\">\n",
       "      <th></th>\n",
       "      <th>age</th>\n",
       "      <th>weight</th>\n",
       "      <th>treatment</th>\n",
       "      <th>effect</th>\n",
       "    </tr>\n",
       "  </thead>\n",
       "  <tbody>\n",
       "    <tr>\n",
       "      <td>0</td>\n",
       "      <td>21</td>\n",
       "      <td>57.8</td>\n",
       "      <td>A</td>\n",
       "      <td>56</td>\n",
       "    </tr>\n",
       "    <tr>\n",
       "      <td>1</td>\n",
       "      <td>23</td>\n",
       "      <td>60.3</td>\n",
       "      <td>B</td>\n",
       "      <td>41</td>\n",
       "    </tr>\n",
       "    <tr>\n",
       "      <td>2</td>\n",
       "      <td>30</td>\n",
       "      <td>60.5</td>\n",
       "      <td>B</td>\n",
       "      <td>40</td>\n",
       "    </tr>\n",
       "    <tr>\n",
       "      <td>3</td>\n",
       "      <td>19</td>\n",
       "      <td>38.7</td>\n",
       "      <td>C</td>\n",
       "      <td>28</td>\n",
       "    </tr>\n",
       "    <tr>\n",
       "      <td>4</td>\n",
       "      <td>28</td>\n",
       "      <td>96.5</td>\n",
       "      <td>A</td>\n",
       "      <td>55</td>\n",
       "    </tr>\n",
       "  </tbody>\n",
       "</table>\n",
       "</div>"
      ],
      "text/plain": [
       "   age  weight treatment  effect\n",
       "0   21    57.8         A      56\n",
       "1   23    60.3         B      41\n",
       "2   30    60.5         B      40\n",
       "3   19    38.7         C      28\n",
       "4   28    96.5         A      55"
      ]
     },
     "execution_count": 90,
     "metadata": {},
     "output_type": "execute_result"
    }
   ],
   "source": [
    "df = pd.read_csv('data/depression_data.csv')\n",
    "df.head()"
   ]
  },
  {
   "cell_type": "code",
   "execution_count": 91,
   "metadata": {},
   "outputs": [],
   "source": [
    "X = df[['age', 'weight', 'treatment']]\n",
    "y = df['effect'] "
   ]
  },
  {
   "cell_type": "markdown",
   "metadata": {},
   "source": [
    "- Let's try to build a `LogisticRegression` classifier on this data?\n",
    "- This will fail because we have non-numeric data."
   ]
  },
  {
   "cell_type": "code",
   "execution_count": 92,
   "metadata": {},
   "outputs": [
    {
     "name": "stderr",
     "output_type": "stream",
     "text": [
      "/Users/mgelbart/opt/anaconda3/lib/python3.7/site-packages/sklearn/linear_model/logistic.py:432: FutureWarning: Default solver will be changed to 'lbfgs' in 0.22. Specify a solver to silence this warning.\n",
      "  FutureWarning)\n"
     ]
    },
    {
     "ename": "ValueError",
     "evalue": "could not convert string to float: 'C'",
     "output_type": "error",
     "traceback": [
      "\u001b[0;31m---------------------------------------------------------------------------\u001b[0m",
      "\u001b[0;31mValueError\u001b[0m                                Traceback (most recent call last)",
      "\u001b[0;32m<ipython-input-92-dfa880050199>\u001b[0m in \u001b[0;36m<module>\u001b[0;34m\u001b[0m\n\u001b[1;32m      1\u001b[0m \u001b[0mlr\u001b[0m \u001b[0;34m=\u001b[0m \u001b[0mLogisticRegression\u001b[0m\u001b[0;34m(\u001b[0m\u001b[0;34m)\u001b[0m\u001b[0;34m\u001b[0m\u001b[0;34m\u001b[0m\u001b[0m\n\u001b[0;32m----> 2\u001b[0;31m \u001b[0mlr\u001b[0m\u001b[0;34m.\u001b[0m\u001b[0mfit\u001b[0m\u001b[0;34m(\u001b[0m\u001b[0mX\u001b[0m\u001b[0;34m,\u001b[0m \u001b[0my\u001b[0m\u001b[0;34m)\u001b[0m\u001b[0;34m\u001b[0m\u001b[0;34m\u001b[0m\u001b[0m\n\u001b[0m",
      "\u001b[0;32m~/opt/anaconda3/lib/python3.7/site-packages/sklearn/linear_model/logistic.py\u001b[0m in \u001b[0;36mfit\u001b[0;34m(self, X, y, sample_weight)\u001b[0m\n\u001b[1;32m   1530\u001b[0m \u001b[0;34m\u001b[0m\u001b[0m\n\u001b[1;32m   1531\u001b[0m         X, y = check_X_y(X, y, accept_sparse='csr', dtype=_dtype, order=\"C\",\n\u001b[0;32m-> 1532\u001b[0;31m                          accept_large_sparse=solver != 'liblinear')\n\u001b[0m\u001b[1;32m   1533\u001b[0m         \u001b[0mcheck_classification_targets\u001b[0m\u001b[0;34m(\u001b[0m\u001b[0my\u001b[0m\u001b[0;34m)\u001b[0m\u001b[0;34m\u001b[0m\u001b[0;34m\u001b[0m\u001b[0m\n\u001b[1;32m   1534\u001b[0m         \u001b[0mself\u001b[0m\u001b[0;34m.\u001b[0m\u001b[0mclasses_\u001b[0m \u001b[0;34m=\u001b[0m \u001b[0mnp\u001b[0m\u001b[0;34m.\u001b[0m\u001b[0munique\u001b[0m\u001b[0;34m(\u001b[0m\u001b[0my\u001b[0m\u001b[0;34m)\u001b[0m\u001b[0;34m\u001b[0m\u001b[0;34m\u001b[0m\u001b[0m\n",
      "\u001b[0;32m~/opt/anaconda3/lib/python3.7/site-packages/sklearn/utils/validation.py\u001b[0m in \u001b[0;36mcheck_X_y\u001b[0;34m(X, y, accept_sparse, accept_large_sparse, dtype, order, copy, force_all_finite, ensure_2d, allow_nd, multi_output, ensure_min_samples, ensure_min_features, y_numeric, warn_on_dtype, estimator)\u001b[0m\n\u001b[1;32m    717\u001b[0m                     \u001b[0mensure_min_features\u001b[0m\u001b[0;34m=\u001b[0m\u001b[0mensure_min_features\u001b[0m\u001b[0;34m,\u001b[0m\u001b[0;34m\u001b[0m\u001b[0;34m\u001b[0m\u001b[0m\n\u001b[1;32m    718\u001b[0m                     \u001b[0mwarn_on_dtype\u001b[0m\u001b[0;34m=\u001b[0m\u001b[0mwarn_on_dtype\u001b[0m\u001b[0;34m,\u001b[0m\u001b[0;34m\u001b[0m\u001b[0;34m\u001b[0m\u001b[0m\n\u001b[0;32m--> 719\u001b[0;31m                     estimator=estimator)\n\u001b[0m\u001b[1;32m    720\u001b[0m     \u001b[0;32mif\u001b[0m \u001b[0mmulti_output\u001b[0m\u001b[0;34m:\u001b[0m\u001b[0;34m\u001b[0m\u001b[0;34m\u001b[0m\u001b[0m\n\u001b[1;32m    721\u001b[0m         y = check_array(y, 'csr', force_all_finite=True, ensure_2d=False,\n",
      "\u001b[0;32m~/opt/anaconda3/lib/python3.7/site-packages/sklearn/utils/validation.py\u001b[0m in \u001b[0;36mcheck_array\u001b[0;34m(array, accept_sparse, accept_large_sparse, dtype, order, copy, force_all_finite, ensure_2d, allow_nd, ensure_min_samples, ensure_min_features, warn_on_dtype, estimator)\u001b[0m\n\u001b[1;32m    494\u001b[0m             \u001b[0;32mtry\u001b[0m\u001b[0;34m:\u001b[0m\u001b[0;34m\u001b[0m\u001b[0;34m\u001b[0m\u001b[0m\n\u001b[1;32m    495\u001b[0m                 \u001b[0mwarnings\u001b[0m\u001b[0;34m.\u001b[0m\u001b[0msimplefilter\u001b[0m\u001b[0;34m(\u001b[0m\u001b[0;34m'error'\u001b[0m\u001b[0;34m,\u001b[0m \u001b[0mComplexWarning\u001b[0m\u001b[0;34m)\u001b[0m\u001b[0;34m\u001b[0m\u001b[0;34m\u001b[0m\u001b[0m\n\u001b[0;32m--> 496\u001b[0;31m                 \u001b[0marray\u001b[0m \u001b[0;34m=\u001b[0m \u001b[0mnp\u001b[0m\u001b[0;34m.\u001b[0m\u001b[0masarray\u001b[0m\u001b[0;34m(\u001b[0m\u001b[0marray\u001b[0m\u001b[0;34m,\u001b[0m \u001b[0mdtype\u001b[0m\u001b[0;34m=\u001b[0m\u001b[0mdtype\u001b[0m\u001b[0;34m,\u001b[0m \u001b[0morder\u001b[0m\u001b[0;34m=\u001b[0m\u001b[0morder\u001b[0m\u001b[0;34m)\u001b[0m\u001b[0;34m\u001b[0m\u001b[0;34m\u001b[0m\u001b[0m\n\u001b[0m\u001b[1;32m    497\u001b[0m             \u001b[0;32mexcept\u001b[0m \u001b[0mComplexWarning\u001b[0m\u001b[0;34m:\u001b[0m\u001b[0;34m\u001b[0m\u001b[0;34m\u001b[0m\u001b[0m\n\u001b[1;32m    498\u001b[0m                 raise ValueError(\"Complex data not supported\\n\"\n",
      "\u001b[0;32m~/opt/anaconda3/lib/python3.7/site-packages/numpy/core/_asarray.py\u001b[0m in \u001b[0;36masarray\u001b[0;34m(a, dtype, order)\u001b[0m\n\u001b[1;32m     83\u001b[0m \u001b[0;34m\u001b[0m\u001b[0m\n\u001b[1;32m     84\u001b[0m     \"\"\"\n\u001b[0;32m---> 85\u001b[0;31m     \u001b[0;32mreturn\u001b[0m \u001b[0marray\u001b[0m\u001b[0;34m(\u001b[0m\u001b[0ma\u001b[0m\u001b[0;34m,\u001b[0m \u001b[0mdtype\u001b[0m\u001b[0;34m,\u001b[0m \u001b[0mcopy\u001b[0m\u001b[0;34m=\u001b[0m\u001b[0;32mFalse\u001b[0m\u001b[0;34m,\u001b[0m \u001b[0morder\u001b[0m\u001b[0;34m=\u001b[0m\u001b[0morder\u001b[0m\u001b[0;34m)\u001b[0m\u001b[0;34m\u001b[0m\u001b[0;34m\u001b[0m\u001b[0m\n\u001b[0m\u001b[1;32m     86\u001b[0m \u001b[0;34m\u001b[0m\u001b[0m\n\u001b[1;32m     87\u001b[0m \u001b[0;34m\u001b[0m\u001b[0m\n",
      "\u001b[0;31mValueError\u001b[0m: could not convert string to float: 'C'"
     ]
    }
   ],
   "source": [
    "lr = LogisticRegression()\n",
    "lr.fit(X, y)"
   ]
  },
  {
   "cell_type": "markdown",
   "metadata": {},
   "source": [
    "#### No encoding (not recommended!)\n",
    "\n",
    "- For starters, let's just delete the categorical feature."
   ]
  },
  {
   "cell_type": "code",
   "execution_count": 93,
   "metadata": {},
   "outputs": [
    {
     "data": {
      "text/html": [
       "<div>\n",
       "<style scoped>\n",
       "    .dataframe tbody tr th:only-of-type {\n",
       "        vertical-align: middle;\n",
       "    }\n",
       "\n",
       "    .dataframe tbody tr th {\n",
       "        vertical-align: top;\n",
       "    }\n",
       "\n",
       "    .dataframe thead th {\n",
       "        text-align: right;\n",
       "    }\n",
       "</style>\n",
       "<table border=\"1\" class=\"dataframe\">\n",
       "  <thead>\n",
       "    <tr style=\"text-align: right;\">\n",
       "      <th></th>\n",
       "      <th>age</th>\n",
       "      <th>weight</th>\n",
       "    </tr>\n",
       "  </thead>\n",
       "  <tbody>\n",
       "    <tr>\n",
       "      <td>0</td>\n",
       "      <td>21</td>\n",
       "      <td>57.8</td>\n",
       "    </tr>\n",
       "    <tr>\n",
       "      <td>1</td>\n",
       "      <td>23</td>\n",
       "      <td>60.3</td>\n",
       "    </tr>\n",
       "    <tr>\n",
       "      <td>2</td>\n",
       "      <td>30</td>\n",
       "      <td>60.5</td>\n",
       "    </tr>\n",
       "    <tr>\n",
       "      <td>3</td>\n",
       "      <td>19</td>\n",
       "      <td>38.7</td>\n",
       "    </tr>\n",
       "    <tr>\n",
       "      <td>4</td>\n",
       "      <td>28</td>\n",
       "      <td>96.5</td>\n",
       "    </tr>\n",
       "  </tbody>\n",
       "</table>\n",
       "</div>"
      ],
      "text/plain": [
       "   age  weight\n",
       "0   21    57.8\n",
       "1   23    60.3\n",
       "2   30    60.5\n",
       "3   19    38.7\n",
       "4   28    96.5"
      ]
     },
     "execution_count": 93,
     "metadata": {},
     "output_type": "execute_result"
    }
   ],
   "source": [
    "X_drop = X.drop(columns=[\"treatment\"])\n",
    "X_drop.head()"
   ]
  },
  {
   "cell_type": "markdown",
   "metadata": {},
   "source": [
    "#### Ordinal encoding (occasionally recommended)\n",
    "\n",
    "- Here we simply assign an integer to each of our unique categorical labels\n",
    "- We can use sklearn's [`OrdinalEncoder`](https://scikit-learn.org/stable/modules/generated/sklearn.preprocessing.OrdinalEncoder.html)."
   ]
  },
  {
   "cell_type": "code",
   "execution_count": 95,
   "metadata": {},
   "outputs": [],
   "source": [
    "from sklearn.preprocessing import OrdinalEncoder"
   ]
  },
  {
   "cell_type": "code",
   "execution_count": 108,
   "metadata": {},
   "outputs": [
    {
     "data": {
      "text/html": [
       "<div>\n",
       "<style scoped>\n",
       "    .dataframe tbody tr th:only-of-type {\n",
       "        vertical-align: middle;\n",
       "    }\n",
       "\n",
       "    .dataframe tbody tr th {\n",
       "        vertical-align: top;\n",
       "    }\n",
       "\n",
       "    .dataframe thead th {\n",
       "        text-align: right;\n",
       "    }\n",
       "</style>\n",
       "<table border=\"1\" class=\"dataframe\">\n",
       "  <thead>\n",
       "    <tr style=\"text-align: right;\">\n",
       "      <th></th>\n",
       "      <th>age</th>\n",
       "      <th>weight</th>\n",
       "      <th>treatment</th>\n",
       "      <th>treatment_encoded</th>\n",
       "    </tr>\n",
       "  </thead>\n",
       "  <tbody>\n",
       "    <tr>\n",
       "      <td>0</td>\n",
       "      <td>21</td>\n",
       "      <td>57.8</td>\n",
       "      <td>A</td>\n",
       "      <td>0</td>\n",
       "    </tr>\n",
       "    <tr>\n",
       "      <td>1</td>\n",
       "      <td>23</td>\n",
       "      <td>60.3</td>\n",
       "      <td>B</td>\n",
       "      <td>1</td>\n",
       "    </tr>\n",
       "    <tr>\n",
       "      <td>2</td>\n",
       "      <td>30</td>\n",
       "      <td>60.5</td>\n",
       "      <td>B</td>\n",
       "      <td>1</td>\n",
       "    </tr>\n",
       "    <tr>\n",
       "      <td>3</td>\n",
       "      <td>19</td>\n",
       "      <td>38.7</td>\n",
       "      <td>C</td>\n",
       "      <td>2</td>\n",
       "    </tr>\n",
       "    <tr>\n",
       "      <td>4</td>\n",
       "      <td>28</td>\n",
       "      <td>96.5</td>\n",
       "      <td>A</td>\n",
       "      <td>0</td>\n",
       "    </tr>\n",
       "  </tbody>\n",
       "</table>\n",
       "</div>"
      ],
      "text/plain": [
       "   age  weight treatment  treatment_encoded\n",
       "0   21    57.8         A                  0\n",
       "1   23    60.3         B                  1\n",
       "2   30    60.5         B                  1\n",
       "3   19    38.7         C                  2\n",
       "4   28    96.5         A                  0"
      ]
     },
     "execution_count": 108,
     "metadata": {},
     "output_type": "execute_result"
    }
   ],
   "source": [
    "oe = OrdinalEncoder(dtype='int')\n",
    "oe.fit(X[['treatment']])\n",
    "\n",
    "X_ord = X.copy()\n",
    "X_ord['treatment_encoded'] = oe.transform(X[['treatment']])\n",
    "X_ord.head()"
   ]
  },
  {
   "cell_type": "code",
   "execution_count": 109,
   "metadata": {},
   "outputs": [
    {
     "data": {
      "text/html": [
       "<div>\n",
       "<style scoped>\n",
       "    .dataframe tbody tr th:only-of-type {\n",
       "        vertical-align: middle;\n",
       "    }\n",
       "\n",
       "    .dataframe tbody tr th {\n",
       "        vertical-align: top;\n",
       "    }\n",
       "\n",
       "    .dataframe thead th {\n",
       "        text-align: right;\n",
       "    }\n",
       "</style>\n",
       "<table border=\"1\" class=\"dataframe\">\n",
       "  <thead>\n",
       "    <tr style=\"text-align: right;\">\n",
       "      <th></th>\n",
       "      <th>age</th>\n",
       "      <th>weight</th>\n",
       "      <th>treatment_encoded</th>\n",
       "    </tr>\n",
       "  </thead>\n",
       "  <tbody>\n",
       "    <tr>\n",
       "      <td>0</td>\n",
       "      <td>21</td>\n",
       "      <td>57.8</td>\n",
       "      <td>0</td>\n",
       "    </tr>\n",
       "    <tr>\n",
       "      <td>1</td>\n",
       "      <td>23</td>\n",
       "      <td>60.3</td>\n",
       "      <td>1</td>\n",
       "    </tr>\n",
       "    <tr>\n",
       "      <td>2</td>\n",
       "      <td>30</td>\n",
       "      <td>60.5</td>\n",
       "      <td>1</td>\n",
       "    </tr>\n",
       "    <tr>\n",
       "      <td>3</td>\n",
       "      <td>19</td>\n",
       "      <td>38.7</td>\n",
       "      <td>2</td>\n",
       "    </tr>\n",
       "    <tr>\n",
       "      <td>4</td>\n",
       "      <td>28</td>\n",
       "      <td>96.5</td>\n",
       "      <td>0</td>\n",
       "    </tr>\n",
       "  </tbody>\n",
       "</table>\n",
       "</div>"
      ],
      "text/plain": [
       "   age  weight  treatment_encoded\n",
       "0   21    57.8                  0\n",
       "1   23    60.3                  1\n",
       "2   30    60.5                  1\n",
       "3   19    38.7                  2\n",
       "4   28    96.5                  0"
      ]
     },
     "execution_count": 109,
     "metadata": {},
     "output_type": "execute_result"
    }
   ],
   "source": [
    "X_ord = X_ord.drop(columns='treatment')\n",
    "X_ord.head()"
   ]
  },
  {
   "cell_type": "markdown",
   "metadata": {},
   "source": [
    "- Can you see a big problem with this approach?\n",
    "  - We have imposed ordinality on the categorical data.\n",
    "  - For example, Treatment C (3) is \"closer\" to Treatment B (2) than Treatment A (1)\n",
    "  - In general, label encoding is useful if there is ordinality in your data, e.g., `[cold, warm, hot]`."
   ]
  },
  {
   "cell_type": "markdown",
   "metadata": {},
   "source": [
    "#### One-hot encoding (OHE)\n",
    "- Rather than assign integer labels to our data, we use create new binary columns to represent our categories.\n",
    "- If we have $c$ categories in our column.\n",
    "- We create $c$ new binary columns to represent those categories.\n",
    "- We can use sklearn's [`OneHotEncoder`](https://scikit-learn.org/stable/modules/generated/sklearn.preprocessing.OneHotEncoder.html)."
   ]
  },
  {
   "cell_type": "code",
   "execution_count": 110,
   "metadata": {},
   "outputs": [],
   "source": [
    "from sklearn.preprocessing import OneHotEncoder"
   ]
  },
  {
   "cell_type": "code",
   "execution_count": 111,
   "metadata": {},
   "outputs": [],
   "source": [
    "ohe = OneHotEncoder(sparse=False, dtype='int')"
   ]
  },
  {
   "cell_type": "code",
   "execution_count": 112,
   "metadata": {},
   "outputs": [
    {
     "data": {
      "text/html": [
       "<div>\n",
       "<style scoped>\n",
       "    .dataframe tbody tr th:only-of-type {\n",
       "        vertical-align: middle;\n",
       "    }\n",
       "\n",
       "    .dataframe tbody tr th {\n",
       "        vertical-align: top;\n",
       "    }\n",
       "\n",
       "    .dataframe thead th {\n",
       "        text-align: right;\n",
       "    }\n",
       "</style>\n",
       "<table border=\"1\" class=\"dataframe\">\n",
       "  <thead>\n",
       "    <tr style=\"text-align: right;\">\n",
       "      <th></th>\n",
       "      <th>age</th>\n",
       "      <th>weight</th>\n",
       "      <th>treatment</th>\n",
       "      <th>A</th>\n",
       "      <th>B</th>\n",
       "      <th>C</th>\n",
       "    </tr>\n",
       "  </thead>\n",
       "  <tbody>\n",
       "    <tr>\n",
       "      <td>0</td>\n",
       "      <td>21</td>\n",
       "      <td>57.8</td>\n",
       "      <td>A</td>\n",
       "      <td>1</td>\n",
       "      <td>0</td>\n",
       "      <td>0</td>\n",
       "    </tr>\n",
       "    <tr>\n",
       "      <td>1</td>\n",
       "      <td>23</td>\n",
       "      <td>60.3</td>\n",
       "      <td>B</td>\n",
       "      <td>0</td>\n",
       "      <td>1</td>\n",
       "      <td>0</td>\n",
       "    </tr>\n",
       "    <tr>\n",
       "      <td>2</td>\n",
       "      <td>30</td>\n",
       "      <td>60.5</td>\n",
       "      <td>B</td>\n",
       "      <td>0</td>\n",
       "      <td>1</td>\n",
       "      <td>0</td>\n",
       "    </tr>\n",
       "    <tr>\n",
       "      <td>3</td>\n",
       "      <td>19</td>\n",
       "      <td>38.7</td>\n",
       "      <td>C</td>\n",
       "      <td>0</td>\n",
       "      <td>0</td>\n",
       "      <td>1</td>\n",
       "    </tr>\n",
       "    <tr>\n",
       "      <td>4</td>\n",
       "      <td>28</td>\n",
       "      <td>96.5</td>\n",
       "      <td>A</td>\n",
       "      <td>1</td>\n",
       "      <td>0</td>\n",
       "      <td>0</td>\n",
       "    </tr>\n",
       "  </tbody>\n",
       "</table>\n",
       "</div>"
      ],
      "text/plain": [
       "   age  weight treatment  A  B  C\n",
       "0   21    57.8         A  1  0  0\n",
       "1   23    60.3         B  0  1  0\n",
       "2   30    60.5         B  0  1  0\n",
       "3   19    38.7         C  0  0  1\n",
       "4   28    96.5         A  1  0  0"
      ]
     },
     "execution_count": 112,
     "metadata": {},
     "output_type": "execute_result"
    }
   ],
   "source": [
    "ohe.fit(X[['treatment']])\n",
    "\n",
    "X_ohe = pd.concat((X, pd.DataFrame(ohe.transform(X[['treatment']]),\n",
    "                           columns=ohe.categories_[0], index=X.index)), axis=1)\n",
    "X_ohe.head()"
   ]
  },
  {
   "cell_type": "markdown",
   "metadata": {},
   "source": [
    "- We put a \"1\" for the actual value and \"0\" otherwise.\n",
    "- But in fact, do we need all 3 columns?\n",
    "  - After all, if `B` is 0 and `C` is 0, then `A` must be 1, right?\n",
    "  - So, we drop one of the columns (usually the first one by convention).\n",
    "- We can specify this in `OneHotEncoder()` by using the argument `drop='first'`"
   ]
  },
  {
   "cell_type": "code",
   "execution_count": 117,
   "metadata": {},
   "outputs": [
    {
     "data": {
      "text/html": [
       "<div>\n",
       "<style scoped>\n",
       "    .dataframe tbody tr th:only-of-type {\n",
       "        vertical-align: middle;\n",
       "    }\n",
       "\n",
       "    .dataframe tbody tr th {\n",
       "        vertical-align: top;\n",
       "    }\n",
       "\n",
       "    .dataframe thead th {\n",
       "        text-align: right;\n",
       "    }\n",
       "</style>\n",
       "<table border=\"1\" class=\"dataframe\">\n",
       "  <thead>\n",
       "    <tr style=\"text-align: right;\">\n",
       "      <th></th>\n",
       "      <th>age</th>\n",
       "      <th>weight</th>\n",
       "      <th>treatment</th>\n",
       "      <th>B</th>\n",
       "      <th>C</th>\n",
       "    </tr>\n",
       "  </thead>\n",
       "  <tbody>\n",
       "    <tr>\n",
       "      <td>0</td>\n",
       "      <td>21</td>\n",
       "      <td>57.8</td>\n",
       "      <td>A</td>\n",
       "      <td>0</td>\n",
       "      <td>0</td>\n",
       "    </tr>\n",
       "    <tr>\n",
       "      <td>1</td>\n",
       "      <td>23</td>\n",
       "      <td>60.3</td>\n",
       "      <td>B</td>\n",
       "      <td>1</td>\n",
       "      <td>0</td>\n",
       "    </tr>\n",
       "    <tr>\n",
       "      <td>2</td>\n",
       "      <td>30</td>\n",
       "      <td>60.5</td>\n",
       "      <td>B</td>\n",
       "      <td>1</td>\n",
       "      <td>0</td>\n",
       "    </tr>\n",
       "    <tr>\n",
       "      <td>3</td>\n",
       "      <td>19</td>\n",
       "      <td>38.7</td>\n",
       "      <td>C</td>\n",
       "      <td>0</td>\n",
       "      <td>1</td>\n",
       "    </tr>\n",
       "    <tr>\n",
       "      <td>4</td>\n",
       "      <td>28</td>\n",
       "      <td>96.5</td>\n",
       "      <td>A</td>\n",
       "      <td>0</td>\n",
       "      <td>0</td>\n",
       "    </tr>\n",
       "  </tbody>\n",
       "</table>\n",
       "</div>"
      ],
      "text/plain": [
       "   age  weight treatment  B  C\n",
       "0   21    57.8         A  0  0\n",
       "1   23    60.3         B  1  0\n",
       "2   30    60.5         B  1  0\n",
       "3   19    38.7         C  0  1\n",
       "4   28    96.5         A  0  0"
      ]
     },
     "execution_count": 117,
     "metadata": {},
     "output_type": "execute_result"
    }
   ],
   "source": [
    "ohe = OneHotEncoder(drop='first', sparse=False, dtype='int')\n",
    "\n",
    "ohe.fit(X[['treatment']])\n",
    "\n",
    "X_ohe = pd.concat((X, pd.DataFrame(ohe.transform(X[['treatment']]),\n",
    "                           columns=ohe.categories_[0][1:], index=X.index)), axis=1)\n",
    "X_ohe.head()"
   ]
  },
  {
   "cell_type": "code",
   "execution_count": 118,
   "metadata": {},
   "outputs": [
    {
     "data": {
      "text/html": [
       "<div>\n",
       "<style scoped>\n",
       "    .dataframe tbody tr th:only-of-type {\n",
       "        vertical-align: middle;\n",
       "    }\n",
       "\n",
       "    .dataframe tbody tr th {\n",
       "        vertical-align: top;\n",
       "    }\n",
       "\n",
       "    .dataframe thead th {\n",
       "        text-align: right;\n",
       "    }\n",
       "</style>\n",
       "<table border=\"1\" class=\"dataframe\">\n",
       "  <thead>\n",
       "    <tr style=\"text-align: right;\">\n",
       "      <th></th>\n",
       "      <th>age</th>\n",
       "      <th>weight</th>\n",
       "      <th>B</th>\n",
       "      <th>C</th>\n",
       "    </tr>\n",
       "  </thead>\n",
       "  <tbody>\n",
       "    <tr>\n",
       "      <td>0</td>\n",
       "      <td>21</td>\n",
       "      <td>57.8</td>\n",
       "      <td>0</td>\n",
       "      <td>0</td>\n",
       "    </tr>\n",
       "    <tr>\n",
       "      <td>1</td>\n",
       "      <td>23</td>\n",
       "      <td>60.3</td>\n",
       "      <td>1</td>\n",
       "      <td>0</td>\n",
       "    </tr>\n",
       "    <tr>\n",
       "      <td>2</td>\n",
       "      <td>30</td>\n",
       "      <td>60.5</td>\n",
       "      <td>1</td>\n",
       "      <td>0</td>\n",
       "    </tr>\n",
       "    <tr>\n",
       "      <td>3</td>\n",
       "      <td>19</td>\n",
       "      <td>38.7</td>\n",
       "      <td>0</td>\n",
       "      <td>1</td>\n",
       "    </tr>\n",
       "    <tr>\n",
       "      <td>4</td>\n",
       "      <td>28</td>\n",
       "      <td>96.5</td>\n",
       "      <td>0</td>\n",
       "      <td>0</td>\n",
       "    </tr>\n",
       "  </tbody>\n",
       "</table>\n",
       "</div>"
      ],
      "text/plain": [
       "   age  weight  B  C\n",
       "0   21    57.8  0  0\n",
       "1   23    60.3  1  0\n",
       "2   30    60.5  1  0\n",
       "3   19    38.7  0  1\n",
       "4   28    96.5  0  0"
      ]
     },
     "execution_count": 118,
     "metadata": {},
     "output_type": "execute_result"
    }
   ],
   "source": [
    "X_ohe = X_ohe.drop(columns='treatment')\n",
    "X_ohe.head()"
   ]
  },
  {
   "cell_type": "markdown",
   "metadata": {},
   "source": [
    "- Can we do better? What about our discussion of scaling from earlier?\n",
    "- Our features are not on the same scale and our encodings are getting \"drowned out\" by `age` and `weight`.\n",
    "- We should preprocess both numeric features (e.g., scaling) and categorical features (e.g., OHE).\n",
    "- sklearn's [`ColumnTransformer`](https://scikit-learn.org/stable/modules/generated/sklearn.compose.ColumnTransformer.html) makes this more manageable.\n",
    "  - A big advantage here is that we build all our transformations together into one object, and that way we're sure we do the same operations to all splits of the data. \n",
    "  - Otherwise we might, for example, do the OHE on both train and test but forget to scale the test data."
   ]
  },
  {
   "cell_type": "code",
   "execution_count": 119,
   "metadata": {},
   "outputs": [],
   "source": [
    "from sklearn.compose import ColumnTransformer"
   ]
  },
  {
   "cell_type": "code",
   "execution_count": 120,
   "metadata": {},
   "outputs": [],
   "source": [
    "# Identify the categorical and numeric columns\n",
    "numeric_features = ['age', 'weight']\n",
    "categorical_features = ['treatment']"
   ]
  },
  {
   "cell_type": "code",
   "execution_count": 122,
   "metadata": {},
   "outputs": [],
   "source": [
    "transformers=[\n",
    "    ('scale', StandardScaler(), numeric_features),\n",
    "    ('ohe', OneHotEncoder(drop='first'), categorical_features)]"
   ]
  },
  {
   "cell_type": "code",
   "execution_count": 123,
   "metadata": {},
   "outputs": [],
   "source": [
    "# Create the transformer\n",
    "preprocessor = ColumnTransformer(transformers=transformers)"
   ]
  },
  {
   "cell_type": "markdown",
   "metadata": {},
   "source": [
    "When we fit the preprocessor, it fits _all_ the transformers."
   ]
  },
  {
   "cell_type": "code",
   "execution_count": 125,
   "metadata": {},
   "outputs": [],
   "source": [
    "preprocessor.fit(X);"
   ]
  },
  {
   "cell_type": "markdown",
   "metadata": {},
   "source": [
    "We can get the new names of the columns that were generated by the one-hot encoding:"
   ]
  },
  {
   "cell_type": "code",
   "execution_count": 126,
   "metadata": {},
   "outputs": [
    {
     "data": {
      "text/plain": [
       "array(['treatment_B', 'treatment_C'], dtype=object)"
      ]
     },
     "execution_count": 126,
     "metadata": {},
     "output_type": "execute_result"
    }
   ],
   "source": [
    "preprocessor.named_transformers_['ohe'].get_feature_names(categorical_features)"
   ]
  },
  {
   "cell_type": "markdown",
   "metadata": {},
   "source": [
    "Combining this with the numeric feature names gives us all the column names:"
   ]
  },
  {
   "cell_type": "code",
   "execution_count": 127,
   "metadata": {},
   "outputs": [
    {
     "data": {
      "text/plain": [
       "['age', 'weight', 'treatment_B', 'treatment_C']"
      ]
     },
     "execution_count": 127,
     "metadata": {},
     "output_type": "execute_result"
    }
   ],
   "source": [
    "columns = numeric_features + list(preprocessor.named_transformers_['ohe']\n",
    "                                     .get_feature_names(categorical_features))\n",
    "columns"
   ]
  },
  {
   "cell_type": "markdown",
   "metadata": {},
   "source": [
    "Like fit, when we transform with the preprocessor, it calls `transform` on _all_ the transformers."
   ]
  },
  {
   "cell_type": "code",
   "execution_count": 129,
   "metadata": {},
   "outputs": [],
   "source": [
    "# Apply data transformations and convert back to dataframe\n",
    "X_ohe_scale = pd.DataFrame(preprocessor.transform(X),\n",
    "                       index=X.index,\n",
    "                       columns=columns)"
   ]
  },
  {
   "cell_type": "code",
   "execution_count": 130,
   "metadata": {},
   "outputs": [
    {
     "data": {
      "text/html": [
       "<div>\n",
       "<style scoped>\n",
       "    .dataframe tbody tr th:only-of-type {\n",
       "        vertical-align: middle;\n",
       "    }\n",
       "\n",
       "    .dataframe tbody tr th {\n",
       "        vertical-align: top;\n",
       "    }\n",
       "\n",
       "    .dataframe thead th {\n",
       "        text-align: right;\n",
       "    }\n",
       "</style>\n",
       "<table border=\"1\" class=\"dataframe\">\n",
       "  <thead>\n",
       "    <tr style=\"text-align: right;\">\n",
       "      <th></th>\n",
       "      <th>age</th>\n",
       "      <th>weight</th>\n",
       "      <th>treatment_B</th>\n",
       "      <th>treatment_C</th>\n",
       "    </tr>\n",
       "  </thead>\n",
       "  <tbody>\n",
       "    <tr>\n",
       "      <td>0</td>\n",
       "      <td>-1.602301</td>\n",
       "      <td>-1.294360</td>\n",
       "      <td>0.0</td>\n",
       "      <td>0.0</td>\n",
       "    </tr>\n",
       "    <tr>\n",
       "      <td>1</td>\n",
       "      <td>-1.463640</td>\n",
       "      <td>-1.204307</td>\n",
       "      <td>1.0</td>\n",
       "      <td>0.0</td>\n",
       "    </tr>\n",
       "    <tr>\n",
       "      <td>2</td>\n",
       "      <td>-0.978328</td>\n",
       "      <td>-1.197103</td>\n",
       "      <td>1.0</td>\n",
       "      <td>0.0</td>\n",
       "    </tr>\n",
       "    <tr>\n",
       "      <td>3</td>\n",
       "      <td>-1.740961</td>\n",
       "      <td>-1.982364</td>\n",
       "      <td>0.0</td>\n",
       "      <td>1.0</td>\n",
       "    </tr>\n",
       "    <tr>\n",
       "      <td>4</td>\n",
       "      <td>-1.116989</td>\n",
       "      <td>0.099659</td>\n",
       "      <td>0.0</td>\n",
       "      <td>0.0</td>\n",
       "    </tr>\n",
       "  </tbody>\n",
       "</table>\n",
       "</div>"
      ],
      "text/plain": [
       "        age    weight  treatment_B  treatment_C\n",
       "0 -1.602301 -1.294360          0.0          0.0\n",
       "1 -1.463640 -1.204307          1.0          0.0\n",
       "2 -0.978328 -1.197103          1.0          0.0\n",
       "3 -1.740961 -1.982364          0.0          1.0\n",
       "4 -1.116989  0.099659          0.0          0.0"
      ]
     },
     "execution_count": 130,
     "metadata": {},
     "output_type": "execute_result"
    }
   ],
   "source": [
    "X_ohe_scale.head()"
   ]
  },
  {
   "cell_type": "markdown",
   "metadata": {},
   "source": [
    "- Side note: the `ColumnTransformer` will automatically remove columns that are not being transformed:"
   ]
  },
  {
   "cell_type": "code",
   "execution_count": 132,
   "metadata": {},
   "outputs": [
    {
     "data": {
      "text/plain": [
       "array([[0., 0.],\n",
       "       [1., 0.],\n",
       "       [1., 0.],\n",
       "       [0., 1.],\n",
       "       [0., 0.],\n",
       "       [0., 1.],\n",
       "       [1., 0.],\n",
       "       [0., 1.],\n",
       "       [1., 0.],\n",
       "       [0., 0.],\n",
       "       [0., 0.],\n",
       "       [0., 1.],\n",
       "       [0., 1.],\n",
       "       [1., 0.],\n",
       "       [0., 0.],\n",
       "       [0., 1.],\n",
       "       [1., 0.],\n",
       "       [0., 1.],\n",
       "       [0., 0.],\n",
       "       [1., 0.],\n",
       "       [1., 0.],\n",
       "       [0., 1.],\n",
       "       [0., 0.],\n",
       "       [0., 0.],\n",
       "       [1., 0.],\n",
       "       [0., 1.],\n",
       "       [0., 0.],\n",
       "       [1., 0.],\n",
       "       [0., 0.],\n",
       "       [1., 0.],\n",
       "       [1., 0.],\n",
       "       [0., 0.],\n",
       "       [0., 1.],\n",
       "       [0., 1.],\n",
       "       [0., 0.],\n",
       "       [0., 1.]])"
      ]
     },
     "execution_count": 132,
     "metadata": {},
     "output_type": "execute_result"
    }
   ],
   "source": [
    "preprocessor = ColumnTransformer(transformers=[\n",
    "    ('ohe', OneHotEncoder(drop='first'), categorical_features)])\n",
    "\n",
    "preprocessor.fit_transform(X)"
   ]
  },
  {
   "cell_type": "markdown",
   "metadata": {},
   "source": [
    "Using `remainder='passthrough'` keeps the other columns in tact:"
   ]
  },
  {
   "cell_type": "code",
   "execution_count": 133,
   "metadata": {},
   "outputs": [
    {
     "data": {
      "text/plain": [
       "array([[  0. ,   0. ,  21. ,  57.8],\n",
       "       [  1. ,   0. ,  23. ,  60.3],\n",
       "       [  1. ,   0. ,  30. ,  60.5],\n",
       "       [  0. ,   1. ,  19. ,  38.7],\n",
       "       [  0. ,   0. ,  28. ,  96.5],\n",
       "       [  0. ,   1. ,  23. ,  41.8],\n",
       "       [  1. ,   0. ,  33. , 111. ],\n",
       "       [  0. ,   1. ,  67. , 158. ],\n",
       "       [  1. ,   0. ,  42. , 109.4],\n",
       "       [  0. ,   0. ,  33. ,  66.5],\n",
       "       [  0. ,   0. ,  33. , 111.4],\n",
       "       [  0. ,   1. ,  56. , 114.7],\n",
       "       [  0. ,   1. ,  45. ,  91.6],\n",
       "       [  1. ,   0. ,  43. ,  89.8],\n",
       "       [  0. ,   0. ,  38. , 102.4],\n",
       "       [  0. ,   1. ,  37. ,  75.7],\n",
       "       [  1. ,   0. ,  43. ,  87.4],\n",
       "       [  0. ,   1. ,  27. ,  49.9],\n",
       "       [  0. ,   0. ,  43. ,  94.2],\n",
       "       [  1. ,   0. ,  45. , 132. ],\n",
       "       [  1. ,   0. ,  48. , 113.5],\n",
       "       [  0. ,   1. ,  47. , 136. ],\n",
       "       [  0. ,   0. ,  48. ,  95.3],\n",
       "       [  0. ,   0. ,  53. , 121.6],\n",
       "       [  1. ,   0. ,  58. , 121.1],\n",
       "       [  0. ,   1. ,  29. ,  89.2],\n",
       "       [  0. ,   0. ,  53. , 107.3],\n",
       "       [  1. ,   0. ,  29. ,  45.5],\n",
       "       [  0. ,   0. ,  58. , 103.9],\n",
       "       [  1. ,   0. ,  66. , 104.2],\n",
       "       [  1. ,   0. ,  67. ,  94.2],\n",
       "       [  0. ,   0. ,  63. ,  87.6],\n",
       "       [  0. ,   1. ,  59. , 110.3],\n",
       "       [  0. ,   1. ,  51. ,  87.6],\n",
       "       [  0. ,   0. ,  67. ,  76.5],\n",
       "       [  0. ,   1. ,  63. , 131. ]])"
      ]
     },
     "execution_count": 133,
     "metadata": {},
     "output_type": "execute_result"
    }
   ],
   "source": [
    "preprocessor = ColumnTransformer(transformers=[\n",
    "    ('ohe', OneHotEncoder(drop='first'), categorical_features)], \n",
    "                                 remainder='passthrough')\n",
    "\n",
    "preprocessor.fit_transform(X)"
   ]
  },
  {
   "cell_type": "markdown",
   "metadata": {},
   "source": [
    "#### Categorical labels\n",
    "\n",
    "- For now sklearn is fine with categorical labels ($y$-values), so we're not preprocessing them.\n"
   ]
  },
  {
   "cell_type": "markdown",
   "metadata": {},
   "source": [
    "#### Side note: \n",
    "\n",
    "- Theoretically, decision trees should have no problem with categorical inputs\n",
    "  - e.g., \"is the treatment equal to C?\"\n",
    "  - However, the sklearn implementation does not support this, so we need to convert the features to numerical.\n",
    "- On the other hand, logistic regression fundamentally operates on numerical data\n",
    "  - So any implementation would require these transformations."
   ]
  },
  {
   "cell_type": "markdown",
   "metadata": {
    "slideshow": {
     "slide_type": "slide"
    }
   },
   "source": [
    "## Break (5 min)"
   ]
  },
  {
   "cell_type": "markdown",
   "metadata": {},
   "source": [
    "## Support Vector Machines (10 min)"
   ]
  },
  {
   "cell_type": "markdown",
   "metadata": {
    "slideshow": {
     "slide_type": "slide"
    }
   },
   "source": [
    "#### SVM motivation: Which decision boundary is better? "
   ]
  },
  {
   "cell_type": "markdown",
   "metadata": {},
   "source": [
    "Let's generate some fake data with 2 features and 2 classes."
   ]
  },
  {
   "cell_type": "code",
   "execution_count": 146,
   "metadata": {
    "slideshow": {
     "slide_type": "slide"
    }
   },
   "outputs": [
    {
     "data": {
      "image/png": "[encoded data removed]",
      "text/plain": [
       "<Figure size 432x288 with 1 Axes>"
      ]
     },
     "metadata": {
      "needs_background": "light"
     },
     "output_type": "display_data"
    }
   ],
   "source": [
    "n_classes = 2\n",
    "X_lin_sep, y_lin_sep = make_blobs(n_features=2, centers=n_classes, random_state=200)\n",
    "\n",
    "plt.scatter(X_lin_sep[:, 0], X_lin_sep[:, 1], marker='o', c=y_lin_sep, s=25, edgecolor='k');"
   ]
  },
  {
   "cell_type": "markdown",
   "metadata": {},
   "source": [
    "Which decision boundary is the best?"
   ]
  },
  {
   "cell_type": "code",
   "execution_count": 147,
   "metadata": {
    "slideshow": {
     "slide_type": "slide"
    }
   },
   "outputs": [
    {
     "data": {
      "image/png": "[encoded data removed]",
      "text/plain": [
       "<Figure size 1296x216 with 3 Axes>"
      ]
     },
     "metadata": {},
     "output_type": "display_data"
    }
   ],
   "source": [
    "lr = LogisticRegression()\n",
    "lr.fit(X_lin_sep, y_lin_sep);\n",
    "intercepts = [lr.intercept_, lr.intercept_ + 1.6, lr.intercept_ -0.5]\n",
    "plt.figure(figsize=(18,3))\n",
    "for i in range(3):\n",
    "    plt.subplot(1,4,i+1)\n",
    "    lr.intercept_ = intercepts[i]\n",
    "    plot_classifier(X_lin_sep,y_lin_sep,lr,ax=plt.gca())"
   ]
  },
  {
   "cell_type": "markdown",
   "metadata": {
    "slideshow": {
     "slide_type": "slide"
    }
   },
   "source": [
    "#### SVMs: General idea\n",
    "\n",
    "- Choose the hyperplane which is furthest away from the closest training points. \n",
    "- In other words, choose the hyperplane which has the largest **margin**, where margin is the distance from the boundary to the nearest point(s).\n",
    "- Intuitively, more margin is good because it leaves more \"room\" before we make an error."
   ]
  },
  {
   "cell_type": "code",
   "execution_count": 148,
   "metadata": {
    "slideshow": {
     "slide_type": "slide"
    }
   },
   "outputs": [
    {
     "data": {
      "image/png": "[encoded data removed]",
      "text/plain": [
       "<Figure size 576x288 with 2 Axes>"
      ]
     },
     "metadata": {},
     "output_type": "display_data"
    }
   ],
   "source": [
    "# Let's train an SVM classifier. \n",
    "# It picks the hyperplane than maximizes the margin. \n",
    "# Seems like logistic regression isn't doing it. \n",
    "\n",
    "svm = SVC(kernel=\"linear\", C=1e6) # ignore the C=1e6 for now\n",
    "svm.fit(X_lin_sep, y_lin_sep)\n",
    "\n",
    "lr = LogisticRegression()\n",
    "lr.fit(X_lin_sep, y_lin_sep);\n",
    "\n",
    "plt.figure(figsize=(8,4))\n",
    "plt.subplot(1,2,1)\n",
    "plt.title(\"SVM\")\n",
    "plot_classifier(X_lin_sep, y_lin_sep, svm, ax=plt.gca());\n",
    "plt.subplot(1,2,2)\n",
    "plt.title(\"Logistic Regression\");\n",
    "plot_classifier(X_lin_sep, y_lin_sep, lr, ax=plt.gca());"
   ]
  },
  {
   "cell_type": "markdown",
   "metadata": {
    "slideshow": {
     "slide_type": "slide"
    }
   },
   "source": [
    "#### Support vectors \n",
    "\n",
    "- Each training example either is or isn't a \"support vector\".\n",
    "  - This gets decided during `fit`.\n",
    "  - It does not apply to test examples.\n",
    "- Main idea: the decision boundary only depends on the support vectors.\n",
    "- Let's look at the support vectors "
   ]
  },
  {
   "cell_type": "code",
   "execution_count": 149,
   "metadata": {
    "slideshow": {
     "slide_type": "slide"
    }
   },
   "outputs": [],
   "source": [
    "# generate blobs with fixed random generator\n",
    "n = 20\n",
    "n_classes = 2\n",
    "X, y = make_blobs(n_samples=n, centers=n_classes, random_state=300)"
   ]
  },
  {
   "cell_type": "code",
   "execution_count": 150,
   "metadata": {
    "slideshow": {
     "slide_type": "slide"
    }
   },
   "outputs": [
    {
     "name": "stdout",
     "output_type": "stream",
     "text": [
      "Support vectors:  [ 3  8 14 19  0  1  6 17]\n",
      "Non support vectors:  [2, 4, 5, 7, 9, 10, 11, 12, 13, 15, 16, 18]\n"
     ]
    }
   ],
   "source": [
    "# Let's train an SVM classifier\n",
    "svm = SVC(kernel=\"linear\", C=1e6)\n",
    "svm.fit(X,y)\n",
    "\n",
    "# How do we access support vectors\n",
    "sv = svm.support_\n",
    "not_sv = list(set(range(n)) - set(sv))\n",
    "print('Support vectors: ', sv)\n",
    "print('Non support vectors: ', not_sv)"
   ]
  },
  {
   "cell_type": "code",
   "execution_count": 151,
   "metadata": {
    "slideshow": {
     "slide_type": "slide"
    }
   },
   "outputs": [
    {
     "data": {
      "image/png": "[encoded data removed]",
      "text/plain": [
       "<Figure size 288x288 with 1 Axes>"
      ]
     },
     "metadata": {},
     "output_type": "display_data"
    }
   ],
   "source": [
    "plt.figure(figsize=(4,4))\n",
    "plot_classifier(X,y,svm, ax=plt.gca())\n",
    "plt.scatter(*svm.support_vectors_.T, marker=\"o\", edgecolor=\"yellow\", facecolor=\"none\", s=120);\n",
    "\n",
    "# The support vectors (SVs) are shown in yellow.\n",
    "# These are the example that \"support\" the boundary. "
   ]
  },
  {
   "cell_type": "markdown",
   "metadata": {
    "slideshow": {
     "slide_type": "slide"
    }
   },
   "source": [
    "#### Support vectors\n",
    "\n",
    "- Note that the number of support vectors is much smaller compared to the training set. \n",
    "- What happens if we delete all non-support vector? Would the decision boundary change? \n",
    "- What happens if we delete a support vector? Would the decision boundary change? "
   ]
  },
  {
   "cell_type": "code",
   "execution_count": 152,
   "metadata": {
    "slideshow": {
     "slide_type": "slide"
    }
   },
   "outputs": [
    {
     "data": {
      "image/png": "[encoded data removed]",
      "text/plain": [
       "<Figure size 576x288 with 2 Axes>"
      ]
     },
     "metadata": {},
     "output_type": "display_data"
    }
   ],
   "source": [
    "# Let's try removing all other examples, keeping only the SVs.\n",
    "# remove all non-support vectors\n",
    "X_only_SVs = np.delete(X,not_sv,0)\n",
    "y_only_SVs = np.delete(y,not_sv,0)\n",
    "\n",
    "svm_only_SVs = SVC(kernel=\"linear\", C=1e6)\n",
    "svm_only_SVs.fit(X_only_SVs, y_only_SVs)\n",
    "\n",
    "plt.figure(figsize=(8,4))\n",
    "plt.subplot(1,2,1)\n",
    "plot_classifier(X,y,svm, ax=plt.gca())\n",
    "plt.scatter(*svm.support_vectors_.T, marker=\"o\", edgecolor=\"yellow\", facecolor=\"none\", s=120);\n",
    "plt.title(\"Original\");\n",
    "plt.subplot(1,2,2)\n",
    "plot_classifier(X_only_SVs, y_only_SVs, svm_only_SVs, ax=plt.gca(), \n",
    "                lims=(X[:,0].min()-1,X[:,0].max()+1,X[:,1].min()-1,X[:,1].max()+1))\n",
    "plt.scatter(*svm_only_SVs.support_vectors_.T, marker=\"o\", edgecolor=\"yellow\", facecolor=\"none\", s=120);\n",
    "plt.title(\"SVs only\");\n"
   ]
  },
  {
   "cell_type": "markdown",
   "metadata": {
    "slideshow": {
     "slide_type": "slide"
    }
   },
   "source": [
    "### Nonlinear SVM (5 min)\n",
    "\n",
    "- So far, logistic regression and SVMs are **linear classifiers**.\n",
    "- However, they can be extended to nonlinear decision boundaries using \"kernels\".\n",
    "- By default, `SVC` uses the \"RBF kernel\".\n",
    "- It's also possible to do kernel logistic regression, but:\n",
    "  - it's less popular than kernel SVM for computational reasons.\n",
    "  - it's not implemented in scikit-learn.\n",
    "  - why? because the code would be slower with logistic regression"
   ]
  },
  {
   "cell_type": "code",
   "execution_count": 153,
   "metadata": {
    "slideshow": {
     "slide_type": "slide"
    }
   },
   "outputs": [],
   "source": [
    "df = pd.read_csv('data/cities_USA.csv', index_col=0)\n",
    "X = df.drop(columns=['vote'])\n",
    "y = df['vote']\n",
    "X_train, X_test, y_train, y_test = train_test_split(X,\n",
    "                                                    y,\n",
    "                                                    test_size=0.5,\n",
    "                                                    random_state=123)"
   ]
  },
  {
   "cell_type": "code",
   "execution_count": 154,
   "metadata": {
    "slideshow": {
     "slide_type": "slide"
    }
   },
   "outputs": [
    {
     "name": "stdout",
     "output_type": "stream",
     "text": [
      "Training error: 0.240\n",
      "Test     error: 0.240\n"
     ]
    }
   ],
   "source": [
    "linear_svm = SVC(kernel='linear')\n",
    "linear_svm.fit(X_train, y_train)\n",
    "show_scores(linear_svm, X_train, y_train, X_test, y_test)"
   ]
  },
  {
   "cell_type": "code",
   "execution_count": 155,
   "metadata": {},
   "outputs": [
    {
     "name": "stdout",
     "output_type": "stream",
     "text": [
      "Training error: 0.015\n",
      "Test     error: 0.080\n"
     ]
    }
   ],
   "source": [
    "# By dedault SVC uses rbf kernel \n",
    "rbf_svm = SVC()\n",
    "rbf_svm.fit(X_train, y_train)\n",
    "show_scores(rbf_svm, X_train, y_train, X_test, y_test)"
   ]
  },
  {
   "cell_type": "code",
   "execution_count": 156,
   "metadata": {
    "slideshow": {
     "slide_type": "slide"
    }
   },
   "outputs": [
    {
     "data": {
      "image/png": "[encoded data removed]",
      "text/plain": [
       "<Figure size 576x288 with 2 Axes>"
      ]
     },
     "metadata": {},
     "output_type": "display_data"
    }
   ],
   "source": [
    "# Plot linear SVM\n",
    "plt.figure(figsize=(8,4))\n",
    "plt.subplot(1,2,1)\n",
    "plot_classifier(X_train, y_train, linear_svm, ax=plt.gca())\n",
    "plt.title(\"Linear SVM\");\n",
    "\n",
    "# Plot RBF SVM\n",
    "plt.subplot(1,2,2)\n",
    "plot_classifier(X_train, y_train, rbf_svm, ax=plt.gca())\n",
    "plt.title(\"RBF\");"
   ]
  },
  {
   "cell_type": "code",
   "execution_count": 157,
   "metadata": {
    "slideshow": {
     "slide_type": "slide"
    }
   },
   "outputs": [
    {
     "data": {
      "text/plain": [
       "<Figure size 288x288 with 0 Axes>"
      ]
     },
     "metadata": {},
     "output_type": "display_data"
    },
    {
     "data": {
      "image/png": "[encoded data removed]",
      "text/plain": [
       "<Figure size 432x288 with 1 Axes>"
      ]
     },
     "metadata": {},
     "output_type": "display_data"
    }
   ],
   "source": [
    "plt.figure(figsize=(4,4));\n",
    "plot_classifier(X_train, y_train, rbf_svm, show_data=False);"
   ]
  },
  {
   "cell_type": "markdown",
   "metadata": {
    "slideshow": {
     "slide_type": "slide"
    }
   },
   "source": [
    "## Hyperparameters\n",
    "\n",
    "- Key Hyperparameters of `rbf` SVM are\n",
    "    - `gamma`\n",
    "    - `C`\n",
    "\n",
    "See [`scikit-learn`'s explanation of RBF SVM parameters](https://scikit-learn.org/stable/auto_examples/svm/plot_rbf_parameters.html). "
   ]
  },
  {
   "cell_type": "code",
   "execution_count": 158,
   "metadata": {
    "slideshow": {
     "slide_type": "slide"
    }
   },
   "outputs": [
    {
     "data": {
      "image/png": "[encoded data removed]",
      "text/plain": [
       "<Figure size 1152x288 with 4 Axes>"
      ]
     },
     "metadata": {},
     "output_type": "display_data"
    }
   ],
   "source": [
    "# What's the effect of the gamma parameter? \n",
    "plt.figure(figsize=(16,4))\n",
    "for i in range(4):\n",
    "    plt.subplot(1,4,i+1)\n",
    "    gamma = 10.0**(i-3)\n",
    "    rbf_svm = SVC(gamma=gamma)\n",
    "    rbf_svm.fit(X_train, y_train);\n",
    "    plot_classifier(X_train, y_train, rbf_svm, ax=plt.gca(), show_data=False);\n",
    "    plt.title(\"gamma = %s\"%gamma);"
   ]
  },
  {
   "cell_type": "markdown",
   "metadata": {
    "slideshow": {
     "slide_type": "slide"
    }
   },
   "source": [
    "### Relation of gamma and the fundamental trade-off\n",
    "\n",
    "- `gamma` controls the complexity (fundamental trade-off), just like other hyperparameters we've seen.\n",
    "  - larger `gamma` $\\rightarrow$ more complex\n",
    "- `C` _also_ affects the fundamental tradeoff, although in a less intuitive way.\n",
    "  - larger `C` $\\rightarrow$ more complex  "
   ]
  },
  {
   "cell_type": "markdown",
   "metadata": {
    "slideshow": {
     "slide_type": "slide"
    }
   },
   "source": [
    "## Random Forests (15 min)"
   ]
  },
  {
   "cell_type": "markdown",
   "metadata": {
    "slideshow": {
     "slide_type": "slide"
    }
   },
   "source": [
    "- General idea\n",
    "    - `fit` a diverse set of decision tree classifiers by **injecting randomness** in the classifier construction\n",
    "    - `predict` by taking the average of predictions given by individual classifiers\n",
    "\n",
    "- How do we inject randomness in the classifier construction? \n",
    "    1. Data: Build each tree on a bootstrap sample (i.e., a sample drawn **with replacement** from the training set)\n",
    "    2. Features: \n",
    "        - Consider a random subset of features at each split (`RandomForestClassifier`)\n"
   ]
  },
  {
   "cell_type": "markdown",
   "metadata": {
    "slideshow": {
     "slide_type": "slide"
    }
   },
   "source": [
    "#### The random forests classifier \n",
    "\n",
    "- Create a collection (ensemble) of trees. Grow each tree on an independent bootstrap sample from the data.\n",
    "- At each node:\n",
    "    - Randomly select a subset of features out of all features (independently for each node).\n",
    "    - Find the best split on the selected features. \n",
    "    - Grow the trees to maximum depth.\n",
    "    - Vote the trees to get predictions for new data. "
   ]
  },
  {
   "cell_type": "code",
   "execution_count": 159,
   "metadata": {
    "slideshow": {
     "slide_type": "slide"
    }
   },
   "outputs": [
    {
     "data": {
      "text/html": [
       "<div>\n",
       "<style scoped>\n",
       "    .dataframe tbody tr th:only-of-type {\n",
       "        vertical-align: middle;\n",
       "    }\n",
       "\n",
       "    .dataframe tbody tr th {\n",
       "        vertical-align: top;\n",
       "    }\n",
       "\n",
       "    .dataframe thead th {\n",
       "        text-align: right;\n",
       "    }\n",
       "</style>\n",
       "<table border=\"1\" class=\"dataframe\">\n",
       "  <thead>\n",
       "    <tr style=\"text-align: right;\">\n",
       "      <th></th>\n",
       "      <th>Unnamed: 0</th>\n",
       "      <th>type</th>\n",
       "      <th>review</th>\n",
       "      <th>label</th>\n",
       "      <th>file</th>\n",
       "    </tr>\n",
       "  </thead>\n",
       "  <tbody>\n",
       "    <tr>\n",
       "      <th>0</th>\n",
       "      <td>0</td>\n",
       "      <td>test</td>\n",
       "      <td>Once again Mr. Costner has dragged out a movie...</td>\n",
       "      <td>neg</td>\n",
       "      <td>0_2.txt</td>\n",
       "    </tr>\n",
       "    <tr>\n",
       "      <th>1</th>\n",
       "      <td>1</td>\n",
       "      <td>test</td>\n",
       "      <td>This is an example of why the majority of acti...</td>\n",
       "      <td>neg</td>\n",
       "      <td>10000_4.txt</td>\n",
       "    </tr>\n",
       "    <tr>\n",
       "      <th>2</th>\n",
       "      <td>2</td>\n",
       "      <td>test</td>\n",
       "      <td>First of all I hate those moronic rappers, who...</td>\n",
       "      <td>neg</td>\n",
       "      <td>10001_1.txt</td>\n",
       "    </tr>\n",
       "    <tr>\n",
       "      <th>3</th>\n",
       "      <td>3</td>\n",
       "      <td>test</td>\n",
       "      <td>Not even the Beatles could write songs everyon...</td>\n",
       "      <td>neg</td>\n",
       "      <td>10002_3.txt</td>\n",
       "    </tr>\n",
       "    <tr>\n",
       "      <th>4</th>\n",
       "      <td>4</td>\n",
       "      <td>test</td>\n",
       "      <td>Brass pictures (movies is not a fitting word f...</td>\n",
       "      <td>neg</td>\n",
       "      <td>10003_3.txt</td>\n",
       "    </tr>\n",
       "  </tbody>\n",
       "</table>\n",
       "</div>"
      ],
      "text/plain": [
       "   Unnamed: 0  type                                             review label  \\\n",
       "0           0  test  Once again Mr. Costner has dragged out a movie...   neg   \n",
       "1           1  test  This is an example of why the majority of acti...   neg   \n",
       "2           2  test  First of all I hate those moronic rappers, who...   neg   \n",
       "3           3  test  Not even the Beatles could write songs everyon...   neg   \n",
       "4           4  test  Brass pictures (movies is not a fitting word f...   neg   \n",
       "\n",
       "          file  \n",
       "0      0_2.txt  \n",
       "1  10000_4.txt  \n",
       "2  10001_1.txt  \n",
       "3  10002_3.txt  \n",
       "4  10003_3.txt  "
      ]
     },
     "execution_count": 159,
     "metadata": {},
     "output_type": "execute_result"
    }
   ],
   "source": [
    "# Read IMDB movie reviews into a pandas DataFrame\n",
    "imdb_df = pd.read_csv('data/imdb_master.csv', encoding = \"ISO-8859-1\")\n",
    "# Only keep the reviews with pos and neg labels\n",
    "imdb_df = imdb_df[imdb_df['label'].str.startswith(('pos','neg'))]\n",
    "imdb_df.head()"
   ]
  },
  {
   "cell_type": "code",
   "execution_count": 160,
   "metadata": {},
   "outputs": [],
   "source": [
    "# For converting words into frequency counts\n",
    "from sklearn.feature_extraction.text import CountVectorizer\n",
    "X_train_imdb, X_test_imdb, y_train_imdb, y_test_imdb = train_test_split(imdb_df['review'], \n",
    "                                                                        imdb_df['label'], \n",
    "                                                                        test_size = 0.20, \n",
    "                                                                        random_state = 12)\n",
    "\n",
    "vec = CountVectorizer(max_features=5000,                       \n",
    "                      stop_words='english')\n",
    "\n",
    "# \"fit\" and transform the vectorizer on the training data*\n",
    "X_train_counts = vec.fit_transform(X_train_imdb) \n",
    "\n",
    "# Only transform on the test data.  \n",
    "X_test_counts = vec.transform(X_test_imdb) "
   ]
  },
  {
   "cell_type": "code",
   "execution_count": 161,
   "metadata": {
    "slideshow": {
     "slide_type": "slide"
    }
   },
   "outputs": [
    {
     "name": "stdout",
     "output_type": "stream",
     "text": [
      "Training error: 0.169\n",
      "Test     error: 0.259\n",
      "CPU times: user 13.9 s, sys: 91.4 ms, total: 14 s\n",
      "Wall time: 13.8 s\n"
     ]
    }
   ],
   "source": [
    "%%time\n",
    "dt = tree.DecisionTreeClassifier(max_depth=20)\n",
    "dt.fit(X_train_counts, y_train_imdb)\n",
    "show_scores(dt, X_train_counts, y_train_imdb, X_test_counts, y_test_imdb) "
   ]
  },
  {
   "cell_type": "code",
   "execution_count": 162,
   "metadata": {},
   "outputs": [],
   "source": [
    "import graphviz\n",
    "\n",
    "# define a function to plot our model\n",
    "def save_and_show_decision_tree(model, \n",
    "                                class_names,\n",
    "                                feature_names,\n",
    "                                save_file_prefix = 'test'):\n",
    "    \"\"\"\n",
    "    Saves the decision tree model as a pdf and shows how the data is split and \n",
    "    classified\n",
    "\n",
    "    Parameters\n",
    "    ----------\n",
    "    model: sklearn.tree.DecisionTreeClassifier\n",
    "        The sklearn model decision tree\n",
    "    class_names : list\n",
    "        The names of all the possible classifications\n",
    "    feature_names : list\n",
    "        The names of all the features\n",
    "    save_file_prefix: str\n",
    "        The name you wish to save the file\n",
    "\n",
    "    Returns\n",
    "    -------\n",
    "    graphviz.files.Source\n",
    "        The decision tree graph\n",
    "    \"\"\"\n",
    "    dot_data = tree.export_graphviz(model, out_file=None, \n",
    "                             feature_names=feature_names,  \n",
    "                             class_names=class_names,  \n",
    "                             filled=True, rounded=True,  \n",
    "                             special_characters=True)  \n",
    "\n",
    "    graph = graphviz.Source(dot_data) \n",
    "    graph.render(save_file_prefix) \n",
    "    return graph"
   ]
  },
  {
   "cell_type": "code",
   "execution_count": 163,
   "metadata": {
    "slideshow": {
     "slide_type": "slide"
    }
   },
   "outputs": [],
   "source": [
    "vocab = vec.get_feature_names()\n",
    "graph = save_and_show_decision_tree(dt, feature_names = vocab, class_names = ['neg','pos'])\n",
    "# graph"
   ]
  },
  {
   "cell_type": "code",
   "execution_count": 164,
   "metadata": {
    "slideshow": {
     "slide_type": "slide"
    }
   },
   "outputs": [
    {
     "name": "stdout",
     "output_type": "stream",
     "text": [
      "Training error: 0.210\n",
      "Test     error: 0.212\n",
      "CPU times: user 3.57 s, sys: 107 ms, total: 3.67 s\n",
      "Wall time: 3.31 s\n"
     ]
    }
   ],
   "source": [
    "%%time\n",
    "# Estimators with max_depth 2 for illustration purposes. \n",
    "# Usually it's better to have higher depth.  \n",
    "rf = RandomForestClassifier(n_estimators = 100, max_depth = 2)\n",
    "rf.fit(X_train_counts, y_train_imdb)\n",
    "show_scores(rf,X_train_counts, y_train_imdb, X_test_counts, y_test_imdb) "
   ]
  },
  {
   "cell_type": "code",
   "execution_count": 165,
   "metadata": {
    "slideshow": {
     "slide_type": "slide"
    }
   },
   "outputs": [
    {
     "data": {
      "image/svg+xml": [
       "<?xml version=\"1.0\" encoding=\"UTF-8\" standalone=\"no\"?>\n",
       "<!DOCTYPE svg PUBLIC \"-//W3C//DTD SVG 1.1//EN\"\n",
       " \"http://www.w3.org/Graphics/SVG/1.1/DTD/svg11.dtd\">\n",
       "<!-- Generated by graphviz version 2.40.1 (20161225.0304)\n",
       " -->\n",
       "<!-- Title: Tree Pages: 1 -->\n",
       "<svg width=\"608pt\" height=\"314pt\"\n",
       " viewBox=\"0.00 0.00 607.50 314.00\" xmlns=\"http://www.w3.org/2000/svg\" xmlns:xlink=\"http://www.w3.org/1999/xlink\">\n",
       "<g id=\"graph0\" class=\"graph\" transform=\"scale(1 1) rotate(0) translate(4 310)\">\n",
       "<title>Tree</title>\n",
       "<polygon fill=\"#ffffff\" stroke=\"transparent\" points=\"-4,4 -4,-310 603.5,-310 603.5,4 -4,4\"/>\n",
       "<!-- 0 -->\n",
       "<g id=\"node1\" class=\"node\">\n",
       "<title>0</title>\n",
       "<path fill=\"#fffefe\" stroke=\"#000000\" d=\"M383,-306C383,-306 248,-306 248,-306 242,-306 236,-300 236,-294 236,-294 236,-235 236,-235 236,-229 242,-223 248,-223 248,-223 383,-223 383,-223 389,-223 395,-229 395,-235 395,-235 395,-294 395,-294 395,-300 389,-306 383,-306\"/>\n",
       "<text text-anchor=\"start\" x=\"287.5\" y=\"-290.8\" font-family=\"Helvetica,sans-Serif\" font-size=\"14.00\" fill=\"#000000\">low ≤ 0.5</text>\n",
       "<text text-anchor=\"start\" x=\"286.5\" y=\"-275.8\" font-family=\"Helvetica,sans-Serif\" font-size=\"14.00\" fill=\"#000000\">gini = 0.5</text>\n",
       "<text text-anchor=\"start\" x=\"261.5\" y=\"-260.8\" font-family=\"Helvetica,sans-Serif\" font-size=\"14.00\" fill=\"#000000\">samples = 25242</text>\n",
       "<text text-anchor=\"start\" x=\"244\" y=\"-245.8\" font-family=\"Helvetica,sans-Serif\" font-size=\"14.00\" fill=\"#000000\">value = [20070, 19930]</text>\n",
       "<text text-anchor=\"start\" x=\"279.5\" y=\"-230.8\" font-family=\"Helvetica,sans-Serif\" font-size=\"14.00\" fill=\"#000000\">class = neg</text>\n",
       "</g>\n",
       "<!-- 1 -->\n",
       "<g id=\"node2\" class=\"node\">\n",
       "<title>1</title>\n",
       "<path fill=\"#f8fcfe\" stroke=\"#000000\" d=\"M300,-187C300,-187 165,-187 165,-187 159,-187 153,-181 153,-175 153,-175 153,-116 153,-116 153,-110 159,-104 165,-104 165,-104 300,-104 300,-104 306,-104 312,-110 312,-116 312,-116 312,-175 312,-175 312,-181 306,-187 300,-187\"/>\n",
       "<text text-anchor=\"start\" x=\"187\" y=\"-171.8\" font-family=\"Helvetica,sans-Serif\" font-size=\"14.00\" fill=\"#000000\">pointless ≤ 0.5</text>\n",
       "<text text-anchor=\"start\" x=\"203.5\" y=\"-156.8\" font-family=\"Helvetica,sans-Serif\" font-size=\"14.00\" fill=\"#000000\">gini = 0.5</text>\n",
       "<text text-anchor=\"start\" x=\"178.5\" y=\"-141.8\" font-family=\"Helvetica,sans-Serif\" font-size=\"14.00\" fill=\"#000000\">samples = 23672</text>\n",
       "<text text-anchor=\"start\" x=\"161\" y=\"-126.8\" font-family=\"Helvetica,sans-Serif\" font-size=\"14.00\" fill=\"#000000\">value = [18385, 19046]</text>\n",
       "<text text-anchor=\"start\" x=\"197\" y=\"-111.8\" font-family=\"Helvetica,sans-Serif\" font-size=\"14.00\" fill=\"#000000\">class = pos</text>\n",
       "</g>\n",
       "<!-- 0&#45;&gt;1 -->\n",
       "<g id=\"edge1\" class=\"edge\">\n",
       "<title>0&#45;&gt;1</title>\n",
       "<path fill=\"none\" stroke=\"#000000\" d=\"M286.4706,-222.8796C280.3145,-214.0534 273.7549,-204.6485 267.4064,-195.5466\"/>\n",
       "<polygon fill=\"#000000\" stroke=\"#000000\" points=\"270.2448,-193.4978 261.6533,-187.2981 264.5033,-197.5024 270.2448,-193.4978\"/>\n",
       "<text text-anchor=\"middle\" x=\"257.2669\" y=\"-208.2103\" font-family=\"Helvetica,sans-Serif\" font-size=\"14.00\" fill=\"#000000\">True</text>\n",
       "</g>\n",
       "<!-- 4 -->\n",
       "<g id=\"node5\" class=\"node\">\n",
       "<title>4</title>\n",
       "<path fill=\"#f3c3a1\" stroke=\"#000000\" d=\"M454.5,-187C454.5,-187 342.5,-187 342.5,-187 336.5,-187 330.5,-181 330.5,-175 330.5,-175 330.5,-116 330.5,-116 330.5,-110 336.5,-104 342.5,-104 342.5,-104 454.5,-104 454.5,-104 460.5,-104 466.5,-110 466.5,-116 466.5,-116 466.5,-175 466.5,-175 466.5,-181 460.5,-187 454.5,-187\"/>\n",
       "<text text-anchor=\"start\" x=\"366\" y=\"-171.8\" font-family=\"Helvetica,sans-Serif\" font-size=\"14.00\" fill=\"#000000\">okay ≤ 0.5</text>\n",
       "<text text-anchor=\"start\" x=\"362\" y=\"-156.8\" font-family=\"Helvetica,sans-Serif\" font-size=\"14.00\" fill=\"#000000\">gini = 0.451</text>\n",
       "<text text-anchor=\"start\" x=\"348.5\" y=\"-141.8\" font-family=\"Helvetica,sans-Serif\" font-size=\"14.00\" fill=\"#000000\">samples = 1570</text>\n",
       "<text text-anchor=\"start\" x=\"338.5\" y=\"-126.8\" font-family=\"Helvetica,sans-Serif\" font-size=\"14.00\" fill=\"#000000\">value = [1685, 884]</text>\n",
       "<text text-anchor=\"start\" x=\"362.5\" y=\"-111.8\" font-family=\"Helvetica,sans-Serif\" font-size=\"14.00\" fill=\"#000000\">class = neg</text>\n",
       "</g>\n",
       "<!-- 0&#45;&gt;4 -->\n",
       "<g id=\"edge4\" class=\"edge\">\n",
       "<title>0&#45;&gt;4</title>\n",
       "<path fill=\"none\" stroke=\"#000000\" d=\"M344.5294,-222.8796C350.6855,-214.0534 357.2451,-204.6485 363.5936,-195.5466\"/>\n",
       "<polygon fill=\"#000000\" stroke=\"#000000\" points=\"366.4967,-197.5024 369.3467,-187.2981 360.7552,-193.4978 366.4967,-197.5024\"/>\n",
       "<text text-anchor=\"middle\" x=\"373.7331\" y=\"-208.2103\" font-family=\"Helvetica,sans-Serif\" font-size=\"14.00\" fill=\"#000000\">False</text>\n",
       "</g>\n",
       "<!-- 2 -->\n",
       "<g id=\"node3\" class=\"node\">\n",
       "<title>2</title>\n",
       "<path fill=\"#f3f9fd\" stroke=\"#000000\" d=\"M147,-68C147,-68 12,-68 12,-68 6,-68 0,-62 0,-56 0,-56 0,-12 0,-12 0,-6 6,0 12,0 12,0 147,0 147,0 153,0 159,-6 159,-12 159,-12 159,-56 159,-56 159,-62 153,-68 147,-68\"/>\n",
       "<text text-anchor=\"start\" x=\"50.5\" y=\"-52.8\" font-family=\"Helvetica,sans-Serif\" font-size=\"14.00\" fill=\"#000000\">gini = 0.5</text>\n",
       "<text text-anchor=\"start\" x=\"25.5\" y=\"-37.8\" font-family=\"Helvetica,sans-Serif\" font-size=\"14.00\" fill=\"#000000\">samples = 23255</text>\n",
       "<text text-anchor=\"start\" x=\"8\" y=\"-22.8\" font-family=\"Helvetica,sans-Serif\" font-size=\"14.00\" fill=\"#000000\">value = [17817, 18975]</text>\n",
       "<text text-anchor=\"start\" x=\"44\" y=\"-7.8\" font-family=\"Helvetica,sans-Serif\" font-size=\"14.00\" fill=\"#000000\">class = pos</text>\n",
       "</g>\n",
       "<!-- 1&#45;&gt;2 -->\n",
       "<g id=\"edge2\" class=\"edge\">\n",
       "<title>1&#45;&gt;2</title>\n",
       "<path fill=\"none\" stroke=\"#000000\" d=\"M175.5284,-103.9815C162.1604,-94.2394 147.9396,-83.8759 134.6528,-74.193\"/>\n",
       "<polygon fill=\"#000000\" stroke=\"#000000\" points=\"136.6595,-71.3247 126.5165,-68.2637 132.5368,-76.9819 136.6595,-71.3247\"/>\n",
       "</g>\n",
       "<!-- 3 -->\n",
       "<g id=\"node4\" class=\"node\">\n",
       "<title>3</title>\n",
       "<path fill=\"#e89152\" stroke=\"#000000\" d=\"M285.5,-68C285.5,-68 189.5,-68 189.5,-68 183.5,-68 177.5,-62 177.5,-56 177.5,-56 177.5,-12 177.5,-12 177.5,-6 183.5,0 189.5,0 189.5,0 285.5,0 285.5,0 291.5,0 297.5,-6 297.5,-12 297.5,-12 297.5,-56 297.5,-56 297.5,-62 291.5,-68 285.5,-68\"/>\n",
       "<text text-anchor=\"start\" x=\"201\" y=\"-52.8\" font-family=\"Helvetica,sans-Serif\" font-size=\"14.00\" fill=\"#000000\">gini = 0.198</text>\n",
       "<text text-anchor=\"start\" x=\"191.5\" y=\"-37.8\" font-family=\"Helvetica,sans-Serif\" font-size=\"14.00\" fill=\"#000000\">samples = 417</text>\n",
       "<text text-anchor=\"start\" x=\"185.5\" y=\"-22.8\" font-family=\"Helvetica,sans-Serif\" font-size=\"14.00\" fill=\"#000000\">value = [568, 71]</text>\n",
       "<text text-anchor=\"start\" x=\"201.5\" y=\"-7.8\" font-family=\"Helvetica,sans-Serif\" font-size=\"14.00\" fill=\"#000000\">class = neg</text>\n",
       "</g>\n",
       "<!-- 1&#45;&gt;3 -->\n",
       "<g id=\"edge3\" class=\"edge\">\n",
       "<title>1&#45;&gt;3</title>\n",
       "<path fill=\"none\" stroke=\"#000000\" d=\"M234.3618,-103.9815C234.7369,-95.618 235.1324,-86.7965 235.5116,-78.3409\"/>\n",
       "<polygon fill=\"#000000\" stroke=\"#000000\" points=\"239.0119,-78.4105 235.9635,-68.2637 232.019,-78.0968 239.0119,-78.4105\"/>\n",
       "</g>\n",
       "<!-- 5 -->\n",
       "<g id=\"node6\" class=\"node\">\n",
       "<title>5</title>\n",
       "<path fill=\"#f3c7a6\" stroke=\"#000000\" d=\"M449.5,-68C449.5,-68 337.5,-68 337.5,-68 331.5,-68 325.5,-62 325.5,-56 325.5,-56 325.5,-12 325.5,-12 325.5,-6 331.5,0 337.5,0 337.5,0 449.5,0 449.5,0 455.5,0 461.5,-6 461.5,-12 461.5,-12 461.5,-56 461.5,-56 461.5,-62 455.5,-68 449.5,-68\"/>\n",
       "<text text-anchor=\"start\" x=\"357\" y=\"-52.8\" font-family=\"Helvetica,sans-Serif\" font-size=\"14.00\" fill=\"#000000\">gini = 0.458</text>\n",
       "<text text-anchor=\"start\" x=\"343.5\" y=\"-37.8\" font-family=\"Helvetica,sans-Serif\" font-size=\"14.00\" fill=\"#000000\">samples = 1503</text>\n",
       "<text text-anchor=\"start\" x=\"333.5\" y=\"-22.8\" font-family=\"Helvetica,sans-Serif\" font-size=\"14.00\" fill=\"#000000\">value = [1580, 872]</text>\n",
       "<text text-anchor=\"start\" x=\"357.5\" y=\"-7.8\" font-family=\"Helvetica,sans-Serif\" font-size=\"14.00\" fill=\"#000000\">class = neg</text>\n",
       "</g>\n",
       "<!-- 4&#45;&gt;5 -->\n",
       "<g id=\"edge5\" class=\"edge\">\n",
       "<title>4&#45;&gt;5</title>\n",
       "<path fill=\"none\" stroke=\"#000000\" d=\"M396.6382,-103.9815C396.2631,-95.618 395.8676,-86.7965 395.4884,-78.3409\"/>\n",
       "<polygon fill=\"#000000\" stroke=\"#000000\" points=\"398.981,-78.0968 395.0365,-68.2637 391.9881,-78.4105 398.981,-78.0968\"/>\n",
       "</g>\n",
       "<!-- 6 -->\n",
       "<g id=\"node7\" class=\"node\">\n",
       "<title>6</title>\n",
       "<path fill=\"#e88f50\" stroke=\"#000000\" d=\"M587.5,-68C587.5,-68 491.5,-68 491.5,-68 485.5,-68 479.5,-62 479.5,-56 479.5,-56 479.5,-12 479.5,-12 479.5,-6 485.5,0 491.5,0 491.5,0 587.5,0 587.5,0 593.5,0 599.5,-6 599.5,-12 599.5,-12 599.5,-56 599.5,-56 599.5,-62 593.5,-68 587.5,-68\"/>\n",
       "<text text-anchor=\"start\" x=\"503\" y=\"-52.8\" font-family=\"Helvetica,sans-Serif\" font-size=\"14.00\" fill=\"#000000\">gini = 0.184</text>\n",
       "<text text-anchor=\"start\" x=\"497.5\" y=\"-37.8\" font-family=\"Helvetica,sans-Serif\" font-size=\"14.00\" fill=\"#000000\">samples = 67</text>\n",
       "<text text-anchor=\"start\" x=\"487.5\" y=\"-22.8\" font-family=\"Helvetica,sans-Serif\" font-size=\"14.00\" fill=\"#000000\">value = [105, 12]</text>\n",
       "<text text-anchor=\"start\" x=\"503.5\" y=\"-7.8\" font-family=\"Helvetica,sans-Serif\" font-size=\"14.00\" fill=\"#000000\">class = neg</text>\n",
       "</g>\n",
       "<!-- 4&#45;&gt;6 -->\n",
       "<g id=\"edge6\" class=\"edge\">\n",
       "<title>4&#45;&gt;6</title>\n",
       "<path fill=\"none\" stroke=\"#000000\" d=\"M451.0032,-103.9815C463.2066,-94.3313 476.181,-84.0714 488.3261,-74.4673\"/>\n",
       "<polygon fill=\"#000000\" stroke=\"#000000\" points=\"490.4982,-77.2118 496.171,-68.2637 486.1562,-71.7211 490.4982,-77.2118\"/>\n",
       "</g>\n",
       "</g>\n",
       "</svg>\n"
      ],
      "text/plain": [
       "<graphviz.files.Source at 0x1a20eb8dd8>"
      ]
     },
     "execution_count": 165,
     "metadata": {},
     "output_type": "execute_result"
    }
   ],
   "source": [
    "# Let's look at one of the estimators \n",
    "estimator = rf.estimators_[22]\n",
    "graph = save_and_show_decision_tree(estimator, feature_names = vocab, class_names = ['neg','pos'])\n",
    "graph"
   ]
  },
  {
   "cell_type": "code",
   "execution_count": 166,
   "metadata": {
    "slideshow": {
     "slide_type": "skip"
    }
   },
   "outputs": [],
   "source": [
    "df = pd.read_csv('data/cities_USA.csv', index_col=0)\n",
    "X = df.drop(columns=['vote'])\n",
    "y = df['vote']\n",
    "X_train, X_test, y_train, y_test = train_test_split(X,\n",
    "                                                    y,\n",
    "                                                    test_size=0.5,\n",
    "                                                    random_state=123)"
   ]
  },
  {
   "cell_type": "markdown",
   "metadata": {
    "slideshow": {
     "slide_type": "slide"
    }
   },
   "source": [
    "\n",
    "#### Random forests: number of trees and the fundamental tradeoff "
   ]
  },
  {
   "cell_type": "code",
   "execution_count": 167,
   "metadata": {},
   "outputs": [],
   "source": [
    "df = pd.read_csv('data/cities_USA.csv', index_col=0)\n",
    "X = df.drop(columns=['vote'])\n",
    "y = df['vote']\n",
    "X_train, X_test, y_train, y_test = train_test_split(X,\n",
    "                                                    y,\n",
    "                                                    test_size=0.5,\n",
    "                                                    random_state=123)"
   ]
  },
  {
   "cell_type": "code",
   "execution_count": 168,
   "metadata": {
    "slideshow": {
     "slide_type": "slide"
    }
   },
   "outputs": [
    {
     "data": {
      "image/png": "[encoded data removed]",
      "text/plain": [
       "<Figure size 576x288 with 2 Axes>"
      ]
     },
     "metadata": {},
     "output_type": "display_data"
    }
   ],
   "source": [
    "# Let's examine how the decision boundaries change with the number of estimators\n",
    "\n",
    "rf_1 = RandomForestClassifier(n_estimators=1, max_depth=3)\n",
    "rf_1.fit(X_train,y_train)\n",
    "\n",
    "\n",
    "rf_50 = RandomForestClassifier(n_estimators=50, max_depth=3)\n",
    "rf_50.fit(X_train,y_train)\n",
    "\n",
    "# Plot Random Forest with 1 estimator\n",
    "plt.figure(figsize=(8,4))\n",
    "plt.subplot(1,2,1)\n",
    "plot_classifier(X_train, y_train, rf_1, ax=plt.gca())\n",
    "plt.title(\"Random Forest with 1 estimator\");\n",
    "\n",
    "# Plot Random Forest with 50 estimator\n",
    "plt.subplot(1,2,2)\n",
    "plot_classifier(X_train, y_train, rf_50, ax=plt.gca())\n",
    "plt.title(\"Random Forest with 50 estimators\");"
   ]
  },
  {
   "cell_type": "code",
   "execution_count": 169,
   "metadata": {
    "slideshow": {
     "slide_type": "slide"
    }
   },
   "outputs": [],
   "source": [
    "def make_num_tree_plot(X_train, y_train, X_test, y_test, num_trees):\n",
    "    \"\"\"\n",
    "    Make number of trees vs error rate plot for RandomForestClassifier\n",
    "   \n",
    "    Parameters\n",
    "    ----------\n",
    "    model: sklearn classifier model\n",
    "        The sklearn model\n",
    "    X_train: numpy.ndarray        \n",
    "        The X part of the train set\n",
    "    y_train: numpy.ndarray\n",
    "        The y part of the train set    \n",
    "    X_test: numpy.ndarray        \n",
    "        The X part of the test/validation set\n",
    "    y_test: numpy.ndarray\n",
    "        The y part of the test/validation set    \n",
    "    num_trees: int\n",
    "        The value for `n_estimators` argument of RandomForestClassifier\n",
    "    Returns\n",
    "    -------\n",
    "        None\n",
    "        Shows the number of trees vs error rate plot\n",
    "            \n",
    "    \"\"\"    \n",
    "    train_err = []\n",
    "    test_err = []\n",
    "    for ntree in num_trees:\n",
    "        model = RandomForestClassifier(n_estimators=ntree)\n",
    "        model.fit(X_train, y_train)\n",
    "        train_err.append(1-model.score(X_train, y_train))\n",
    "        test_err.append(1-model.score(X_test, y_test))\n",
    "\n",
    "    plt.semilogx(num_trees,train_err,label=\"train\");\n",
    "    plt.semilogx(num_trees,test_err,label=\"test\");\n",
    "    plt.legend();\n",
    "    plt.xlabel('number of trees');\n",
    "    plt.ylabel('error rate');"
   ]
  },
  {
   "cell_type": "code",
   "execution_count": 170,
   "metadata": {
    "slideshow": {
     "slide_type": "slide"
    }
   },
   "outputs": [
    {
     "data": {
      "image/png": "[encoded data removed]",
      "text/plain": [
       "<Figure size 432x288 with 1 Axes>"
      ]
     },
     "metadata": {
      "needs_background": "light"
     },
     "output_type": "display_data"
    }
   ],
   "source": [
    "make_num_tree_plot(X_train, y_train, X_test, y_test, (1,5,10,25,50,100,200,500))"
   ]
  },
  {
   "cell_type": "markdown",
   "metadata": {
    "slideshow": {
     "slide_type": "slide"
    }
   },
   "source": [
    "#### Number of trees and fundamental trade-off\n",
    "\n",
    "- Above: seems like we're beating the fundamental \"tradeoff\" by decreasing training error and not increasing approximation error.\n",
    "- This is the promise of ensembles, though it's not guaranteed to work so nicely."
   ]
  },
  {
   "cell_type": "markdown",
   "metadata": {
    "slideshow": {
     "slide_type": "slide"
    }
   },
   "source": [
    "### Random forests vs decision trees\n",
    "\n",
    "- Accuracy\n",
    "  - Random forests are usually more accurate compared to decision trees, in fact they are usually one of the best performing off-the-shelf classifiers. \n",
    "- Speed\n",
    "  - Slower than decision trees because we are fitting multiple trees \n",
    "  - But can easily parallelize training because all trees are independent of each other \n",
    "- Overfitting\n",
    "  - Very deep decision tree tends to overfit \n",
    "  - Random forests are less likely to overfit\n",
    "- Interpretability\n",
    "  - Decision trees are more interpretable "
   ]
  },
  {
   "cell_type": "markdown",
   "metadata": {
    "slideshow": {
     "slide_type": "slide"
    }
   },
   "source": [
    "## Random forest True/False (10 min)\n",
    "\n",
    "1. To train a tree in a random forest, we first randomly select a subset of features. The tree is then restricted to only using those features. \n",
    "1. A random forest with only one tree would tend to get a higher training error than a decision tree of the same depth.\n",
    "1. Increasing the hyperparameter `n_estimators` (the number of trees) makes the model more complex and moves the fundamental tradeoff toward lower training error.\n",
    "1. Increasing the hyperparameter `max_features` (the number of features to consider for a split) makes the model more complex and moves the fundamental tradeoff toward lower training error.\n",
    "\n",
    "\n",
    "\n",
    "<br><br><br><br><br><br><br><br><br>"
   ]
  },
  {
   "cell_type": "code",
   "execution_count": null,
   "metadata": {},
   "outputs": [],
   "source": []
  }
 ],
 "metadata": {
  "celltoolbar": "Slideshow",
  "kernelspec": {
   "display_name": "Python 3",
   "language": "python",
   "name": "python3"
  },
  "language_info": {
   "codemirror_mode": {
    "name": "ipython",
    "version": 3
   },
   "file_extension": ".py",
   "mimetype": "text/x-python",
   "name": "python",
   "nbconvert_exporter": "python",
   "pygments_lexer": "ipython3",
   "version": "3.8.5"
  }
 },
 "nbformat": 4,
 "nbformat_minor": 4
}
