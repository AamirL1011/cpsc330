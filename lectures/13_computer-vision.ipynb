{
 "cells": [
  {
   "cell_type": "markdown",
   "metadata": {
    "slideshow": {
     "slide_type": "slide"
    }
   },
   "source": [
    "# CPSC 330 Lecture 13"
   ]
  },
  {
   "cell_type": "markdown",
   "metadata": {
    "slideshow": {
     "slide_type": "slide"
    }
   },
   "source": [
    "### Lecture plan\n",
    "\n",
    "- 👋\n",
    "- **Turn on recording**\n",
    "- Announcements\n",
    "- Intro to computer vision (5 min)\n",
    "- Intro to neural networks (15 min)\n",
    "- Neural networks for images (15 min)\n",
    "- Pre-trained networks (5 min)\n",
    "- Break (5 min)\n",
    "- Transfer learning (15 min)\n",
    "- Bias and AI safety (20 min)"
   ]
  },
  {
   "cell_type": "markdown",
   "metadata": {},
   "source": [
    "# TODO\n",
    "\n",
    "- move bias / ai safety to ethics lecture\n",
    "- here, add a section on multi-class classification and a section on imagenet"
   ]
  },
  {
   "cell_type": "code",
   "execution_count": 1,
   "metadata": {
    "slideshow": {
     "slide_type": "skip"
    }
   },
   "outputs": [],
   "source": [
    "import pandas as pd\n",
    "import numpy as np\n",
    "\n",
    "import os \n",
    "\n",
    "import matplotlib.pyplot as plt\n",
    "\n",
    "from sklearn.linear_model import LinearRegression, LogisticRegression\n",
    "from sklearn.model_selection import train_test_split\n",
    "from sklearn.dummy import DummyClassifier\n",
    "from sklearn import datasets"
   ]
  },
  {
   "cell_type": "code",
   "execution_count": 2,
   "metadata": {},
   "outputs": [],
   "source": [
    "plt.rcParams['font.size'] = 16"
   ]
  },
  {
   "cell_type": "code",
   "execution_count": 12,
   "metadata": {},
   "outputs": [],
   "source": [
    "from tensorflow.keras.datasets import mnist\n",
    "from tensorflow.keras.layers import Dense, Dropout, Flatten, Activation, Conv2D, MaxPooling2D, GlobalAveragePooling2D\n",
    "from tensorflow.keras.models import Sequential, Model, load_model\n",
    "from tensorflow.keras.preprocessing.image import img_to_array, load_img\n",
    "from tensorflow.keras import utils\n",
    "from tensorflow.keras.applications.inception_v3 import InceptionV3\n",
    "from tensorflow.keras.applications.resnet50 import ResNet50, preprocess_input, decode_predictions"
   ]
  },
  {
   "cell_type": "markdown",
   "metadata": {},
   "source": [
    "## Announcements\n",
    "\n",
    "- "
   ]
  },
  {
   "cell_type": "markdown",
   "metadata": {},
   "source": [
    "## Recap of last time\n",
    "\n",
    "- Intro to NLP.\n",
    "- We focussed on turning text into features.\n",
    "- Aside: sparse matrices.\n",
    "- Preprocessing.\n",
    "- Word embeddings.\n",
    "- In hw6 you will use these for supervised learning."
   ]
  },
  {
   "cell_type": "markdown",
   "metadata": {},
   "source": [
    "## Intro to computer vision"
   ]
  },
  {
   "cell_type": "markdown",
   "metadata": {},
   "source": [
    "- [Computer vision](https://en.wikipedia.org/wiki/Computer_vision) refers to understanding images/videos, usually using ML/AI. \n",
    "- Like NLP, computer vision has many tasks of interest:\n",
    "  - image classification: is this a cat or a dog?\n",
    "  - object localization: where are the people in this image?\n",
    "  - image segmentation: what are the various parts of this image?\n",
    "  - motion detection: what moved between frames of a video?\n",
    "  - and much more...\n",
    "- We will focus on image classification."
   ]
  },
  {
   "cell_type": "markdown",
   "metadata": {},
   "source": [
    "## Intro to neural networks (15 min)\n",
    "\n",
    "- Remember the `Pipeline`? \n",
    "- A neural network is a model that's sort of like its own pipeline.\n",
    "  - It involves a series of transformations (\"layers\") internally. \n",
    "  - The output is the prediction.\n",
    "- The code looks like this:"
   ]
  },
  {
   "cell_type": "code",
   "execution_count": 4,
   "metadata": {},
   "outputs": [],
   "source": [
    "model = Sequential()\n",
    "model.add(Dense(10, input_dim=1, activation='tanh'))\n",
    "model.add(Dense(15, activation='tanh'))\n",
    "model.add(Dense(1, activation='linear'))"
   ]
  },
  {
   "cell_type": "markdown",
   "metadata": {},
   "source": [
    "- Each time we do `model.add` we are adding on one of those transformations.\n",
    "- Imporant question: how many features before/after transformation.\n",
    "  - e.g. scaling doesn't change the number of features\n",
    "  - OHE increases the number of features\n",
    "- With a neural net, you specify the number of features after each transformation.\n",
    "  - In the above, it goes from 1 to 10 to 15 to 1."
   ]
  },
  {
   "cell_type": "markdown",
   "metadata": {},
   "source": [
    "Note: in scikit-learn, we use one line of Python code to set up the model and set the hyperparameters. For example:\n"
   ]
  },
  {
   "cell_type": "code",
   "execution_count": 5,
   "metadata": {},
   "outputs": [],
   "source": [
    "lr = LogisticRegression(C=5)"
   ]
  },
  {
   "cell_type": "markdown",
   "metadata": {},
   "source": [
    "- In tensorflow.keras (the package we're using), we use multiple lines of Python code to set up the model.\n",
    "- This design decision just makes the code more human-readable.\n",
    "- One line of code per layer of the network.\n",
    "- But there's nothing fundamental about it, one could also put the architecture/hypers on one line, in a file, etc."
   ]
  },
  {
   "cell_type": "markdown",
   "metadata": {},
   "source": [
    "- Next, with tensorflow, we have an extra step not present in sklearn, called `compile`.\n",
    "- Let's ignore this for now."
   ]
  },
  {
   "cell_type": "code",
   "execution_count": 6,
   "metadata": {},
   "outputs": [],
   "source": [
    "model.compile(loss='mean_squared_error', optimizer=\"adam\")"
   ]
  },
  {
   "cell_type": "markdown",
   "metadata": {},
   "source": [
    "Let's try it out on some made up data:"
   ]
  },
  {
   "cell_type": "code",
   "execution_count": 7,
   "metadata": {},
   "outputs": [
    {
     "data": {
      "image/png": "[encoded data removed]",
      "text/plain": [
       "<Figure size 432x288 with 1 Axes>"
      ]
     },
     "metadata": {
      "needs_background": "light"
     },
     "output_type": "display_data"
    }
   ],
   "source": [
    "np.random.seed(5)\n",
    "N = 200\n",
    "X = np.random.rand(N,1)\n",
    "y = np.sin(2*X) + np.random.randn(N,1)*0.03\n",
    "\n",
    "plt.plot(X,y,'.',markersize=10);"
   ]
  },
  {
   "cell_type": "markdown",
   "metadata": {},
   "source": [
    "The rest is what we're used to: `fit`, `predict`, etc. "
   ]
  },
  {
   "cell_type": "code",
   "execution_count": 8,
   "metadata": {},
   "outputs": [],
   "source": [
    "model.fit(X, y, epochs=1000, verbose=0);"
   ]
  },
  {
   "cell_type": "markdown",
   "metadata": {},
   "source": [
    "(Note how even fitting such a simple dataset can be slow with neural networks.)"
   ]
  },
  {
   "cell_type": "code",
   "execution_count": 9,
   "metadata": {},
   "outputs": [
    {
     "data": {
      "image/png": "[encoded data removed]",
      "text/plain": [
       "<Figure size 432x288 with 1 Axes>"
      ]
     },
     "metadata": {
      "needs_background": "light"
     },
     "output_type": "display_data"
    }
   ],
   "source": [
    "plt.plot(X,y,'.',markersize=10,label=\"data\")\n",
    "grid = np.linspace(0,1,1000)[:,None]\n",
    "plt.plot(grid, model.predict(grid),linewidth=5,label=\"model\")\n",
    "plt.legend();"
   ]
  },
  {
   "cell_type": "markdown",
   "metadata": {},
   "source": [
    "Instead of `score` we use `evaluate`:"
   ]
  },
  {
   "cell_type": "code",
   "execution_count": 10,
   "metadata": {},
   "outputs": [
    {
     "data": {
      "text/plain": [
       "0.0009070498635992408"
      ]
     },
     "execution_count": 10,
     "metadata": {},
     "output_type": "execute_result"
    }
   ],
   "source": [
    "model.evaluate(X, y, verbose=0)"
   ]
  },
  {
   "cell_type": "markdown",
   "metadata": {},
   "source": [
    "#### Terminology\n",
    "\n",
    "- Neural network = neural net\n",
    "- Deep learning ~ using neural networks"
   ]
  },
  {
   "cell_type": "markdown",
   "metadata": {},
   "source": [
    "#### Why neural networks?\n",
    "\n",
    "- They can learn very complex functions.\n",
    "  - The fundamental tradeoff is primarily controlled by the **number of layers** and **layer sizes**.\n",
    "  - More layers / bigger layers --> more complex model.\n",
    "  - You can generally get a model that will not underfit.\n",
    "- The work really well for structured data:\n",
    "  - 1D sequence, e.g. timeseries, language\n",
    "  - 2D image\n",
    "  - 3D image or video\n",
    "- They've had some incredible successes in the last 10 years.\n",
    "- Transfer learning (coming later today) is really useful."
   ]
  },
  {
   "cell_type": "markdown",
   "metadata": {},
   "source": [
    "#### Why not neural networks?\n",
    "\n",
    "- Often they require a lot of data.\n",
    "- They require a lot of compute time, and, to be faster, specialized hardware called [GPUs](https://en.wikipedia.org/wiki/Graphics_processing_unit).\n",
    "- They have huge numbers of hyperparameters are a huge pain to tune.\n",
    "  - Think of each layer having hyperparameters, plus some overall hyperparameters.\n",
    "  - Being slow compounds this problem.\n",
    "- They are not interpretable.\n",
    "- When you call `fit`, you are not guaranteed to get the optimal.\n",
    "  - There are now a bunch of hyperparameters specific to `fit`, rather than the model.\n",
    "  - You never really know if `fit` was successful or not.\n",
    "  - You never really know if you should have run `fit` for longer.\n",
    "- I don't recommend training them without further training (ha)\n",
    "  - Take CPSC 340 and other courses if you're interested.\n",
    "  - I'll show you some ways to use neural networks without calling `fit`."
   ]
  },
  {
   "cell_type": "markdown",
   "metadata": {},
   "source": [
    "#### Deep learning software\n",
    "\n",
    "- scikit-learn has [MLPRegressor](https://scikit-learn.org/stable/modules/generated/sklearn.neural_network.MLPRegressor.html) and [MLPClassifier](https://scikit-learn.org/stable/modules/generated/sklearn.neural_network.MLPClassifier.html) but they aren't very flexible.\n",
    "  - In general you'll want to leave the scikit-learn ecosystem when using neural networks.\n",
    "  - Fun fact: these classes were contributed to scikit-learn by a UBC graduate student.\n",
    "- There's been a lot of deep learning software out there.\n",
    "- The current big players are:\n",
    "\n",
    "1. [TensorFlow 2.0](https://www.tensorflow.org)\n",
    "2. [PyTorch](http://pytorch.org)\n",
    "\n",
    "- Both are heavily used in industry.\n",
    "- A lot of people I talk to say PyTorch is easier to use.\n",
    "  - However, I started teaching this in MDS 4 years ago, before PyTorch was created!\n",
    "- If interested, see [comparison of deep learning software](https://en.wikipedia.org/wiki/Comparison_of_deep_learning_software)."
   ]
  },
  {
   "cell_type": "markdown",
   "metadata": {},
   "source": [
    "## Neural networks for images (10 min)"
   ]
  },
  {
   "cell_type": "markdown",
   "metadata": {},
   "source": [
    "- Let's load the MNIST handwritten digits dataset.\n",
    "- It's a very boring dataset by now - we can get extremely high accuracy, and we've probably overfit to the test set by now.\n",
    "- But it's a good example to see."
   ]
  },
  {
   "cell_type": "code",
   "execution_count": 14,
   "metadata": {},
   "outputs": [],
   "source": [
    "# the data, shuffled and split between train and test sets\n",
    "(X_train_img, y_train), (X_test_img, y_test) = mnist.load_data()"
   ]
  },
  {
   "cell_type": "code",
   "execution_count": 15,
   "metadata": {},
   "outputs": [
    {
     "data": {
      "text/plain": [
       "(60000, 28, 28)"
      ]
     },
     "execution_count": 15,
     "metadata": {},
     "output_type": "execute_result"
    }
   ],
   "source": [
    "X_train_img.shape"
   ]
  },
  {
   "cell_type": "code",
   "execution_count": 16,
   "metadata": {},
   "outputs": [
    {
     "data": {
      "image/png": "[encoded data removed]",
      "text/plain": [
       "<Figure size 432x288 with 1 Axes>"
      ]
     },
     "metadata": {
      "needs_background": "light"
     },
     "output_type": "display_data"
    }
   ],
   "source": [
    "# display a random training example\n",
    "i = np.random.randint(0,len(X_train_img))\n",
    "plt.imshow(X_train_img[i],cmap='gray')\n",
    "plt.title('This is a %d' % y_train[i]);"
   ]
  },
  {
   "cell_type": "code",
   "execution_count": 17,
   "metadata": {},
   "outputs": [
    {
     "data": {
      "text/plain": [
       "numpy.ndarray"
      ]
     },
     "execution_count": 17,
     "metadata": {},
     "output_type": "execute_result"
    }
   ],
   "source": [
    "type(X_train_img[i])"
   ]
  },
  {
   "cell_type": "code",
   "execution_count": 18,
   "metadata": {},
   "outputs": [
    {
     "data": {
      "text/plain": [
       "(28, 28)"
      ]
     },
     "execution_count": 18,
     "metadata": {},
     "output_type": "execute_result"
    }
   ],
   "source": [
    "X_train_img[i].shape"
   ]
  },
  {
   "cell_type": "code",
   "execution_count": 19,
   "metadata": {},
   "outputs": [
    {
     "data": {
      "text/plain": [
       "(60000, 28, 28)"
      ]
     },
     "execution_count": 19,
     "metadata": {},
     "output_type": "execute_result"
    }
   ],
   "source": [
    "X_train_img.shape"
   ]
  },
  {
   "cell_type": "markdown",
   "metadata": {},
   "source": [
    "- How can we take our input ($28\\times 28$ numpy array) and map it out our output (a label $0,1,\\ldots,9$)?\n",
    "- Most naive approach: \"flatten\" the images, and then use whatever supervised learning method we feel like."
   ]
  },
  {
   "cell_type": "code",
   "execution_count": 20,
   "metadata": {},
   "outputs": [
    {
     "name": "stdout",
     "output_type": "stream",
     "text": [
      "60000 train samples\n",
      "10000 test samples\n"
     ]
    }
   ],
   "source": [
    "X_train = X_train_img.reshape(60000, 28*28)\n",
    "X_test = X_test_img.reshape(10000, 28*28)\n",
    "X_train = X_train / 255 # this is the same a min/max scaling, since the pixel intensities range from 0 to 255\n",
    "X_test = X_test / 255\n",
    "\n",
    "print(X_train.shape[0], 'train samples')\n",
    "print(X_test.shape[0], 'test samples')"
   ]
  },
  {
   "cell_type": "code",
   "execution_count": 21,
   "metadata": {},
   "outputs": [
    {
     "data": {
      "text/plain": [
       "(60000, 784)"
      ]
     },
     "execution_count": 21,
     "metadata": {},
     "output_type": "execute_result"
    }
   ],
   "source": [
    "X_train.shape"
   ]
  },
  {
   "cell_type": "code",
   "execution_count": 22,
   "metadata": {},
   "outputs": [
    {
     "data": {
      "text/plain": [
       "array([5, 0, 4, ..., 5, 6, 8], dtype=uint8)"
      ]
     },
     "execution_count": 22,
     "metadata": {},
     "output_type": "execute_result"
    }
   ],
   "source": [
    "y_train"
   ]
  },
  {
   "cell_type": "markdown",
   "metadata": {},
   "source": [
    "Note: I secretly introduced multi-class classification here.\n",
    "\n",
    "# TODO -add a bit more on this"
   ]
  },
  {
   "cell_type": "markdown",
   "metadata": {},
   "source": [
    "Now we can use our usual classification methods:"
   ]
  },
  {
   "cell_type": "code",
   "execution_count": 23,
   "metadata": {},
   "outputs": [],
   "source": [
    "lr = LogisticRegression(multi_class='multinomial', solver='lbfgs')"
   ]
  },
  {
   "cell_type": "markdown",
   "metadata": {},
   "source": [
    "Note: setting `multi_class=\"multinomial\"` because we have more than 2 classes."
   ]
  },
  {
   "cell_type": "code",
   "execution_count": 24,
   "metadata": {},
   "outputs": [
    {
     "name": "stderr",
     "output_type": "stream",
     "text": [
      "/opt/miniconda3/envs/cpsc330env/lib/python3.8/site-packages/sklearn/linear_model/_logistic.py:762: ConvergenceWarning: lbfgs failed to converge (status=1):\n",
      "STOP: TOTAL NO. of ITERATIONS REACHED LIMIT.\n",
      "\n",
      "Increase the number of iterations (max_iter) or scale the data as shown in:\n",
      "    https://scikit-learn.org/stable/modules/preprocessing.html\n",
      "Please also refer to the documentation for alternative solver options:\n",
      "    https://scikit-learn.org/stable/modules/linear_model.html#logistic-regression\n",
      "  n_iter_i = _check_optimize_result(\n"
     ]
    }
   ],
   "source": [
    "lr.fit(X_train, y_train);"
   ]
  },
  {
   "cell_type": "code",
   "execution_count": 25,
   "metadata": {},
   "outputs": [
    {
     "data": {
      "text/plain": [
       "0.93505"
      ]
     },
     "execution_count": 25,
     "metadata": {},
     "output_type": "execute_result"
    }
   ],
   "source": [
    "lr.score(X_train, y_train)"
   ]
  },
  {
   "cell_type": "code",
   "execution_count": 26,
   "metadata": {},
   "outputs": [
    {
     "data": {
      "text/plain": [
       "0.9258"
      ]
     },
     "execution_count": 26,
     "metadata": {},
     "output_type": "execute_result"
    }
   ],
   "source": [
    "lr.score(X_test, y_test)"
   ]
  },
  {
   "cell_type": "code",
   "execution_count": 27,
   "metadata": {},
   "outputs": [],
   "source": [
    "z = np.array([[1,2],[3,4]])"
   ]
  },
  {
   "cell_type": "code",
   "execution_count": 28,
   "metadata": {},
   "outputs": [
    {
     "data": {
      "text/plain": [
       "array([[1, 2],\n",
       "       [3, 4]])"
      ]
     },
     "execution_count": 28,
     "metadata": {},
     "output_type": "execute_result"
    }
   ],
   "source": [
    "z"
   ]
  },
  {
   "cell_type": "code",
   "execution_count": 29,
   "metadata": {},
   "outputs": [
    {
     "data": {
      "text/plain": [
       "(2, 2)"
      ]
     },
     "execution_count": 29,
     "metadata": {},
     "output_type": "execute_result"
    }
   ],
   "source": [
    "z.shape"
   ]
  },
  {
   "cell_type": "code",
   "execution_count": 30,
   "metadata": {},
   "outputs": [
    {
     "data": {
      "text/plain": [
       "array([1, 2, 3, 4])"
      ]
     },
     "execution_count": 30,
     "metadata": {},
     "output_type": "execute_result"
    }
   ],
   "source": [
    "np.reshape(z, (4,))"
   ]
  },
  {
   "cell_type": "markdown",
   "metadata": {},
   "source": [
    "- Why is this a bad idea?\n",
    "  - By \"flattening\" the image we throw away useful information.\n",
    "- What the computer sees:"
   ]
  },
  {
   "cell_type": "code",
   "execution_count": 31,
   "metadata": {},
   "outputs": [
    {
     "data": {
      "text/plain": [
       "[0.0,\n",
       " 0.0,\n",
       " 0.011764705882352941,\n",
       " 0.07058823529411765,\n",
       " 0.07058823529411765,\n",
       " 0.07058823529411765,\n",
       " 0.49411764705882355,\n",
       " 0.5333333333333333,\n",
       " 0.6862745098039216,\n",
       " 0.10196078431372549,\n",
       " 0.6509803921568628,\n",
       " 1.0,\n",
       " 0.9686274509803922,\n",
       " 0.4980392156862745,\n",
       " 0.0,\n",
       " 0.0,\n",
       " 0.0,\n",
       " 0.0,\n",
       " 0.0,\n",
       " 0.0,\n",
       " 0.0,\n",
       " 0.0,\n",
       " 0.0,\n",
       " 0.0,\n",
       " 0.0,\n",
       " 0.0,\n",
       " 0.11764705882352941,\n",
       " 0.1411764705882353,\n",
       " 0.3686274509803922,\n",
       " 0.6039215686274509,\n",
       " 0.6666666666666666,\n",
       " 0.9921568627450981,\n",
       " 0.9921568627450981,\n",
       " 0.9921568627450981,\n",
       " 0.9921568627450981,\n",
       " 0.9921568627450981,\n",
       " 0.8823529411764706,\n",
       " 0.6745098039215687,\n",
       " 0.9921568627450981,\n",
       " 0.9490196078431372,\n",
       " 0.7647058823529411,\n",
       " 0.25098039215686274,\n",
       " 0.0,\n",
       " 0.0,\n",
       " 0.0,\n",
       " 0.0,\n",
       " 0.0,\n",
       " 0.0,\n",
       " 0.0,\n",
       " 0.0]"
      ]
     },
     "execution_count": 31,
     "metadata": {},
     "output_type": "execute_result"
    }
   ],
   "source": [
    "list(X_train[0])[150:200]"
   ]
  },
  {
   "cell_type": "markdown",
   "metadata": {},
   "source": [
    "- Hard to classify this!\n",
    "- [Convolutional neural networks](https://en.wikipedia.org/wiki/Convolutional_neural_network) (CNNs) can take in images without flattening them.\n",
    "  - We won't cover CNNs here, but they are in CPSC 340."
   ]
  },
  {
   "cell_type": "markdown",
   "metadata": {},
   "source": [
    "## Break (5 min)"
   ]
  },
  {
   "cell_type": "markdown",
   "metadata": {},
   "source": [
    "## Using pre-trained networks (5 min)\n",
    "\n",
    "- `tf.keras` has a bunch of pre-trained computer vision models available, see [here](https://keras.io/applications/).\n",
    "- Here we load a pre-trained model (uses our internet connection).\n",
    "- The amazing part is how much effort went into this base model. \n",
    "  - An insane amount of labelled data.\n",
    "  - An insane amount of compute time.\n",
    "  - An insane amount of human effort tuning the model."
   ]
  },
  {
   "cell_type": "code",
   "execution_count": null,
   "metadata": {},
   "outputs": [],
   "source": [
    "resnet = ResNet50(weights='imagenet')"
   ]
  },
  {
   "cell_type": "markdown",
   "metadata": {},
   "source": [
    "Note the important distinction between the choice of architecture (in this case, `ResNet50`) and the choice of dataset (in this case, ImageNet)."
   ]
  },
  {
   "cell_type": "markdown",
   "metadata": {},
   "source": [
    "Here's my graduation photo from undergrad:"
   ]
  },
  {
   "cell_type": "code",
   "execution_count": null,
   "metadata": {
    "scrolled": true
   },
   "outputs": [],
   "source": [
    "img_path = 'data/gelbart-michael-adam.jpg'\n",
    "img = load_img(img_path, target_size=(224, 224))\n",
    "plt.imshow(img);"
   ]
  },
  {
   "cell_type": "code",
   "execution_count": null,
   "metadata": {},
   "outputs": [],
   "source": [
    "x = img_to_array(img)\n",
    "x = np.expand_dims(x, axis=0)\n",
    "x = preprocess_input(x)\n",
    "\n",
    "preds = resnet.predict(x)\n",
    "decode_predictions(preds, top=3)[0]"
   ]
  },
  {
   "cell_type": "code",
   "execution_count": null,
   "metadata": {},
   "outputs": [],
   "source": [
    "img_path = 'data/office.jpg'\n",
    "img = load_img(img_path, target_size=(224, 224))\n",
    "plt.imshow(img);"
   ]
  },
  {
   "cell_type": "code",
   "execution_count": null,
   "metadata": {},
   "outputs": [],
   "source": [
    "x = img_to_array(img)\n",
    "x = np.expand_dims(x, axis=0)\n",
    "x = preprocess_input(x)\n",
    "\n",
    "preds = resnet.predict(x)\n",
    "decode_predictions(preds, top=3)[0]"
   ]
  },
  {
   "cell_type": "markdown",
   "metadata": {},
   "source": [
    "- We got these predictions without \"doing the ML ourselves\".\n",
    "- Can be useful for cases like sentiment analysis.\n",
    "- In fact, that is what we did last class with the word-embeddings! \n",
    "  - And, it was indeed also a deep learning model that was used there."
   ]
  },
  {
   "cell_type": "markdown",
   "metadata": {
    "colab_type": "text",
    "id": "kXIVN3thVXPh"
   },
   "source": [
    "## Transfer learning (15 min)\n",
    "\n",
    "- Let's look at the [Kaggle dog breed identification](https://www.kaggle.com/c/dog-breed-identification/data) dataset. \n",
    "- But let's imagine we only have 2000 examples, to simulate only having a small dataset available to us."
   ]
  },
  {
   "cell_type": "code",
   "execution_count": null,
   "metadata": {
    "colab": {
     "base_uri": "https://localhost:8080/",
     "height": 204
    },
    "colab_type": "code",
    "id": "F3uwOqqNVXQl",
    "outputId": "d94e6d24-0181-4d29-9fe1-33650217167a"
   },
   "outputs": [],
   "source": [
    "data = pd.read_csv('data/dog-breed-identification/labels.csv')\n",
    "data = data[:2000]\n",
    "data['image_path'] = data.apply( lambda row: (os.path.join(\"data/dog-breed-identification/train\", row[\"id\"] + \".jpg\") ), axis=1)\n",
    "data.head()"
   ]
  },
  {
   "cell_type": "markdown",
   "metadata": {
    "colab_type": "text",
    "id": "SWFmLeZtO2qv"
   },
   "source": [
    "Above: you can see some of the breeds that we're predicting."
   ]
  },
  {
   "cell_type": "code",
   "execution_count": null,
   "metadata": {
    "colab": {
     "base_uri": "https://localhost:8080/",
     "height": 34
    },
    "colab_type": "code",
    "id": "Hw0kE6BgVXQr",
    "outputId": "df467e37-9ac0-4727-d561-73edb636ea4e",
    "scrolled": true
   },
   "outputs": [],
   "source": [
    "target_labels = data['breed']\n",
    "total_classes = len(set(target_labels))\n",
    "print(\"number of dog breeds:\", total_classes)"
   ]
  },
  {
   "cell_type": "code",
   "execution_count": null,
   "metadata": {
    "colab": {},
    "colab_type": "code",
    "id": "xTCKP_rhVXQ5"
   },
   "outputs": [],
   "source": [
    "# read images from the image directory. \n",
    "images = np.array([img_to_array(\n",
    "                    load_img(img, target_size=(256,256))\n",
    "                    ) for img in data['image_path'].values.tolist()])"
   ]
  },
  {
   "cell_type": "code",
   "execution_count": null,
   "metadata": {
    "colab": {
     "base_uri": "https://localhost:8080/",
     "height": 34
    },
    "colab_type": "code",
    "id": "EtOYBdEiVXQ9",
    "outputId": "d068b3a0-733c-4873-8fe6-674c7dfa2668"
   },
   "outputs": [],
   "source": [
    "images.shape"
   ]
  },
  {
   "cell_type": "markdown",
   "metadata": {
    "colab_type": "text",
    "id": "bkPvTMP1O2q5"
   },
   "source": [
    "Above: we have 2000 images, each of size $256 \\times 256$ and with 3 colour channels."
   ]
  },
  {
   "cell_type": "code",
   "execution_count": null,
   "metadata": {
    "colab": {},
    "colab_type": "code",
    "id": "XXvcDjzKO2q6"
   },
   "outputs": [],
   "source": [
    "images = images.astype('float32')/255.0 "
   ]
  },
  {
   "cell_type": "markdown",
   "metadata": {
    "colab_type": "text",
    "id": "T-OqM5tQO2q8"
   },
   "source": [
    "Above: it's very important to scale the images!"
   ]
  },
  {
   "cell_type": "code",
   "execution_count": null,
   "metadata": {
    "colab": {
     "base_uri": "https://localhost:8080/",
     "height": 263
    },
    "colab_type": "code",
    "id": "rkbauZ2CO2q9",
    "outputId": "46a895d1-47a2-4a9c-8efe-f07afefc752a"
   },
   "outputs": [],
   "source": [
    "plt.imshow(images[0]);\n",
    "plt.grid(True);\n",
    "plt.xticks([]);\n",
    "plt.yticks([]);\n",
    "plt.title(\"Breed = \" + target_labels[0]);"
   ]
  },
  {
   "cell_type": "markdown",
   "metadata": {
    "colab_type": "text",
    "id": "c49AJfCuO2q_"
   },
   "source": [
    "Above: this is a sample image from the dog breed data set."
   ]
  },
  {
   "cell_type": "code",
   "execution_count": null,
   "metadata": {
    "colab": {},
    "colab_type": "code",
    "id": "r8s5GlKHVXRF"
   },
   "outputs": [],
   "source": [
    "X_train, X_valid, y_train, y_valid = train_test_split(images, target_labels, \n",
    "                                                    stratify=np.array(target_labels), \n",
    "                                                    random_state=42)"
   ]
  },
  {
   "cell_type": "code",
   "execution_count": null,
   "metadata": {
    "colab": {
     "base_uri": "https://localhost:8080/",
     "height": 51
    },
    "colab_type": "code",
    "id": "4AxPhnaUVXRI",
    "outputId": "ce3d1213-8f17-4aa5-953d-b88ecea3f0b4"
   },
   "outputs": [],
   "source": [
    "print(X_train.shape)\n",
    "print(X_valid.shape)"
   ]
  },
  {
   "cell_type": "markdown",
   "metadata": {},
   "source": [
    "The dataset seems fairly balanced:"
   ]
  },
  {
   "cell_type": "code",
   "execution_count": null,
   "metadata": {},
   "outputs": [],
   "source": [
    "target_labels.value_counts()"
   ]
  },
  {
   "cell_type": "markdown",
   "metadata": {},
   "source": [
    "Meaning DummyClassifier gets a horrible accuracy:"
   ]
  },
  {
   "cell_type": "code",
   "execution_count": null,
   "metadata": {},
   "outputs": [],
   "source": [
    "dc = DummyClassifier(strategy='prior')\n",
    "dc.fit(X_train, y_train);"
   ]
  },
  {
   "cell_type": "code",
   "execution_count": null,
   "metadata": {},
   "outputs": [],
   "source": [
    "dc.score(X_train, y_train)"
   ]
  },
  {
   "cell_type": "code",
   "execution_count": null,
   "metadata": {},
   "outputs": [],
   "source": [
    "dc.score(X_valid, y_valid)"
   ]
  },
  {
   "cell_type": "markdown",
   "metadata": {
    "colab_type": "text",
    "id": "CCL5JmShO2rF"
   },
   "source": [
    "We have roughly $1500/120=12.5$ images per class. **This is tiny compared to what we're used to.** What can we do??"
   ]
  },
  {
   "cell_type": "markdown",
   "metadata": {},
   "source": [
    "- We can use **transfer learning**.\n",
    "- We'll use a model trained on one task as a starting point for learning to perform another task. \n",
    "- Why is transfer learning helpful to us? Why can't we just train a model with the second task's objectives from the beginning? \n",
    "  - It's difficult to obtain labeled data: ususally we need a whole lot of data in order to solve complex problems, and it can be hard to collect the data."
   ]
  },
  {
   "cell_type": "code",
   "execution_count": null,
   "metadata": {},
   "outputs": [],
   "source": [
    "base_inception = InceptionV3(weights='imagenet', include_top=False, input_shape=(256, 256, 3))"
   ]
  },
  {
   "cell_type": "markdown",
   "metadata": {
    "colab_type": "text",
    "id": "_ACKgXs7O2rf"
   },
   "source": [
    "- Note the `include_top=False`. \n",
    "- This throws away the last layer. \n",
    "- It wasn't useful to us anyway. \n",
    "- ImageNet has 1000 classes, but we're not interested in those classes. \n",
    "- We don't want their predictions; we want every step in their \"pipeline\" except the predictions.\n",
    "- We will the feature extractor and then train our own model from the tools we know."
   ]
  },
  {
   "cell_type": "markdown",
   "metadata": {},
   "source": [
    "- The next line turns the pre-trained model into something we can use.\n",
    "- The syntax and details are out of scope here."
   ]
  },
  {
   "cell_type": "code",
   "execution_count": null,
   "metadata": {},
   "outputs": [],
   "source": [
    "feature_extractor = Model(inputs=base_inception.input, outputs=GlobalAveragePooling2D()(base_inception.output))"
   ]
  },
  {
   "cell_type": "markdown",
   "metadata": {},
   "source": [
    "The next lines may take a long time:"
   ]
  },
  {
   "cell_type": "code",
   "execution_count": null,
   "metadata": {},
   "outputs": [],
   "source": [
    "%%time\n",
    "Z_train = feature_extractor.predict(X_train)\n",
    "Z_valid = feature_extractor.predict(X_valid)"
   ]
  },
  {
   "cell_type": "code",
   "execution_count": null,
   "metadata": {},
   "outputs": [],
   "source": [
    "Z_train.shape"
   ]
  },
  {
   "cell_type": "code",
   "execution_count": null,
   "metadata": {},
   "outputs": [],
   "source": [
    "lr = LogisticRegression(multi_class=\"multinomial\", solver=\"lbfgs\")\n",
    "lr.fit(Z_train, y_train);"
   ]
  },
  {
   "cell_type": "code",
   "execution_count": null,
   "metadata": {},
   "outputs": [],
   "source": [
    "lr.score(Z_train, y_train)"
   ]
  },
  {
   "cell_type": "code",
   "execution_count": null,
   "metadata": {},
   "outputs": [],
   "source": [
    "lr.score(Z_valid, y_valid)"
   ]
  },
  {
   "cell_type": "markdown",
   "metadata": {},
   "source": [
    "# TODO- compare with logistic reg on flattened images"
   ]
  },
  {
   "cell_type": "markdown",
   "metadata": {},
   "source": [
    "- This is an incredible accuracy for so little effort!!!\n",
    "- I challenge you to get accuracy anywhere near this high with only 2000 examples using other methods, including deep learning!"
   ]
  },
  {
   "cell_type": "code",
   "execution_count": null,
   "metadata": {},
   "outputs": [],
   "source": []
  },
  {
   "cell_type": "markdown",
   "metadata": {},
   "source": [
    "## Bias and AI safety (20 min)"
   ]
  },
  {
   "cell_type": "markdown",
   "metadata": {},
   "source": [
    "#### Bias\n",
    "\n",
    "- Bias: we have similar problems as we had with NLP.\n",
    "- These models are trained from huge datasets, we don't exactly know how they work.\n",
    "- See, e.g. [this paper](https://arxiv.org/pdf/1711.11443.pdf), Figure 8.\n",
    "- Discussion: how could this sort of bias affect peoples' lives negatively?\n",
    "\n",
    "<br><br><br><br><br><br>"
   ]
  },
  {
   "cell_type": "markdown",
   "metadata": {},
   "source": [
    "Where does bias come from?\n",
    "\n",
    "- Biases could come from data (if data only has certain groups in certain situations).\n",
    "- Biases could come from labels (always using label of \"ball\" for certain sports).\n",
    "- Biases could come from learning method (model predicts \"basketball\" for black people more often than they appear in training data for basketball images)."
   ]
  },
  {
   "cell_type": "markdown",
   "metadata": {},
   "source": [
    "#### Strange results\n",
    "\n",
    "- See [this 2019 paper](https://arxiv.org/pdf/1809.04729.pdf) (from UBC), Figure 1.\n",
    "- See [this 2018 blog post](https://medium.com/@jrzech/what-are-radiological-deep-learning-models-actually-learning-f97a546c5b98) on diagnosing cardiomegaly (enlarged heart).\n",
    "  - The model learns that the portable scanner is used on sicker patients."
   ]
  },
  {
   "cell_type": "markdown",
   "metadata": {},
   "source": [
    "#### Feature importances to explain predictions\n",
    "\n",
    "- See the README of the [LIME repo](https://github.com/marcotcr/lime).\n",
    "- It can shade the images based on importance, like the above.\n",
    "- Also works for other data types."
   ]
  },
  {
   "cell_type": "markdown",
   "metadata": {},
   "source": [
    "#### AI safety and adversarial examples\n",
    "\n",
    "- See [this 2015 paper](https://arxiv.org/pdf/1412.6572.pdf), Figure 1, for whitebox software attack.\n",
    "- See [this 2018 paper](https://arxiv.org/pdf/1712.09665.pdf), Figure 1, for whitebox **physical** attack. \n",
    "- If the input is a $1000\\times 1000$ image, the input space is so big.\n",
    "  - it is hard to imagine all the possible perturbations, so some of them work out.\n",
    "\n",
    "#### Fake news and deepfakes\n",
    "\n",
    "- You may have heard of [deepfakes](https://en.wikipedia.org/wiki/Deepfake).\n",
    "- See [this 2020 article](https://www.theguardian.com/technology/2020/jan/13/what-are-deepfakes-and-how-can-you-spot-them).\n",
    "  - which led me to this [hilarious 2019 deepfake video](https://www.youtube.com/watch?v=4GdWD0yxvqw&feature=emb_logo). "
   ]
  },
  {
   "cell_type": "markdown",
   "metadata": {},
   "source": [
    "#### Environmental impact\n",
    "\n",
    "- Current methods require:\n",
    "  – A lot of data.\n",
    "  – A lot of time to train.\n",
    "  – Many training runs to do hyper-parameter optimization.\n",
    "- See [this 2019 paper](https://arxiv.org/pdf/1906.02243.pdf), Table 1, for the CO$_2$ emissions of training a sophisticated deep learning model.\n",
    "  - Entire training procedure emits 5 times more CO2 than lifetime emission of a car, including making the car\n"
   ]
  },
  {
   "cell_type": "markdown",
   "metadata": {},
   "source": [
    "#### Ending on a positive note: random cool stuff\n",
    "\n",
    "- Style transfer: given a \"content image\" and a \"style image\", create a new image with the content of one and the style of the other.\n",
    "  - Here is the [original paper from 2015](https://arxiv.org/pdf/1508.06576.pdf), see Figure 2.\n",
    "  - Here are more in [this 2016 paper](https://arxiv.org/pdf/1601.04589.pdf); see, e.g. Figures 1 and 7.\n",
    "  - This has been done for video as well; see [this video from 2016](https://www.youtube.com/watch?v=Khuj4ASldmU).\n",
    "- Colourization: see [this 2016 project](http://iizuka.cs.tsukuba.ac.jp/projects/colorization/en/).\n",
    "- Inceptionism: let the neural network \"make things up\"\n",
    "  - [2015 article](https://ai.googleblog.com/2015/06/inceptionism-going-deeper-into-neural.html)\n",
    "  - \"Deep dream\" [video from 2015](https://www.youtube.com/watch?v=dbQh1I_uvjo)."
   ]
  },
  {
   "cell_type": "code",
   "execution_count": null,
   "metadata": {},
   "outputs": [],
   "source": []
  }
 ],
 "metadata": {
  "celltoolbar": "Slideshow",
  "kernelspec": {
   "display_name": "Python 3",
   "language": "python",
   "name": "python3"
  },
  "language_info": {
   "codemirror_mode": {
    "name": "ipython",
    "version": 3
   },
   "file_extension": ".py",
   "mimetype": "text/x-python",
   "name": "python",
   "nbconvert_exporter": "python",
   "pygments_lexer": "ipython3",
   "version": "3.8.5"
  }
 },
 "nbformat": 4,
 "nbformat_minor": 4
}
