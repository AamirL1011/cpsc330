{
 "cells": [
  {
   "cell_type": "markdown",
   "metadata": {},
   "source": [
    "# CPSC 330 Lecture 23"
   ]
  },
  {
   "cell_type": "markdown",
   "metadata": {},
   "source": [
    "Outline:\n",
    "\n",
    "- Announcements + survey (5 min)\n",
    "- Ethics (15 min)\n",
    "- Ethics activity (20 min)\n",
    "- Break (5 min)\n",
    "- Course review (15 min)\n",
    "- Unsolicited advice (20 min)"
   ]
  },
  {
   "cell_type": "markdown",
   "metadata": {},
   "source": [
    "Reminder to self: **turn on recording!**"
   ]
  },
  {
   "cell_type": "markdown",
   "metadata": {},
   "source": [
    "## Announcements + survey (5 min)\n",
    "\n",
    "- [CPSC 330 exit survey](https://ubc.ca1.qualtrics.com/jfe/form/SV_e9EDuThtRBbBaJL).\n",
    "- hw8 due this Thursday, April 9 at 6pm.\n",
    "- No more tutorials.\n",
    "- This is the last lecture.\n",
    "- Final exam is still April 24 from 12-2:30pm.\n",
    "  - Tentative plan: similar to an assignment, open-book, but time-limited and no collaboration allowed.\n",
    "  - Rationale: would do a reasonable job of testing the main points of the course; it would be harder to cheat than a closed-book exam.\n",
    "  - Finalized information to follow soon.\n",
    "- We have added 10 office hours during April 8-23; see the [calendar](https://www.cs.ubc.ca/~mgelbart/calendar.html).\n",
    "  - These will take place on Collaborate Ultra."
   ]
  },
  {
   "cell_type": "markdown",
   "metadata": {},
   "source": [
    "## Ethics for ML (15 min)\n",
    "\n",
    "- Today I will attempt to say a bit about ethics, per your request at the start of the course. \n",
    "- Warning: I do not know anything about ethics.\n",
    "- I looked through the topics of CPSC 430 (Computers and Society) and did not find much about ML.\n",
    "  - Thanks to Kevin L-B for sharing these.\n",
    "- I had a bit more luck with DSCI 541 (Privacy, Ethics and Security) from the MDS program.\n",
    "  - Thanks to Ed Knorr for sharing these."
   ]
  },
  {
   "cell_type": "markdown",
   "metadata": {},
   "source": [
    "Privacy and ethics issues around data have been in the news a lot lately. E.g. the [Cambridge Analytica scandal](https://en.wikipedia.org/wiki/Facebook%E2%80%93Cambridge_Analytica_data_scandal) - there's even a [Netflix movie](https://www.netflix.com/ca/title/80117542) about it.\n",
    "\n",
    "We saw various eyebrow-raising results in previous lectures:\n",
    "\n",
    "- in lecture 5 with the movie review dataset, the feature \"women\" had a negative logistic regression coefficient.\n",
    "- in lecture 14 on deep learning, we discussed:\n",
    "  - the model picking up on the wrong features, e.g. \n",
    "    - incorrectly predicting sports based on a person's race\n",
    "    - the word \"PORTABLE\" for diagnosing cardiomegaly\n",
    "  - adversarial examples specifically designed to fool a neural network\n",
    "  - deepfakes\n",
    "- in lecture 15 on natural language data, we saw inherently biased word embeddings.\n",
    "- maybe more"
   ]
  },
  {
   "cell_type": "markdown",
   "metadata": {},
   "source": [
    "There seem to be various problems here:\n",
    "\n",
    "- Bias/fairness\n",
    "- AI safety\n",
    "- Privacy\n",
    "- and more."
   ]
  },
  {
   "cell_type": "markdown",
   "metadata": {},
   "source": [
    "#### Case study: criminal machine learning"
   ]
  },
  {
   "cell_type": "markdown",
   "metadata": {},
   "source": [
    "- Calling BS video 5.5 on [\"Criminal Machine Learning\"](https://www.youtube.com/watch?v=rga2-d1oi30&list=PLPnZfvKID1Sje5jWxt-4CSZD7bUI4gSPS&index=27) (pun intended, presumably?) discussed a case of predicting whether someone is a criminal based on their face.\n",
    "- There is also a text case study [here](https://callingbullshit.org/case_studies/case_study_criminal_machine_learning.html) in which they critique (criticize?) the work.\n",
    "- They show some sample training data:"
   ]
  },
  {
   "cell_type": "markdown",
   "metadata": {},
   "source": [
    "![](https://callingbullshit.org/case_studies/img/criminals.png)"
   ]
  },
  {
   "cell_type": "markdown",
   "metadata": {},
   "source": [
    "- Your prediction algorithm is only as good (or as bad) as your traning data.\n",
    "- Possible problems: \n",
    "  - Wearing a white shirt and jacket vs. other clothes (turns out the authors removed these).\n",
    "  - Facial expressions (e.g. smiling vs. frowning) - this is what the Calling BS folks think is happening.\n",
    "  - Cropping, lighting, etc.\n",
    "- It would be interesting to try something like SHAP or LIME here to highlight what areas of the image are important."
   ]
  },
  {
   "cell_type": "markdown",
   "metadata": {},
   "source": [
    "- But the Calling BS post also raises a fundamentally different type of problem:\n",
    "  - What if the criminal justice system was biased in the first place?\n",
    "  - E.g. it tends to convict less attractive faces.\n",
    "  - Then the algorithm will learn to emulate this.\n",
    "- It would be challenging to get around this problem.\n",
    "- How can our algorithm be \"better\" (less biased) than humans if humans labeled the data?!"
   ]
  },
  {
   "cell_type": "markdown",
   "metadata": {},
   "source": [
    "Let's take a step back here: \n",
    "\n",
    "- How much \"signal\" do we expect to get from faces anyway? \n",
    "  - I would say, maybe a tiny bit better than random. \n",
    "- The authors claim 90% accuracy. That sounds too good to be true. Per the Calling BS videos, if it sounds too good to be true, it probably is.\n",
    "- Even if the results seem to make sense, do the risks outweigh the benefits?"
   ]
  },
  {
   "cell_type": "markdown",
   "metadata": {},
   "source": [
    "#### Suggested strategies: experimental set-up problems\n",
    "\n",
    "- Ask yourself, are my results too good to be true?\n",
    "  - e.g. ![](img/piazza_tgtbt2.png)\n",
    "  - The OP did the right thing here by questioning the results.\n",
    "- Use baselines like `DummyClassifier`.\n",
    "- Look at feature importances.\n",
    "- Manually look at some of the correct/incorrect predictions (or very low/high error for regression).\n",
    "- Try making changes or perturbations (e.g. different train/validation folds) and check if your results are robust.\n",
    "- When you are done, think carefully about your confidence (or _credence_, see lecture 22) regarding any claims you make."
   ]
  },
  {
   "cell_type": "markdown",
   "metadata": {},
   "source": [
    "#### Suggested strategies: ethical/fairness issues\n",
    "\n",
    "- Bias usually comes from the data, not the algorithm. Think carefully about how the training data were collected.\n",
    "- Familiarize yourself with how your model will be used.\n",
    "- Ask yourself who might be affected by this model in deployment. "
   ]
  },
  {
   "cell_type": "markdown",
   "metadata": {},
   "source": [
    "## Ethics activity (20 min)\n",
    "\n",
    "**Background info.** University admissions offices are known to use ML (often through a specialized 3rd party company) as part of their admissions process. Here are some things they might want to predict (this is a mix of [things](https://www.nytimes.com/interactive/2019/09/10/magazine/college-admissions-paul-tough.html) I've [read](https://www.washingtonpost.com/business/2019/10/14/colleges-quietly-rank-prospective-students-based-their-personal-data/) and some speculation):\n",
    "\n",
    "- What is this student's chance of accepting an offer from us?\n",
    "- How much financial aid do we need to give this student in order for them to accept?\n",
    "- How well might the student do academically at our institution? How likely are they to graduate within 6 years?\n",
    "- Aside from tuition: how likely would the student be to donate in the future? In short, what is their [customer lifetime value](https://en.wikipedia.org/wiki/Customer_lifetime_value)? (We briefly mentioned this in lecture 17 on customer churn!)\n",
    "\n",
    "**Your task:** Watch [this short advertisement](https://www.youtube.com/watch?v=MjTZM7VQDzQ) for CBE, a [product](https://www.capturehighered.com/cbe-marketing-automation/) that helps universities \"engage with prospective students\" using a \"behavioral intelligence platform\". Then, in [today's Google Doc](https://docs.google.com/document/d/1Jgg8tKu5gloMtI3bUwyjGX-ugHqnIgnclH15Kdojdpg/edit?usp=sharing), answer at least **one** of the following questions:\n",
    "\n",
    "1. What sort of information could CBE capture that might be useful to feed into an ML algorithm like this?\n",
    "2. What are some possible ethical or fairness concerns about using this information?\n",
    "3. What sort of information about a student _does_ seem reasonable to use as part of the university admissions process?\n",
    "4. What if we're using the same information but having humans make the decisions, instead of ML? Does that change anything?\n",
    "\n",
    "BTW there are clearly some serious _privacy_ issues here, but let's try focus on the ethics/fairness issues.\n",
    "<br><br><br>"
   ]
  },
  {
   "cell_type": "markdown",
   "metadata": {},
   "source": [
    "(optional) Some notes, for those who are interested:\n",
    "\n",
    "- After making predictions for each student, they may try to optimize for a balanced class, e.g. a mix of \"asset types\" to balance out risks. This is reminiscent of [portfolio optimization](https://en.wikipedia.org/wiki/Portfolio_optimization) in finance.\n",
    "- I suspect the situation is a bit better in Canada where most universities, and all top universities, are public. In the US private universities and colleges are a huge industry, and there are even a lot of for-profit post-secondary institutions.\n",
    "- I suspect the vast majority of prospective students are unaware that this information is being collected. Worse, some of these trackers might track activity _outside_ of the school website."
   ]
  },
  {
   "cell_type": "markdown",
   "metadata": {},
   "source": [
    "## Break (5 min)"
   ]
  },
  {
   "cell_type": "markdown",
   "metadata": {},
   "source": [
    "## Course review (15 min)\n",
    "\n",
    "#### Learning objectives\n",
    "\n",
    "Here are the course learning outcomes I came up with when proposing this new course:\n",
    "\n",
    "1. Identify problems that may be addressed with machine learning.\n",
    "2. Select the appropriate machine learning tool for a problem.\n",
    "3. Transform data of various types into usable features.\n",
    "4. Apply standard tools implementing supervised and unsupervised learning techniques.\n",
    "5. Describe core differences between training, validation, and testing regimes.\n",
    "6. Effectively communicate the results of a machine learning pipeline.\n",
    "7. Be realistic about the limitations of individual approaches and machine learning as a whole. \n",
    "8. Create reproducible workflows and pipelines.\n",
    "\n",
    "- How did we do? \n",
    "- Hopefully OK, except we skipped the last point (that will likely be its own new course).\n",
    "- I would also add:\n",
    "\n",
    "9. Identify and avoid scenarios in which training and testing data are accidentally mixed (the \"Golden Rule\").\n",
    "10. Employ good habits for applying ML, such as starting an analysis with a baseline estimator.\n",
    "\n",
    "because I think they are important enough to make it to the course-level list."
   ]
  },
  {
   "cell_type": "markdown",
   "metadata": {},
   "source": [
    "#### What did we cover?\n",
    "\n",
    "I see the course roughly like this (not in order):\n",
    "\n",
    "Part 1: Supervised learning on tabular data\n",
    "\n",
    "- Overfitting, train/validation/test/deployment, cross-validation\n",
    "- Feature preprocessing, pipelines, imputation, OHE, etc\n",
    "- The Golden Rule, various ways to accidentally violate it\n",
    "- Classification metrics: confusion matrix, precision/recall, ROC, AUC\n",
    "- Regression metrics: MSE, MAPE\n",
    "- Regression: transforming the targets\n",
    "- Feature importances, feature selection"
   ]
  },
  {
   "cell_type": "markdown",
   "metadata": {},
   "source": [
    "Part 2: Other data types (non-tabular)\n",
    "\n",
    "- Time series\n",
    "- Right-censored data / survival analysis\n",
    "- Computer vision with deep learning\n",
    "- Language data, text preprocessing\n",
    "- Ratings data"
   ]
  },
  {
   "cell_type": "markdown",
   "metadata": {},
   "source": [
    "Part 3: Other stuff\n",
    "\n",
    "- Some Python (numpy, pandas, scipy sparse matrices)\n",
    "- Hyperparameter optimization\n",
    "- Ensembles\n",
    "- Outlier detection\n",
    "- Clustering\n",
    "- A bunch of models: \n",
    "  - Dummy*\n",
    "  - linear models (ridge, lasso, huber, logistic regression, SGD*)\n",
    "  - tree-based models (random forest, gradient boosted trees)\n",
    "  - KNN classifier/regressor\n",
    "  - pre-trained deep learning models\n",
    "- Communicating your results (including visualizations)\n",
    "- ML skepticism\n",
    "- Ethics for ML"
   ]
  },
  {
   "cell_type": "markdown",
   "metadata": {},
   "source": [
    "#### What would I do differently?\n",
    "\n",
    "Lots of things, of course! Here are some important ones:\n",
    "\n",
    "- Introduce `Pipeline` earlier.\n",
    "- Throughout the course, default to cross-validation instead of train/valid split.\n",
    "- Find a dataset with multi-class classification for a section of the course.\n",
    "- Spend more time on quantifying the uncertainty in one's results (scores, predictions, feature importances, etc).\n",
    "- Add a lecture on deploying a trained model.\n",
    "- Skip some of the content on text preprocessing.\n",
    "- Skip some of the content on SVMs.\n",
    "- Skip `Lasso`?\n",
    "\n",
    "I'm sure you have other suggestions - feel free to drop me an email, submit my contact form anonymously at mikegelbart.com, or drop them in the course evaluations."
   ]
  },
  {
   "cell_type": "markdown",
   "metadata": {},
   "source": [
    "#### 330 vs. 340\n",
    "\n",
    "- Just talked about it - see recording.\n",
    "\n",
    "# TODO - add this"
   ]
  },
  {
   "cell_type": "markdown",
   "metadata": {},
   "source": [
    "#### What was not covered\n",
    "\n",
    "- Deployment\n",
    "- Big data, distributed computing\n",
    "- How ML methods work (CPSC 340)\n",
    "- Probabilistic methods\n",
    "- A lot of unsupervised learning, semi-supervised"
   ]
  },
  {
   "cell_type": "markdown",
   "metadata": {},
   "source": [
    "## Unsolicited advice: working with others (20 min)"
   ]
  },
  {
   "cell_type": "markdown",
   "metadata": {},
   "source": [
    "- I sometimes end my courses with \"unsolicited life advice\".\n",
    "- I won't repeat myself here because some of you took CPSC 340 with me. But if you're interested [it's on YouTube](https://www.youtube.com/watch?v=_7zYxpzrKmQ&list=PLWmXHcz_53Q02ZLeAxigki1JZFfCO6M-b&index=34&t=0s).\n",
    "- Instead of general life advice I'll try a different topic this time: unsolicited advice on _working with others_.\n",
    "- These are just my opinions. They not be complete, or correct. Follow my advice at your own risk!\n",
    "\n",
    "<br><br>"
   ]
  },
  {
   "cell_type": "markdown",
   "metadata": {},
   "source": [
    "#### Don't lead with blame - investigate first\n",
    "\n",
    "Leading with blame:\n",
    "\n",
    "> Hey Malcolm, you were supposed to submit this form by the deadline - why didn't you?\n",
    "\n",
    "Instead, try this:\n",
    "\n",
    "> Hey Malcolm, from my end it looks like the form hasn't been submitted - can you shed some light on the situation?\n",
    "\n",
    "- Blaming others is very embarrassing and damaging if the blame is not deserved.\n",
    "- And also not great if the blame _is_ deserved.\n",
    "\n",
    "<br><br>"
   ]
  },
  {
   "cell_type": "markdown",
   "metadata": {},
   "source": [
    "#### The fundamental attribution error\n",
    "\n",
    "- https://en.wikipedia.org/wiki/Fundamental_attribution_error\n",
    "- If you miss a deadline: “I was too busy moving apartments.”\n",
    "- If your teammate misses a deadline: “They are incompetent.”\n",
    "- This is a known psychological phenomenon, so try to correct for this. Are you sure you know why they missed the deadline?\n",
    "\n",
    "<br><br>"
   ]
  },
  {
   "cell_type": "markdown",
   "metadata": {},
   "source": [
    "#### Don't procrastinate on disappointing others\n",
    "\n",
    "- This can be highly damaging, and is a serious form of procrastination.\n",
    "- If you need to break a commitment, communicate this right away. \n",
    " - Can't get your work done on time.\n",
    " - Need to pull out of a project.\n",
    " - Need to move your organization to another city.\n",
    "- Consider how much better this is for the person being disappointed.\n",
    "\n",
    "<br><br>"
   ]
  },
  {
   "cell_type": "markdown",
   "metadata": {},
   "source": [
    "#### Your opinion is not special\n",
    "\n",
    "- If you disagree with someone, why do you think you're more likely to be right than the other person?\n",
    "  - After all, there's a symmetry to the situation.\n",
    "- I think most people are in denial about this.\n",
    "  - That is, if you take an issue (e.g. \"will lowering taxes improve the economy?\", or religious beliefs), the credence of opposing sides are likely both above 50%. \n",
    "- A good question to ask yourself: is there data? E.g. if you are always on time and your co-worker is always late, then OK to trust your opinion on scheduling.\n",
    "- My approach:\n",
    "  - For critical decisions: try to \"average\" different opinions, including my own, based on trustworthiness.\n",
    "  - For most decisions: do it my way because life is more fun that way.\n",
    "  \n",
    "<br><br>"
   ]
  },
  {
   "cell_type": "markdown",
   "metadata": {},
   "source": [
    "## Conclusion\n",
    "\n",
    "That's all, folks! Thank you for your active participation and supportive attitude."
   ]
  },
  {
   "cell_type": "code",
   "execution_count": null,
   "metadata": {},
   "outputs": [],
   "source": []
  }
 ],
 "metadata": {
  "celltoolbar": "Slideshow",
  "kernelspec": {
   "display_name": "Python 3",
   "language": "python",
   "name": "python3"
  },
  "language_info": {
   "codemirror_mode": {
    "name": "ipython",
    "version": 3
   },
   "file_extension": ".py",
   "mimetype": "text/x-python",
   "name": "python",
   "nbconvert_exporter": "python",
   "pygments_lexer": "ipython3",
   "version": "3.7.6"
  }
 },
 "nbformat": 4,
 "nbformat_minor": 4
}
