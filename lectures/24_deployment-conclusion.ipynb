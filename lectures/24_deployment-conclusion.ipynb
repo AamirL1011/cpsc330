{
 "cells": [
  {
   "cell_type": "markdown",
   "metadata": {},
   "source": [
    "# CPSC 330 Lecture 20"
   ]
  },
  {
   "cell_type": "markdown",
   "metadata": {},
   "source": [
    "Outline:\n",
    "\n",
    "- Announcements\n",
    "- Model deployment (30 min)\n",
    "- Instructor/TA evaluations + Break (15 min)\n",
    "- Combining multiple tables (10 min)\n",
    "- Conclusion (15 min)"
   ]
  },
  {
   "cell_type": "markdown",
   "metadata": {},
   "source": [
    "Reminder to self: **turn on recording!**"
   ]
  },
  {
   "cell_type": "code",
   "execution_count": 1,
   "metadata": {
    "slideshow": {
     "slide_type": "skip"
    }
   },
   "outputs": [],
   "source": [
    "import numpy as np\n",
    "import pandas as pd\n",
    "import matplotlib.pyplot as plt"
   ]
  },
  {
   "cell_type": "code",
   "execution_count": 57,
   "metadata": {},
   "outputs": [],
   "source": [
    "plt.rcParams['font.size'] = 16"
   ]
  },
  {
   "cell_type": "code",
   "execution_count": 45,
   "metadata": {},
   "outputs": [],
   "source": [
    "from sklearn.preprocessing import StandardScaler\n",
    "from sklearn.impute import SimpleImputer\n",
    "from sklearn.linear_model import Ridge, LogisticRegression, SGDClassifier, SGDRegressor\n",
    "from sklearn.ensemble import RandomForestRegressor, RandomForestClassifier\n",
    "from sklearn.svm import SVC\n",
    "from sklearn.dummy import DummyClassifier, DummyRegressor\n",
    "import sklearn.datasets\n",
    "from sklearn.model_selection import train_test_split, GridSearchCV\n",
    "from sklearn.metrics import confusion_matrix, classification_report\n",
    "from sklearn.feature_extraction.text import CountVectorizer\n",
    "from sklearn.feature_selection import RFE"
   ]
  },
  {
   "cell_type": "code",
   "execution_count": 3,
   "metadata": {},
   "outputs": [],
   "source": [
    "from sklearn.metrics import plot_confusion_matrix"
   ]
  },
  {
   "cell_type": "code",
   "execution_count": 4,
   "metadata": {},
   "outputs": [],
   "source": [
    "from pandas_profiling import ProfileReport"
   ]
  },
  {
   "cell_type": "markdown",
   "metadata": {},
   "source": [
    "- These next 3 cells could just be replaced with `import load_process_data`.\n",
    "- But this way I can make changes to that file and not need to restart my kernel each time.\n",
    "- So it's convenient for development."
   ]
  },
  {
   "cell_type": "code",
   "execution_count": null,
   "metadata": {},
   "outputs": [],
   "source": [
    "from plot_classifier import plot_classifier"
   ]
  },
  {
   "cell_type": "code",
   "execution_count": null,
   "metadata": {},
   "outputs": [],
   "source": [
    "plt.rcParams['font.size'] = 16"
   ]
  },
  {
   "cell_type": "markdown",
   "metadata": {},
   "source": [
    "# NOTE\n",
    "\n",
    "- this year we already introduced these in lecture 9\n",
    "- but we still shoud talk about how CatBoost handles categoricals? And some other details below."
   ]
  },
  {
   "cell_type": "code",
   "execution_count": null,
   "metadata": {},
   "outputs": [],
   "source": [
    "from catboost import CatBoostClassifier, CatBoostRegressor, Pool"
   ]
  },
  {
   "cell_type": "code",
   "execution_count": null,
   "metadata": {},
   "outputs": [],
   "source": [
    "def show_scores_factory(X_train, y_train, X_test, y_test):\n",
    "    def show_scores(model, **fit_kwargs):\n",
    "        model.fit(X_train, y_train, **fit_kwargs);\n",
    "        return model.score(X_test, y_test)\n",
    "    return show_scores"
   ]
  },
  {
   "cell_type": "markdown",
   "metadata": {},
   "source": [
    "## Announcements\n",
    "\n",
    "Same as last class:\n",
    "\n",
    "- hw7 has been posted, due Sunday evening.\n",
    "  - I tried to make it shorter than previous assignments.\n",
    "- Tutorials are still happening as scheduled, on Collaborate Ultra.\n",
    "- Change to course grading scheme per Dean's directive; see [here](https://piazza.com/class/k1gx4b3djbv3ph?cid=319)."
   ]
  },
  {
   "cell_type": "markdown",
   "metadata": {},
   "source": [
    "Today's class:\n",
    "\n",
    "- A bunch of random things I wanted to cover at some point.\n",
    "- Next week: communication and ethics (hopefully)."
   ]
  },
  {
   "cell_type": "markdown",
   "metadata": {},
   "source": [
    "## Break (15 min)\n",
    "\n",
    "Please take the opportunity to fill out the course evaluations.\n",
    "\n",
    "https://canvas.ubc.ca/courses/53561/external_tools/4732"
   ]
  },
  {
   "cell_type": "markdown",
   "metadata": {},
   "source": [
    "## Gradient boosted trees (15 min)"
   ]
  },
  {
   "cell_type": "markdown",
   "metadata": {},
   "source": [
    "Recently a lot of the winning models have been one of the following:\n",
    "\n",
    "|  Name   |  GitHub |  web/docs | Year | GitHub stars |\n",
    "|---------|---------|---------|---------|--------------|\n",
    "|  XGBoost | [link](https://github.com/dmlc/xgboost) | [link](https://xgboost.ai/) | 2016 | 19k\n",
    "| LightGBM |  [link](https://github.com/microsoft/LightGBM) | [link](https://lightgbm.readthedocs.io/en/latest/) |  2017 | 11k |\n",
    "| CatBoost | [link](https://github.com/catboost/catboost) | [link](https://catboost.ai/) | 2017 | 5k |\n",
    "\n",
    "When I checked, all repos updated in the last 24 hrs (i.e., active development)."
   ]
  },
  {
   "cell_type": "markdown",
   "metadata": {},
   "source": [
    "- All of these implement [gradient boosting](https://en.wikipedia.org/wiki/Gradient_boosting), which is beyond the scope of the course.\n",
    "  - And not covered in 340, but it probably should be!\n",
    "- These 3 packages are fairly similar. Today I'll focus on CatBoost.\n",
    "- I believe CatBoost and LightGBM seems to be performing better than XGBoost these days, but they are similar."
   ]
  },
  {
   "cell_type": "markdown",
   "metadata": {},
   "source": [
    "- I avoided these earlier in the course because I thought they'd be hard to install.\n",
    "- It seems a lot of issues were solved since I tried XGBoost 1-2 years ago - it was easy!\n",
    "- I think next time I might put these a lot earlier and use CatBoost instead of sklearn random forests everywhere, because I think it's a better choice. "
   ]
  },
  {
   "cell_type": "markdown",
   "metadata": {},
   "source": [
    "#### Categorical variables\n",
    "\n",
    "- Of these 3, CatBoost is special because of how it handles categorical variables - hence \"Cat\".\n",
    "- Thinking back to decision trees, we talked about splits like `Humidity > 1.2` or `Longitude > 90`. \n",
    "- Because we OHE categorical variables, it will give splits like `Location_Sydney > 0.5`, where that number 0.5 could be anywhere between 0 and 1. \n",
    "- (First off, there is no reason sklearn's decision trees or random forests need to require OHE; they could have easily learned rules like `Location == 'Sydney'`, which is equivalent to `Location_Sydney > 0.5` after OHE. I believe they didn't do this to be consistent with other sklearn estimators. However, I wonder if this makes performance worse, in particular for random forests.)\n",
    "- However, is OHE the best encoding? Do we want 100 columns if there are 100 categories? What about `drop='first'` and `handle_error='ignore'`. It seems like a lot of hassle.\n",
    "- CatBoost uses a more sophisticated encoding from categorical to numeric; see [here](https://catboost.ai/docs/concepts/algorithm-main-stages_cat-to-numberic.html#algorithm-main-stages_cat-to-numberic).\n",
    "  - From the documentation: \"Before each split is selected in the tree (see Choosing the tree structure), categorical features are transformed to numerical. This is done using various statistics on combinations of categorical features and combinations of categorical and numerical features.\"\n",
    "  - This makes me think the conversion is done separately _at each split_.\n",
    "  - So we can't just do this transformation in advance, it is entangled deeply with the algorithm. \n",
    "  - And also this makes sense, since the popularity of each value will change as your split the data.\n",
    "  - Importantly, if there are 100 possible categories, you may not end up with 100 columns.\n",
    "  - (From my reading of the documentation it looks like you end up with some smaller number of columns, depending on the type of _targets_: one per class for classification, and for regression this is controlled by a hyperparameter $k$.)\n",
    "  - (Interestingly, the number of columns does not seem to depend on the number of possible categories of the categorical variable!)\n"
   ]
  },
  {
   "cell_type": "code",
   "execution_count": null,
   "metadata": {},
   "outputs": [],
   "source": [
    "X_train_housing, X_valid_housing, X_test_housing, y_train_housing, y_valid_housing, y_test_housing = load_process_data.load_housing()"
   ]
  },
  {
   "cell_type": "code",
   "execution_count": null,
   "metadata": {},
   "outputs": [],
   "source": [
    "X_train_housing.head()"
   ]
  },
  {
   "cell_type": "code",
   "execution_count": null,
   "metadata": {},
   "outputs": [],
   "source": [
    "y_train_housing_log = np.log(y_train_housing)\n",
    "y_valid_housing_log = np.log(y_valid_housing)\n",
    "y_test_housing_log  = np.log(y_test_housing)"
   ]
  },
  {
   "cell_type": "code",
   "execution_count": null,
   "metadata": {},
   "outputs": [],
   "source": [
    "show_scores_housing = show_scores_factory(X_train_housing, y_train_housing_log, X_valid_housing, y_valid_housing_log)"
   ]
  },
  {
   "cell_type": "code",
   "execution_count": null,
   "metadata": {},
   "outputs": [],
   "source": [
    "show_scores_housing(Ridge())"
   ]
  },
  {
   "cell_type": "code",
   "execution_count": null,
   "metadata": {},
   "outputs": [],
   "source": [
    "show_scores_housing(RandomForestRegressor())"
   ]
  },
  {
   "cell_type": "code",
   "execution_count": null,
   "metadata": {},
   "outputs": [],
   "source": [
    "show_scores_housing(xgb.XGBRegressor())"
   ]
  },
  {
   "cell_type": "code",
   "execution_count": null,
   "metadata": {},
   "outputs": [],
   "source": [
    "show_scores_housing(lgb.LGBMRegressor())"
   ]
  },
  {
   "cell_type": "code",
   "execution_count": null,
   "metadata": {},
   "outputs": [],
   "source": [
    "show_scores_housing(CatBoostRegressor(), verbose=0)"
   ]
  },
  {
   "cell_type": "markdown",
   "metadata": {},
   "source": [
    "And now we try with proper handling of categorical variables:"
   ]
  },
  {
   "cell_type": "code",
   "execution_count": null,
   "metadata": {},
   "outputs": [],
   "source": [
    "X_train_housing_cat, X_valid_housing_cat, X_test_housing_cat, y_train_housing, y_valid_housing, y_test_housing, categorical_features = load_process_data.load_housing(ohe=False)"
   ]
  },
  {
   "cell_type": "code",
   "execution_count": null,
   "metadata": {},
   "outputs": [],
   "source": [
    "X_train_housing_cat.head()"
   ]
  },
  {
   "cell_type": "code",
   "execution_count": null,
   "metadata": {},
   "outputs": [],
   "source": [
    "X_train_housing_cat[categorical_features].head()"
   ]
  },
  {
   "cell_type": "code",
   "execution_count": null,
   "metadata": {},
   "outputs": [],
   "source": [
    "print(\", \".join(categorical_features))"
   ]
  },
  {
   "cell_type": "code",
   "execution_count": null,
   "metadata": {},
   "outputs": [],
   "source": [
    "cat = CatBoostRegressor(cat_features=categorical_features)\n",
    "cat.fit(X_train_housing_cat, y_train_housing_log, verbose=100);"
   ]
  },
  {
   "cell_type": "code",
   "execution_count": null,
   "metadata": {},
   "outputs": [],
   "source": [
    "cat.score(X_valid_housing_cat, y_valid_housing_log)"
   ]
  },
  {
   "cell_type": "markdown",
   "metadata": {},
   "source": [
    "In this case the code ran slower and it didn't seem to help, but I suspect it will in some cases!"
   ]
  },
  {
   "cell_type": "markdown",
   "metadata": {},
   "source": [
    "#### Feature importances"
   ]
  },
  {
   "cell_type": "markdown",
   "metadata": {},
   "source": [
    "- The syntax for getting feature importances is a bit clunky.\n",
    "- You first need to create a `catboost.Pool` object storing the data:"
   ]
  },
  {
   "cell_type": "code",
   "execution_count": null,
   "metadata": {},
   "outputs": [],
   "source": [
    "train_data_pool = Pool(X_train_housing_cat, y_train_housing_log, cat_features=categorical_features)"
   ]
  },
  {
   "cell_type": "markdown",
   "metadata": {},
   "source": [
    "And then you can get feature importances:"
   ]
  },
  {
   "cell_type": "code",
   "execution_count": null,
   "metadata": {},
   "outputs": [],
   "source": [
    "importances = cat.get_feature_importance(train_data_pool)"
   ]
  },
  {
   "cell_type": "markdown",
   "metadata": {},
   "source": [
    "And we can display them as usual:"
   ]
  },
  {
   "cell_type": "code",
   "execution_count": null,
   "metadata": {},
   "outputs": [],
   "source": [
    "importances = pd.DataFrame(data=importances, index=X_train_housing_cat.columns, columns=[\"Importance\"])\n",
    "importances.sort_values(by=\"Importance\", ascending=False)"
   ]
  },
  {
   "cell_type": "code",
   "execution_count": null,
   "metadata": {},
   "outputs": [],
   "source": [
    "print(\", \".join(categorical_features))"
   ]
  },
  {
   "cell_type": "markdown",
   "metadata": {},
   "source": [
    "- You can also get SHAP values, both through the SHAP package or built-in to CatBoost.\n",
    "- With proper handling of categorical variables, we can see an importance for the entire categorical variable, not just one possible value of it, which is kind of nice."
   ]
  },
  {
   "cell_type": "markdown",
   "metadata": {},
   "source": [
    "## Model comparison (15 min)"
   ]
  },
  {
   "cell_type": "markdown",
   "metadata": {},
   "source": [
    "Very rough rule of thumb, when working on a problem with **tabular data**, try the following, in order: \n",
    "\n",
    "1. `DummyRegressor` or `DummyClassifer`\n",
    "2. `HuberRegressor` or `LogisticRegression`\n",
    "3. `CatBoostRegressor` or `CatBoostClassifier`"
   ]
  },
  {
   "cell_type": "markdown",
   "metadata": {},
   "source": [
    "We'll now do a \"bake-off\" between different models and different datasets in the course, following the outlier scavenger hunt from L19."
   ]
  },
  {
   "cell_type": "markdown",
   "metadata": {},
   "source": [
    "#### Census data (lecture 7)"
   ]
  },
  {
   "cell_type": "code",
   "execution_count": null,
   "metadata": {},
   "outputs": [],
   "source": [
    "X_train_adult, y_train_adult, X_test_adult, y_test_adult, _ = load_process_data.load_adult()\n",
    "X_train_adult.shape"
   ]
  },
  {
   "cell_type": "code",
   "execution_count": null,
   "metadata": {},
   "outputs": [],
   "source": [
    "X_train_adult.head()"
   ]
  },
  {
   "cell_type": "code",
   "execution_count": null,
   "metadata": {},
   "outputs": [],
   "source": [
    "show_scores_adult = show_scores_factory(X_train_adult, y_train_adult, X_test_adult, y_test_adult)"
   ]
  },
  {
   "cell_type": "code",
   "execution_count": null,
   "metadata": {},
   "outputs": [],
   "source": [
    "show_scores_adult(DummyClassifier(strategy=\"prior\"))"
   ]
  },
  {
   "cell_type": "code",
   "execution_count": null,
   "metadata": {},
   "outputs": [],
   "source": [
    "show_scores_adult(LogisticRegression(max_iter=1000))"
   ]
  },
  {
   "cell_type": "code",
   "execution_count": null,
   "metadata": {},
   "outputs": [],
   "source": [
    "show_scores_adult(xgb.XGBClassifier())"
   ]
  },
  {
   "cell_type": "code",
   "execution_count": null,
   "metadata": {},
   "outputs": [],
   "source": [
    "show_scores_adult(lgb.LGBMClassifier())"
   ]
  },
  {
   "cell_type": "code",
   "execution_count": null,
   "metadata": {},
   "outputs": [],
   "source": [
    "show_scores_adult(CatBoostClassifier(), verbose=100)"
   ]
  },
  {
   "cell_type": "code",
   "execution_count": null,
   "metadata": {},
   "outputs": [],
   "source": [
    "X_train_adult_cat, y_train_adult, X_test_adult_cat, y_test_adult, cat_features_adult = load_process_data.load_adult(ohe=False)"
   ]
  },
  {
   "cell_type": "code",
   "execution_count": null,
   "metadata": {},
   "outputs": [],
   "source": [
    "X_train_adult_cat.head()"
   ]
  },
  {
   "cell_type": "code",
   "execution_count": null,
   "metadata": {},
   "outputs": [],
   "source": [
    "cat = CatBoostClassifier(cat_features=cat_features_adult)\n",
    "cat.fit(X_train_adult_cat, y_train_adult, verbose=100);"
   ]
  },
  {
   "cell_type": "code",
   "execution_count": null,
   "metadata": {},
   "outputs": [],
   "source": [
    "cat.score(X_test_adult_cat, y_test_adult)"
   ]
  },
  {
   "cell_type": "markdown",
   "metadata": {},
   "source": [
    "# TODO\n",
    "\n",
    "compare on AUC as well, accuracy might not be as meaningful"
   ]
  },
  {
   "cell_type": "markdown",
   "metadata": {},
   "source": [
    "#### Movie review data (lecture 5)"
   ]
  },
  {
   "cell_type": "code",
   "execution_count": null,
   "metadata": {},
   "outputs": [],
   "source": [
    "X_train_imdb, y_train_imdb, X_test_imdb, y_test_imdb = load_process_data.load_movie()\n",
    "X_train_imdb.shape"
   ]
  },
  {
   "cell_type": "code",
   "execution_count": null,
   "metadata": {},
   "outputs": [],
   "source": [
    "type(X_train_imdb)"
   ]
  },
  {
   "cell_type": "code",
   "execution_count": null,
   "metadata": {},
   "outputs": [],
   "source": [
    "show_scores_movie = show_scores_factory(X_train_imdb, y_train_imdb, X_test_imdb, y_test_imdb)"
   ]
  },
  {
   "cell_type": "code",
   "execution_count": null,
   "metadata": {},
   "outputs": [],
   "source": [
    "show_scores_movie(DummyClassifier(strategy=\"prior\"))"
   ]
  },
  {
   "cell_type": "code",
   "execution_count": null,
   "metadata": {},
   "outputs": [],
   "source": [
    "show_scores_movie(LogisticRegression(max_iter=1000))"
   ]
  },
  {
   "cell_type": "code",
   "execution_count": null,
   "metadata": {},
   "outputs": [],
   "source": [
    "show_scores_movie(xgb.XGBClassifier())"
   ]
  },
  {
   "cell_type": "markdown",
   "metadata": {},
   "source": [
    "LightGBM seems to kill my kernel in this case... too many features?? Or maybe it can't handle sparse matrices as input? That seems surprising though."
   ]
  },
  {
   "cell_type": "code",
   "execution_count": null,
   "metadata": {},
   "outputs": [],
   "source": [
    "# show_scores_movie(lgb.LGBMClassifier())"
   ]
  },
  {
   "cell_type": "code",
   "execution_count": null,
   "metadata": {},
   "outputs": [],
   "source": [
    "show_scores_movie(CatBoostClassifier(), verbose=100)"
   ]
  },
  {
   "cell_type": "markdown",
   "metadata": {},
   "source": [
    "There are no categorical features here (they are all word counts), so no need to do another experiment."
   ]
  },
  {
   "cell_type": "markdown",
   "metadata": {},
   "source": [
    "#### Rain in Australia data (lecture 16)"
   ]
  },
  {
   "cell_type": "code",
   "execution_count": null,
   "metadata": {},
   "outputs": [],
   "source": [
    "X_train_rain, y_train_rain, X_test_rain, y_test_rain, _ = load_process_data.load_rain()\n",
    "X_train_rain.shape"
   ]
  },
  {
   "cell_type": "code",
   "execution_count": null,
   "metadata": {},
   "outputs": [],
   "source": [
    "show_scores_rain = show_scores_factory(X_train_rain, y_train_rain, X_test_rain, y_test_rain)"
   ]
  },
  {
   "cell_type": "code",
   "execution_count": null,
   "metadata": {},
   "outputs": [],
   "source": [
    "show_scores_rain(DummyClassifier(strategy=\"prior\"))"
   ]
  },
  {
   "cell_type": "code",
   "execution_count": null,
   "metadata": {},
   "outputs": [],
   "source": [
    "show_scores_rain(LogisticRegression(max_iter=1000))"
   ]
  },
  {
   "cell_type": "code",
   "execution_count": null,
   "metadata": {},
   "outputs": [],
   "source": [
    "show_scores_rain(xgb.XGBClassifier(verbosity=1))"
   ]
  },
  {
   "cell_type": "code",
   "execution_count": null,
   "metadata": {},
   "outputs": [],
   "source": [
    "show_scores_rain(lgb.LGBMClassifier())"
   ]
  },
  {
   "cell_type": "code",
   "execution_count": null,
   "metadata": {},
   "outputs": [],
   "source": [
    "show_scores_rain(CatBoostClassifier(), verbose=100)"
   ]
  },
  {
   "cell_type": "code",
   "execution_count": null,
   "metadata": {},
   "outputs": [],
   "source": [
    "X_train_rain_cat, _, X_test_rain_cat, _, cat_features_rain = load_process_data.load_rain(ohe=False)\n",
    "X_train_rain_cat.shape"
   ]
  },
  {
   "cell_type": "code",
   "execution_count": null,
   "metadata": {},
   "outputs": [],
   "source": [
    "X_train_rain_cat.head()"
   ]
  },
  {
   "cell_type": "code",
   "execution_count": null,
   "metadata": {},
   "outputs": [],
   "source": [
    "cat = CatBoostClassifier(iterations=500, cat_features=cat_features_rain)\n",
    "cat.fit(X_train_rain_cat, y_train_rain, verbose=50);"
   ]
  },
  {
   "cell_type": "code",
   "execution_count": null,
   "metadata": {},
   "outputs": [],
   "source": [
    "cat.score(X_test_rain_cat, y_test_rain)"
   ]
  },
  {
   "cell_type": "markdown",
   "metadata": {},
   "source": [
    "#### Discussion\n",
    "\n",
    "- Overall CatBoost looks like a good bet. \n",
    "- We didn't do any hyperparameter tuning, this might change the results. Maybe they just have better defaults.\n",
    "  - In fact, we did not discuss hyperparameters at all for these fancy models.\n",
    "  - There are a ton of them!\n",
    "  - For CatBoost, a main hyperparameter controlling the fundamental tradeoff is `iterations`. \n",
    "    - This is similar to `n_estimators` in the sklearn random forests: larger = more complex models.\n",
    "  - Another main hyperparameter is `learning_rate` but its interpretation is a bit beyond our scope.\n",
    "  - These models should all be compatible with `RandomizedSearchCV`, etc.\n",
    "  - But CatBoost, at least, does not work out of the box for feature selection with `RFE`/`RFECV`\n",
    "- But I think it's pretty good. A bit slow though.\n",
    "  - Now that speed is an issue, we should note that increasing complexity via `iterations` also increases runtime.\n",
    "  - This is not always true, e.g. `gamma` in SVM and (for the most part) `C` in `LogisticRegression`.\n",
    "  - But in fact often we did get increased runtime with more complexity, e.g. more features from `CountVectorizer`. \n",
    "- I'm surprising that feeding in the raw categorical features doesn't seem to help in many cases. \n",
    "  - Isn't that the point of CatBoost?!\n",
    "  - It does seem to help with the Rain data.\n",
    "  - I will need to look into this more at some point.\n",
    "    - Maybe the code needs to be run for longer in these cases?\n",
    "    - Hyperparameter tuning should be done in each case, at least a bit."
   ]
  },
  {
   "cell_type": "markdown",
   "metadata": {},
   "source": [
    "## Break (5 min)"
   ]
  },
  {
   "cell_type": "markdown",
   "metadata": {},
   "source": [
    "## Combining multiple tables (10 min)"
   ]
  },
  {
   "cell_type": "markdown",
   "metadata": {},
   "source": [
    "- Take a look at the [Formula 1 race data set](https://www.kaggle.com/cjgdev/formula-1-race-data-19502017) from Kaggle. \n",
    "- The dataset contains **multiple CSV files**.\n",
    "- Let's read in one of them:"
   ]
  },
  {
   "cell_type": "code",
   "execution_count": 75,
   "metadata": {},
   "outputs": [
    {
     "data": {
      "text/html": [
       "<div>\n",
       "<style scoped>\n",
       "    .dataframe tbody tr th:only-of-type {\n",
       "        vertical-align: middle;\n",
       "    }\n",
       "\n",
       "    .dataframe tbody tr th {\n",
       "        vertical-align: top;\n",
       "    }\n",
       "\n",
       "    .dataframe thead th {\n",
       "        text-align: right;\n",
       "    }\n",
       "</style>\n",
       "<table border=\"1\" class=\"dataframe\">\n",
       "  <thead>\n",
       "    <tr style=\"text-align: right;\">\n",
       "      <th></th>\n",
       "      <th>raceId</th>\n",
       "      <th>driverId</th>\n",
       "      <th>constructorId</th>\n",
       "      <th>number</th>\n",
       "      <th>grid</th>\n",
       "      <th>position</th>\n",
       "      <th>positionText</th>\n",
       "      <th>positionOrder</th>\n",
       "      <th>points</th>\n",
       "      <th>laps</th>\n",
       "      <th>time</th>\n",
       "      <th>milliseconds</th>\n",
       "      <th>fastestLap</th>\n",
       "      <th>rank</th>\n",
       "      <th>fastestLapTime</th>\n",
       "      <th>fastestLapSpeed</th>\n",
       "      <th>statusId</th>\n",
       "    </tr>\n",
       "    <tr>\n",
       "      <th>resultId</th>\n",
       "      <th></th>\n",
       "      <th></th>\n",
       "      <th></th>\n",
       "      <th></th>\n",
       "      <th></th>\n",
       "      <th></th>\n",
       "      <th></th>\n",
       "      <th></th>\n",
       "      <th></th>\n",
       "      <th></th>\n",
       "      <th></th>\n",
       "      <th></th>\n",
       "      <th></th>\n",
       "      <th></th>\n",
       "      <th></th>\n",
       "      <th></th>\n",
       "      <th></th>\n",
       "    </tr>\n",
       "  </thead>\n",
       "  <tbody>\n",
       "    <tr>\n",
       "      <th>1</th>\n",
       "      <td>18</td>\n",
       "      <td>1</td>\n",
       "      <td>1</td>\n",
       "      <td>22.0</td>\n",
       "      <td>1</td>\n",
       "      <td>1.0</td>\n",
       "      <td>1</td>\n",
       "      <td>1</td>\n",
       "      <td>10.0</td>\n",
       "      <td>58</td>\n",
       "      <td>34:50.6</td>\n",
       "      <td>5690616.0</td>\n",
       "      <td>39.0</td>\n",
       "      <td>2.0</td>\n",
       "      <td>01:27.5</td>\n",
       "      <td>218.3</td>\n",
       "      <td>1</td>\n",
       "    </tr>\n",
       "    <tr>\n",
       "      <th>2</th>\n",
       "      <td>18</td>\n",
       "      <td>2</td>\n",
       "      <td>2</td>\n",
       "      <td>3.0</td>\n",
       "      <td>5</td>\n",
       "      <td>2.0</td>\n",
       "      <td>2</td>\n",
       "      <td>2</td>\n",
       "      <td>8.0</td>\n",
       "      <td>58</td>\n",
       "      <td>5.478</td>\n",
       "      <td>5696094.0</td>\n",
       "      <td>41.0</td>\n",
       "      <td>3.0</td>\n",
       "      <td>01:27.7</td>\n",
       "      <td>217.586</td>\n",
       "      <td>1</td>\n",
       "    </tr>\n",
       "    <tr>\n",
       "      <th>3</th>\n",
       "      <td>18</td>\n",
       "      <td>3</td>\n",
       "      <td>3</td>\n",
       "      <td>7.0</td>\n",
       "      <td>7</td>\n",
       "      <td>3.0</td>\n",
       "      <td>3</td>\n",
       "      <td>3</td>\n",
       "      <td>6.0</td>\n",
       "      <td>58</td>\n",
       "      <td>8.163</td>\n",
       "      <td>5698779.0</td>\n",
       "      <td>41.0</td>\n",
       "      <td>5.0</td>\n",
       "      <td>01:28.1</td>\n",
       "      <td>216.719</td>\n",
       "      <td>1</td>\n",
       "    </tr>\n",
       "    <tr>\n",
       "      <th>4</th>\n",
       "      <td>18</td>\n",
       "      <td>4</td>\n",
       "      <td>4</td>\n",
       "      <td>5.0</td>\n",
       "      <td>11</td>\n",
       "      <td>4.0</td>\n",
       "      <td>4</td>\n",
       "      <td>4</td>\n",
       "      <td>5.0</td>\n",
       "      <td>58</td>\n",
       "      <td>17.181</td>\n",
       "      <td>5707797.0</td>\n",
       "      <td>58.0</td>\n",
       "      <td>7.0</td>\n",
       "      <td>01:28.6</td>\n",
       "      <td>215.464</td>\n",
       "      <td>1</td>\n",
       "    </tr>\n",
       "    <tr>\n",
       "      <th>5</th>\n",
       "      <td>18</td>\n",
       "      <td>5</td>\n",
       "      <td>1</td>\n",
       "      <td>23.0</td>\n",
       "      <td>3</td>\n",
       "      <td>5.0</td>\n",
       "      <td>5</td>\n",
       "      <td>5</td>\n",
       "      <td>4.0</td>\n",
       "      <td>58</td>\n",
       "      <td>18.014</td>\n",
       "      <td>5708630.0</td>\n",
       "      <td>43.0</td>\n",
       "      <td>1.0</td>\n",
       "      <td>01:27.4</td>\n",
       "      <td>218.385</td>\n",
       "      <td>1</td>\n",
       "    </tr>\n",
       "    <tr>\n",
       "      <th>...</th>\n",
       "      <td>...</td>\n",
       "      <td>...</td>\n",
       "      <td>...</td>\n",
       "      <td>...</td>\n",
       "      <td>...</td>\n",
       "      <td>...</td>\n",
       "      <td>...</td>\n",
       "      <td>...</td>\n",
       "      <td>...</td>\n",
       "      <td>...</td>\n",
       "      <td>...</td>\n",
       "      <td>...</td>\n",
       "      <td>...</td>\n",
       "      <td>...</td>\n",
       "      <td>...</td>\n",
       "      <td>...</td>\n",
       "      <td>...</td>\n",
       "    </tr>\n",
       "    <tr>\n",
       "      <th>23777</th>\n",
       "      <td>988</td>\n",
       "      <td>842</td>\n",
       "      <td>5</td>\n",
       "      <td>10.0</td>\n",
       "      <td>17</td>\n",
       "      <td>16.0</td>\n",
       "      <td>16</td>\n",
       "      <td>16</td>\n",
       "      <td>0.0</td>\n",
       "      <td>54</td>\n",
       "      <td>NaN</td>\n",
       "      <td>NaN</td>\n",
       "      <td>33.0</td>\n",
       "      <td>16.0</td>\n",
       "      <td>01:43.8</td>\n",
       "      <td>192.542</td>\n",
       "      <td>11</td>\n",
       "    </tr>\n",
       "    <tr>\n",
       "      <th>23778</th>\n",
       "      <td>988</td>\n",
       "      <td>828</td>\n",
       "      <td>15</td>\n",
       "      <td>9.0</td>\n",
       "      <td>19</td>\n",
       "      <td>17.0</td>\n",
       "      <td>17</td>\n",
       "      <td>17</td>\n",
       "      <td>0.0</td>\n",
       "      <td>54</td>\n",
       "      <td>NaN</td>\n",
       "      <td>NaN</td>\n",
       "      <td>36.0</td>\n",
       "      <td>15.0</td>\n",
       "      <td>01:43.6</td>\n",
       "      <td>193.057</td>\n",
       "      <td>11</td>\n",
       "    </tr>\n",
       "    <tr>\n",
       "      <th>23779</th>\n",
       "      <td>988</td>\n",
       "      <td>840</td>\n",
       "      <td>3</td>\n",
       "      <td>18.0</td>\n",
       "      <td>15</td>\n",
       "      <td>18.0</td>\n",
       "      <td>18</td>\n",
       "      <td>18</td>\n",
       "      <td>0.0</td>\n",
       "      <td>54</td>\n",
       "      <td>NaN</td>\n",
       "      <td>NaN</td>\n",
       "      <td>52.0</td>\n",
       "      <td>6.0</td>\n",
       "      <td>01:42.3</td>\n",
       "      <td>195.402</td>\n",
       "      <td>11</td>\n",
       "    </tr>\n",
       "    <tr>\n",
       "      <th>23780</th>\n",
       "      <td>988</td>\n",
       "      <td>832</td>\n",
       "      <td>4</td>\n",
       "      <td>55.0</td>\n",
       "      <td>12</td>\n",
       "      <td>NaN</td>\n",
       "      <td>R</td>\n",
       "      <td>19</td>\n",
       "      <td>0.0</td>\n",
       "      <td>31</td>\n",
       "      <td>NaN</td>\n",
       "      <td>NaN</td>\n",
       "      <td>26.0</td>\n",
       "      <td>14.0</td>\n",
       "      <td>01:43.4</td>\n",
       "      <td>193.41</td>\n",
       "      <td>36</td>\n",
       "    </tr>\n",
       "    <tr>\n",
       "      <th>23781</th>\n",
       "      <td>988</td>\n",
       "      <td>817</td>\n",
       "      <td>9</td>\n",
       "      <td>3.0</td>\n",
       "      <td>4</td>\n",
       "      <td>NaN</td>\n",
       "      <td>R</td>\n",
       "      <td>20</td>\n",
       "      <td>0.0</td>\n",
       "      <td>20</td>\n",
       "      <td>NaN</td>\n",
       "      <td>NaN</td>\n",
       "      <td>13.0</td>\n",
       "      <td>12.0</td>\n",
       "      <td>01:42.8</td>\n",
       "      <td>194.579</td>\n",
       "      <td>9</td>\n",
       "    </tr>\n",
       "  </tbody>\n",
       "</table>\n",
       "<p>23777 rows × 17 columns</p>\n",
       "</div>"
      ],
      "text/plain": [
       "          raceId  driverId  constructorId  number  grid  position  \\\n",
       "resultId                                                            \n",
       "1             18         1              1    22.0     1       1.0   \n",
       "2             18         2              2     3.0     5       2.0   \n",
       "3             18         3              3     7.0     7       3.0   \n",
       "4             18         4              4     5.0    11       4.0   \n",
       "5             18         5              1    23.0     3       5.0   \n",
       "...          ...       ...            ...     ...   ...       ...   \n",
       "23777        988       842              5    10.0    17      16.0   \n",
       "23778        988       828             15     9.0    19      17.0   \n",
       "23779        988       840              3    18.0    15      18.0   \n",
       "23780        988       832              4    55.0    12       NaN   \n",
       "23781        988       817              9     3.0     4       NaN   \n",
       "\n",
       "         positionText  positionOrder  points  laps     time  milliseconds  \\\n",
       "resultId                                                                    \n",
       "1                   1              1    10.0    58  34:50.6     5690616.0   \n",
       "2                   2              2     8.0    58    5.478     5696094.0   \n",
       "3                   3              3     6.0    58    8.163     5698779.0   \n",
       "4                   4              4     5.0    58   17.181     5707797.0   \n",
       "5                   5              5     4.0    58   18.014     5708630.0   \n",
       "...               ...            ...     ...   ...      ...           ...   \n",
       "23777              16             16     0.0    54      NaN           NaN   \n",
       "23778              17             17     0.0    54      NaN           NaN   \n",
       "23779              18             18     0.0    54      NaN           NaN   \n",
       "23780               R             19     0.0    31      NaN           NaN   \n",
       "23781               R             20     0.0    20      NaN           NaN   \n",
       "\n",
       "          fastestLap  rank fastestLapTime fastestLapSpeed  statusId  \n",
       "resultId                                                             \n",
       "1               39.0   2.0        01:27.5           218.3         1  \n",
       "2               41.0   3.0        01:27.7         217.586         1  \n",
       "3               41.0   5.0        01:28.1         216.719         1  \n",
       "4               58.0   7.0        01:28.6         215.464         1  \n",
       "5               43.0   1.0        01:27.4         218.385         1  \n",
       "...              ...   ...            ...             ...       ...  \n",
       "23777           33.0  16.0        01:43.8         192.542        11  \n",
       "23778           36.0  15.0        01:43.6         193.057        11  \n",
       "23779           52.0   6.0        01:42.3         195.402        11  \n",
       "23780           26.0  14.0        01:43.4          193.41        36  \n",
       "23781           13.0  12.0        01:42.8         194.579         9  \n",
       "\n",
       "[23777 rows x 17 columns]"
      ]
     },
     "execution_count": 75,
     "metadata": {},
     "output_type": "execute_result"
    }
   ],
   "source": [
    "racing_results_df = pd.read_csv(\"data/formula-1-race-data-19502017/results.csv\", index_col=0)\n",
    "racing_results_df"
   ]
  },
  {
   "cell_type": "markdown",
   "metadata": {},
   "source": [
    "- Let's say we want to predict the `milliseconds` column, namely the total length of time it takes a driver to finish a race. \n",
    "- In that case, we should not have access to most of these other columns. \n",
    "- But we would have the `raceId` and `driverId`:"
   ]
  },
  {
   "cell_type": "code",
   "execution_count": 76,
   "metadata": {},
   "outputs": [
    {
     "data": {
      "text/html": [
       "<div>\n",
       "<style scoped>\n",
       "    .dataframe tbody tr th:only-of-type {\n",
       "        vertical-align: middle;\n",
       "    }\n",
       "\n",
       "    .dataframe tbody tr th {\n",
       "        vertical-align: top;\n",
       "    }\n",
       "\n",
       "    .dataframe thead th {\n",
       "        text-align: right;\n",
       "    }\n",
       "</style>\n",
       "<table border=\"1\" class=\"dataframe\">\n",
       "  <thead>\n",
       "    <tr style=\"text-align: right;\">\n",
       "      <th></th>\n",
       "      <th>raceId</th>\n",
       "      <th>driverId</th>\n",
       "      <th>milliseconds</th>\n",
       "    </tr>\n",
       "    <tr>\n",
       "      <th>resultId</th>\n",
       "      <th></th>\n",
       "      <th></th>\n",
       "      <th></th>\n",
       "    </tr>\n",
       "  </thead>\n",
       "  <tbody>\n",
       "    <tr>\n",
       "      <th>1</th>\n",
       "      <td>18</td>\n",
       "      <td>1</td>\n",
       "      <td>5690616.0</td>\n",
       "    </tr>\n",
       "    <tr>\n",
       "      <th>2</th>\n",
       "      <td>18</td>\n",
       "      <td>2</td>\n",
       "      <td>5696094.0</td>\n",
       "    </tr>\n",
       "    <tr>\n",
       "      <th>3</th>\n",
       "      <td>18</td>\n",
       "      <td>3</td>\n",
       "      <td>5698779.0</td>\n",
       "    </tr>\n",
       "    <tr>\n",
       "      <th>4</th>\n",
       "      <td>18</td>\n",
       "      <td>4</td>\n",
       "      <td>5707797.0</td>\n",
       "    </tr>\n",
       "    <tr>\n",
       "      <th>5</th>\n",
       "      <td>18</td>\n",
       "      <td>5</td>\n",
       "      <td>5708630.0</td>\n",
       "    </tr>\n",
       "    <tr>\n",
       "      <th>...</th>\n",
       "      <td>...</td>\n",
       "      <td>...</td>\n",
       "      <td>...</td>\n",
       "    </tr>\n",
       "    <tr>\n",
       "      <th>23777</th>\n",
       "      <td>988</td>\n",
       "      <td>842</td>\n",
       "      <td>NaN</td>\n",
       "    </tr>\n",
       "    <tr>\n",
       "      <th>23778</th>\n",
       "      <td>988</td>\n",
       "      <td>828</td>\n",
       "      <td>NaN</td>\n",
       "    </tr>\n",
       "    <tr>\n",
       "      <th>23779</th>\n",
       "      <td>988</td>\n",
       "      <td>840</td>\n",
       "      <td>NaN</td>\n",
       "    </tr>\n",
       "    <tr>\n",
       "      <th>23780</th>\n",
       "      <td>988</td>\n",
       "      <td>832</td>\n",
       "      <td>NaN</td>\n",
       "    </tr>\n",
       "    <tr>\n",
       "      <th>23781</th>\n",
       "      <td>988</td>\n",
       "      <td>817</td>\n",
       "      <td>NaN</td>\n",
       "    </tr>\n",
       "  </tbody>\n",
       "</table>\n",
       "<p>23777 rows × 3 columns</p>\n",
       "</div>"
      ],
      "text/plain": [
       "          raceId  driverId  milliseconds\n",
       "resultId                                \n",
       "1             18         1     5690616.0\n",
       "2             18         2     5696094.0\n",
       "3             18         3     5698779.0\n",
       "4             18         4     5707797.0\n",
       "5             18         5     5708630.0\n",
       "...          ...       ...           ...\n",
       "23777        988       842           NaN\n",
       "23778        988       828           NaN\n",
       "23779        988       840           NaN\n",
       "23780        988       832           NaN\n",
       "23781        988       817           NaN\n",
       "\n",
       "[23777 rows x 3 columns]"
      ]
     },
     "execution_count": 76,
     "metadata": {},
     "output_type": "execute_result"
    }
   ],
   "source": [
    "racing_results_df_subset = racing_results_df[['raceId', 'driverId', 'milliseconds']]\n",
    "racing_results_df_subset"
   ]
  },
  {
   "cell_type": "code",
   "execution_count": 77,
   "metadata": {},
   "outputs": [
    {
     "data": {
      "text/html": [
       "<div>\n",
       "<style scoped>\n",
       "    .dataframe tbody tr th:only-of-type {\n",
       "        vertical-align: middle;\n",
       "    }\n",
       "\n",
       "    .dataframe tbody tr th {\n",
       "        vertical-align: top;\n",
       "    }\n",
       "\n",
       "    .dataframe thead th {\n",
       "        text-align: right;\n",
       "    }\n",
       "</style>\n",
       "<table border=\"1\" class=\"dataframe\">\n",
       "  <thead>\n",
       "    <tr style=\"text-align: right;\">\n",
       "      <th></th>\n",
       "      <th>raceId</th>\n",
       "      <th>driverId</th>\n",
       "      <th>milliseconds</th>\n",
       "    </tr>\n",
       "    <tr>\n",
       "      <th>resultId</th>\n",
       "      <th></th>\n",
       "      <th></th>\n",
       "      <th></th>\n",
       "    </tr>\n",
       "  </thead>\n",
       "  <tbody>\n",
       "    <tr>\n",
       "      <th>1</th>\n",
       "      <td>18</td>\n",
       "      <td>1</td>\n",
       "      <td>5690616.0</td>\n",
       "    </tr>\n",
       "    <tr>\n",
       "      <th>23745</th>\n",
       "      <td>987</td>\n",
       "      <td>1</td>\n",
       "      <td>5491730.0</td>\n",
       "    </tr>\n",
       "    <tr>\n",
       "      <th>22089</th>\n",
       "      <td>898</td>\n",
       "      <td>1</td>\n",
       "      <td>5984506.0</td>\n",
       "    </tr>\n",
       "    <tr>\n",
       "      <th>20611</th>\n",
       "      <td>349</td>\n",
       "      <td>1</td>\n",
       "      <td>5344268.0</td>\n",
       "    </tr>\n",
       "    <tr>\n",
       "      <th>23115</th>\n",
       "      <td>957</td>\n",
       "      <td>1</td>\n",
       "      <td>5695831.0</td>\n",
       "    </tr>\n",
       "    <tr>\n",
       "      <th>...</th>\n",
       "      <td>...</td>\n",
       "      <td>...</td>\n",
       "      <td>...</td>\n",
       "    </tr>\n",
       "    <tr>\n",
       "      <th>23675</th>\n",
       "      <td>983</td>\n",
       "      <td>842</td>\n",
       "      <td>NaN</td>\n",
       "    </tr>\n",
       "    <tr>\n",
       "      <th>23776</th>\n",
       "      <td>988</td>\n",
       "      <td>843</td>\n",
       "      <td>NaN</td>\n",
       "    </tr>\n",
       "    <tr>\n",
       "      <th>23714</th>\n",
       "      <td>985</td>\n",
       "      <td>843</td>\n",
       "      <td>NaN</td>\n",
       "    </tr>\n",
       "    <tr>\n",
       "      <th>23758</th>\n",
       "      <td>987</td>\n",
       "      <td>843</td>\n",
       "      <td>NaN</td>\n",
       "    </tr>\n",
       "    <tr>\n",
       "      <th>23739</th>\n",
       "      <td>986</td>\n",
       "      <td>843</td>\n",
       "      <td>NaN</td>\n",
       "    </tr>\n",
       "  </tbody>\n",
       "</table>\n",
       "<p>23777 rows × 3 columns</p>\n",
       "</div>"
      ],
      "text/plain": [
       "          raceId  driverId  milliseconds\n",
       "resultId                                \n",
       "1             18         1     5690616.0\n",
       "23745        987         1     5491730.0\n",
       "22089        898         1     5984506.0\n",
       "20611        349         1     5344268.0\n",
       "23115        957         1     5695831.0\n",
       "...          ...       ...           ...\n",
       "23675        983       842           NaN\n",
       "23776        988       843           NaN\n",
       "23714        985       843           NaN\n",
       "23758        987       843           NaN\n",
       "23739        986       843           NaN\n",
       "\n",
       "[23777 rows x 3 columns]"
      ]
     },
     "execution_count": 77,
     "metadata": {},
     "output_type": "execute_result"
    }
   ],
   "source": [
    "racing_results_df_subset.sort_values(by=\"driverId\")"
   ]
  },
  {
   "cell_type": "markdown",
   "metadata": {},
   "source": [
    "# TODO\n",
    "\n",
    "for fun, try to predict milliseconds just based on raceId and driverId"
   ]
  },
  {
   "cell_type": "markdown",
   "metadata": {},
   "source": [
    "- Now we need some features to predict the race time. \n",
    "- Enter the other tables:"
   ]
  },
  {
   "cell_type": "code",
   "execution_count": 78,
   "metadata": {},
   "outputs": [
    {
     "data": {
      "text/html": [
       "<div>\n",
       "<style scoped>\n",
       "    .dataframe tbody tr th:only-of-type {\n",
       "        vertical-align: middle;\n",
       "    }\n",
       "\n",
       "    .dataframe tbody tr th {\n",
       "        vertical-align: top;\n",
       "    }\n",
       "\n",
       "    .dataframe thead th {\n",
       "        text-align: right;\n",
       "    }\n",
       "</style>\n",
       "<table border=\"1\" class=\"dataframe\">\n",
       "  <thead>\n",
       "    <tr style=\"text-align: right;\">\n",
       "      <th></th>\n",
       "      <th>driverRef</th>\n",
       "      <th>number</th>\n",
       "      <th>code</th>\n",
       "      <th>forename</th>\n",
       "      <th>surname</th>\n",
       "      <th>dob</th>\n",
       "      <th>nationality</th>\n",
       "      <th>url</th>\n",
       "    </tr>\n",
       "    <tr>\n",
       "      <th>driverId</th>\n",
       "      <th></th>\n",
       "      <th></th>\n",
       "      <th></th>\n",
       "      <th></th>\n",
       "      <th></th>\n",
       "      <th></th>\n",
       "      <th></th>\n",
       "      <th></th>\n",
       "    </tr>\n",
       "  </thead>\n",
       "  <tbody>\n",
       "    <tr>\n",
       "      <th>1</th>\n",
       "      <td>hamilton</td>\n",
       "      <td>44.0</td>\n",
       "      <td>HAM</td>\n",
       "      <td>Lewis</td>\n",
       "      <td>Hamilton</td>\n",
       "      <td>1985-07-01</td>\n",
       "      <td>British</td>\n",
       "      <td>http://en.wikipedia.org/wiki/Lewis_Hamilton</td>\n",
       "    </tr>\n",
       "    <tr>\n",
       "      <th>2</th>\n",
       "      <td>heidfeld</td>\n",
       "      <td>NaN</td>\n",
       "      <td>HEI</td>\n",
       "      <td>Nick</td>\n",
       "      <td>Heidfeld</td>\n",
       "      <td>1977-10-05</td>\n",
       "      <td>German</td>\n",
       "      <td>http://en.wikipedia.org/wiki/Nick_Heidfeld</td>\n",
       "    </tr>\n",
       "    <tr>\n",
       "      <th>3</th>\n",
       "      <td>rosberg</td>\n",
       "      <td>6.0</td>\n",
       "      <td>ROS</td>\n",
       "      <td>Nico</td>\n",
       "      <td>Rosberg</td>\n",
       "      <td>1985-06-27</td>\n",
       "      <td>German</td>\n",
       "      <td>http://en.wikipedia.org/wiki/Nico_Rosberg</td>\n",
       "    </tr>\n",
       "    <tr>\n",
       "      <th>4</th>\n",
       "      <td>alonso</td>\n",
       "      <td>14.0</td>\n",
       "      <td>ALO</td>\n",
       "      <td>Fernando</td>\n",
       "      <td>Alonso</td>\n",
       "      <td>1981-07-29</td>\n",
       "      <td>Spanish</td>\n",
       "      <td>http://en.wikipedia.org/wiki/Fernando_Alonso</td>\n",
       "    </tr>\n",
       "    <tr>\n",
       "      <th>5</th>\n",
       "      <td>kovalainen</td>\n",
       "      <td>NaN</td>\n",
       "      <td>KOV</td>\n",
       "      <td>Heikki</td>\n",
       "      <td>Kovalainen</td>\n",
       "      <td>1981-10-19</td>\n",
       "      <td>Finnish</td>\n",
       "      <td>http://en.wikipedia.org/wiki/Heikki_Kovalainen</td>\n",
       "    </tr>\n",
       "    <tr>\n",
       "      <th>...</th>\n",
       "      <td>...</td>\n",
       "      <td>...</td>\n",
       "      <td>...</td>\n",
       "      <td>...</td>\n",
       "      <td>...</td>\n",
       "      <td>...</td>\n",
       "      <td>...</td>\n",
       "      <td>...</td>\n",
       "    </tr>\n",
       "    <tr>\n",
       "      <th>838</th>\n",
       "      <td>vandoorne</td>\n",
       "      <td>2.0</td>\n",
       "      <td>VAN</td>\n",
       "      <td>Stoffel</td>\n",
       "      <td>Vandoorne</td>\n",
       "      <td>1992-03-26</td>\n",
       "      <td>Belgian</td>\n",
       "      <td>http://en.wikipedia.org/wiki/Stoffel_Vandoorne</td>\n",
       "    </tr>\n",
       "    <tr>\n",
       "      <th>839</th>\n",
       "      <td>ocon</td>\n",
       "      <td>31.0</td>\n",
       "      <td>OCO</td>\n",
       "      <td>Esteban</td>\n",
       "      <td>Ocon</td>\n",
       "      <td>1996-09-17</td>\n",
       "      <td>French</td>\n",
       "      <td>http://en.wikipedia.org/wiki/Esteban_Ocon</td>\n",
       "    </tr>\n",
       "    <tr>\n",
       "      <th>840</th>\n",
       "      <td>stroll</td>\n",
       "      <td>18.0</td>\n",
       "      <td>STR</td>\n",
       "      <td>Lance</td>\n",
       "      <td>Stroll</td>\n",
       "      <td>1998-10-29</td>\n",
       "      <td>Canadian</td>\n",
       "      <td>http://en.wikipedia.org/wiki/Lance_Stroll</td>\n",
       "    </tr>\n",
       "    <tr>\n",
       "      <th>841</th>\n",
       "      <td>giovinazzi</td>\n",
       "      <td>36.0</td>\n",
       "      <td>GIO</td>\n",
       "      <td>Antonio</td>\n",
       "      <td>Giovinazzi</td>\n",
       "      <td>1993-12-14</td>\n",
       "      <td>Italian</td>\n",
       "      <td>http://en.wikipedia.org/wiki/Antonio_Giovinazzi</td>\n",
       "    </tr>\n",
       "    <tr>\n",
       "      <th>843</th>\n",
       "      <td>brendon_hartley</td>\n",
       "      <td>39.0</td>\n",
       "      <td>HAR</td>\n",
       "      <td>Brendon</td>\n",
       "      <td>Hartley</td>\n",
       "      <td>1989-10-11</td>\n",
       "      <td>New Zealander</td>\n",
       "      <td>http://en.wikipedia.org/wiki/Brendon_Hartley</td>\n",
       "    </tr>\n",
       "  </tbody>\n",
       "</table>\n",
       "<p>842 rows × 8 columns</p>\n",
       "</div>"
      ],
      "text/plain": [
       "                driverRef  number code  forename     surname        dob  \\\n",
       "driverId                                                                  \n",
       "1                hamilton    44.0  HAM     Lewis    Hamilton 1985-07-01   \n",
       "2                heidfeld     NaN  HEI      Nick    Heidfeld 1977-10-05   \n",
       "3                 rosberg     6.0  ROS      Nico     Rosberg 1985-06-27   \n",
       "4                  alonso    14.0  ALO  Fernando      Alonso 1981-07-29   \n",
       "5              kovalainen     NaN  KOV    Heikki  Kovalainen 1981-10-19   \n",
       "...                   ...     ...  ...       ...         ...        ...   \n",
       "838             vandoorne     2.0  VAN   Stoffel   Vandoorne 1992-03-26   \n",
       "839                  ocon    31.0  OCO   Esteban        Ocon 1996-09-17   \n",
       "840                stroll    18.0  STR     Lance      Stroll 1998-10-29   \n",
       "841            giovinazzi    36.0  GIO   Antonio  Giovinazzi 1993-12-14   \n",
       "843       brendon_hartley    39.0  HAR   Brendon     Hartley 1989-10-11   \n",
       "\n",
       "            nationality                                              url  \n",
       "driverId                                                                  \n",
       "1               British      http://en.wikipedia.org/wiki/Lewis_Hamilton  \n",
       "2                German       http://en.wikipedia.org/wiki/Nick_Heidfeld  \n",
       "3                German        http://en.wikipedia.org/wiki/Nico_Rosberg  \n",
       "4               Spanish     http://en.wikipedia.org/wiki/Fernando_Alonso  \n",
       "5               Finnish   http://en.wikipedia.org/wiki/Heikki_Kovalainen  \n",
       "...                 ...                                              ...  \n",
       "838             Belgian   http://en.wikipedia.org/wiki/Stoffel_Vandoorne  \n",
       "839              French        http://en.wikipedia.org/wiki/Esteban_Ocon  \n",
       "840            Canadian        http://en.wikipedia.org/wiki/Lance_Stroll  \n",
       "841             Italian  http://en.wikipedia.org/wiki/Antonio_Giovinazzi  \n",
       "843       New Zealander     http://en.wikipedia.org/wiki/Brendon_Hartley  \n",
       "\n",
       "[842 rows x 8 columns]"
      ]
     },
     "execution_count": 78,
     "metadata": {},
     "output_type": "execute_result"
    }
   ],
   "source": [
    "racing_drivers_df = pd.read_csv(\"data/formula-1-race-data-19502017/drivers.csv\", \n",
    "                                encoding='latin-1', index_col=0,\n",
    "                               parse_dates=['dob'])\n",
    "racing_drivers_df"
   ]
  },
  {
   "cell_type": "markdown",
   "metadata": {},
   "source": [
    "- Can we use the driver's nationality and age as features?\n",
    "- `pd.merge` can take care of this for us."
   ]
  },
  {
   "cell_type": "code",
   "execution_count": 79,
   "metadata": {},
   "outputs": [
    {
     "data": {
      "text/html": [
       "<div>\n",
       "<style scoped>\n",
       "    .dataframe tbody tr th:only-of-type {\n",
       "        vertical-align: middle;\n",
       "    }\n",
       "\n",
       "    .dataframe tbody tr th {\n",
       "        vertical-align: top;\n",
       "    }\n",
       "\n",
       "    .dataframe thead th {\n",
       "        text-align: right;\n",
       "    }\n",
       "</style>\n",
       "<table border=\"1\" class=\"dataframe\">\n",
       "  <thead>\n",
       "    <tr style=\"text-align: right;\">\n",
       "      <th></th>\n",
       "      <th>raceId</th>\n",
       "      <th>driverId</th>\n",
       "      <th>milliseconds</th>\n",
       "      <th>driverRef</th>\n",
       "      <th>number</th>\n",
       "      <th>code</th>\n",
       "      <th>forename</th>\n",
       "      <th>surname</th>\n",
       "      <th>dob</th>\n",
       "      <th>nationality</th>\n",
       "      <th>url</th>\n",
       "    </tr>\n",
       "  </thead>\n",
       "  <tbody>\n",
       "    <tr>\n",
       "      <th>0</th>\n",
       "      <td>18</td>\n",
       "      <td>1</td>\n",
       "      <td>5690616.0</td>\n",
       "      <td>hamilton</td>\n",
       "      <td>44.0</td>\n",
       "      <td>HAM</td>\n",
       "      <td>Lewis</td>\n",
       "      <td>Hamilton</td>\n",
       "      <td>1985-07-01</td>\n",
       "      <td>British</td>\n",
       "      <td>http://en.wikipedia.org/wiki/Lewis_Hamilton</td>\n",
       "    </tr>\n",
       "    <tr>\n",
       "      <th>1</th>\n",
       "      <td>19</td>\n",
       "      <td>1</td>\n",
       "      <td>5525103.0</td>\n",
       "      <td>hamilton</td>\n",
       "      <td>44.0</td>\n",
       "      <td>HAM</td>\n",
       "      <td>Lewis</td>\n",
       "      <td>Hamilton</td>\n",
       "      <td>1985-07-01</td>\n",
       "      <td>British</td>\n",
       "      <td>http://en.wikipedia.org/wiki/Lewis_Hamilton</td>\n",
       "    </tr>\n",
       "    <tr>\n",
       "      <th>2</th>\n",
       "      <td>20</td>\n",
       "      <td>1</td>\n",
       "      <td>NaN</td>\n",
       "      <td>hamilton</td>\n",
       "      <td>44.0</td>\n",
       "      <td>HAM</td>\n",
       "      <td>Lewis</td>\n",
       "      <td>Hamilton</td>\n",
       "      <td>1985-07-01</td>\n",
       "      <td>British</td>\n",
       "      <td>http://en.wikipedia.org/wiki/Lewis_Hamilton</td>\n",
       "    </tr>\n",
       "    <tr>\n",
       "      <th>3</th>\n",
       "      <td>21</td>\n",
       "      <td>1</td>\n",
       "      <td>5903238.0</td>\n",
       "      <td>hamilton</td>\n",
       "      <td>44.0</td>\n",
       "      <td>HAM</td>\n",
       "      <td>Lewis</td>\n",
       "      <td>Hamilton</td>\n",
       "      <td>1985-07-01</td>\n",
       "      <td>British</td>\n",
       "      <td>http://en.wikipedia.org/wiki/Lewis_Hamilton</td>\n",
       "    </tr>\n",
       "    <tr>\n",
       "      <th>4</th>\n",
       "      <td>22</td>\n",
       "      <td>1</td>\n",
       "      <td>5213230.0</td>\n",
       "      <td>hamilton</td>\n",
       "      <td>44.0</td>\n",
       "      <td>HAM</td>\n",
       "      <td>Lewis</td>\n",
       "      <td>Hamilton</td>\n",
       "      <td>1985-07-01</td>\n",
       "      <td>British</td>\n",
       "      <td>http://en.wikipedia.org/wiki/Lewis_Hamilton</td>\n",
       "    </tr>\n",
       "    <tr>\n",
       "      <th>...</th>\n",
       "      <td>...</td>\n",
       "      <td>...</td>\n",
       "      <td>...</td>\n",
       "      <td>...</td>\n",
       "      <td>...</td>\n",
       "      <td>...</td>\n",
       "      <td>...</td>\n",
       "      <td>...</td>\n",
       "      <td>...</td>\n",
       "      <td>...</td>\n",
       "      <td>...</td>\n",
       "    </tr>\n",
       "    <tr>\n",
       "      <th>23772</th>\n",
       "      <td>988</td>\n",
       "      <td>842</td>\n",
       "      <td>NaN</td>\n",
       "      <td>gasly</td>\n",
       "      <td>10.0</td>\n",
       "      <td>GAS</td>\n",
       "      <td>Pierre</td>\n",
       "      <td>Gasly</td>\n",
       "      <td>1996-07-02</td>\n",
       "      <td>French</td>\n",
       "      <td>http://en.wikipedia.org/wiki/Pierre_Gasly</td>\n",
       "    </tr>\n",
       "    <tr>\n",
       "      <th>23773</th>\n",
       "      <td>985</td>\n",
       "      <td>843</td>\n",
       "      <td>NaN</td>\n",
       "      <td>brendon_hartley</td>\n",
       "      <td>39.0</td>\n",
       "      <td>HAR</td>\n",
       "      <td>Brendon</td>\n",
       "      <td>Hartley</td>\n",
       "      <td>1989-10-11</td>\n",
       "      <td>New Zealander</td>\n",
       "      <td>http://en.wikipedia.org/wiki/Brendon_Hartley</td>\n",
       "    </tr>\n",
       "    <tr>\n",
       "      <th>23774</th>\n",
       "      <td>986</td>\n",
       "      <td>843</td>\n",
       "      <td>NaN</td>\n",
       "      <td>brendon_hartley</td>\n",
       "      <td>39.0</td>\n",
       "      <td>HAR</td>\n",
       "      <td>Brendon</td>\n",
       "      <td>Hartley</td>\n",
       "      <td>1989-10-11</td>\n",
       "      <td>New Zealander</td>\n",
       "      <td>http://en.wikipedia.org/wiki/Brendon_Hartley</td>\n",
       "    </tr>\n",
       "    <tr>\n",
       "      <th>23775</th>\n",
       "      <td>987</td>\n",
       "      <td>843</td>\n",
       "      <td>NaN</td>\n",
       "      <td>brendon_hartley</td>\n",
       "      <td>39.0</td>\n",
       "      <td>HAR</td>\n",
       "      <td>Brendon</td>\n",
       "      <td>Hartley</td>\n",
       "      <td>1989-10-11</td>\n",
       "      <td>New Zealander</td>\n",
       "      <td>http://en.wikipedia.org/wiki/Brendon_Hartley</td>\n",
       "    </tr>\n",
       "    <tr>\n",
       "      <th>23776</th>\n",
       "      <td>988</td>\n",
       "      <td>843</td>\n",
       "      <td>NaN</td>\n",
       "      <td>brendon_hartley</td>\n",
       "      <td>39.0</td>\n",
       "      <td>HAR</td>\n",
       "      <td>Brendon</td>\n",
       "      <td>Hartley</td>\n",
       "      <td>1989-10-11</td>\n",
       "      <td>New Zealander</td>\n",
       "      <td>http://en.wikipedia.org/wiki/Brendon_Hartley</td>\n",
       "    </tr>\n",
       "  </tbody>\n",
       "</table>\n",
       "<p>23777 rows × 11 columns</p>\n",
       "</div>"
      ],
      "text/plain": [
       "       raceId  driverId  milliseconds        driverRef  number code forename  \\\n",
       "0          18         1     5690616.0         hamilton    44.0  HAM    Lewis   \n",
       "1          19         1     5525103.0         hamilton    44.0  HAM    Lewis   \n",
       "2          20         1           NaN         hamilton    44.0  HAM    Lewis   \n",
       "3          21         1     5903238.0         hamilton    44.0  HAM    Lewis   \n",
       "4          22         1     5213230.0         hamilton    44.0  HAM    Lewis   \n",
       "...       ...       ...           ...              ...     ...  ...      ...   \n",
       "23772     988       842           NaN            gasly    10.0  GAS   Pierre   \n",
       "23773     985       843           NaN  brendon_hartley    39.0  HAR  Brendon   \n",
       "23774     986       843           NaN  brendon_hartley    39.0  HAR  Brendon   \n",
       "23775     987       843           NaN  brendon_hartley    39.0  HAR  Brendon   \n",
       "23776     988       843           NaN  brendon_hartley    39.0  HAR  Brendon   \n",
       "\n",
       "        surname        dob    nationality  \\\n",
       "0      Hamilton 1985-07-01        British   \n",
       "1      Hamilton 1985-07-01        British   \n",
       "2      Hamilton 1985-07-01        British   \n",
       "3      Hamilton 1985-07-01        British   \n",
       "4      Hamilton 1985-07-01        British   \n",
       "...         ...        ...            ...   \n",
       "23772     Gasly 1996-07-02         French   \n",
       "23773   Hartley 1989-10-11  New Zealander   \n",
       "23774   Hartley 1989-10-11  New Zealander   \n",
       "23775   Hartley 1989-10-11  New Zealander   \n",
       "23776   Hartley 1989-10-11  New Zealander   \n",
       "\n",
       "                                                url  \n",
       "0       http://en.wikipedia.org/wiki/Lewis_Hamilton  \n",
       "1       http://en.wikipedia.org/wiki/Lewis_Hamilton  \n",
       "2       http://en.wikipedia.org/wiki/Lewis_Hamilton  \n",
       "3       http://en.wikipedia.org/wiki/Lewis_Hamilton  \n",
       "4       http://en.wikipedia.org/wiki/Lewis_Hamilton  \n",
       "...                                             ...  \n",
       "23772     http://en.wikipedia.org/wiki/Pierre_Gasly  \n",
       "23773  http://en.wikipedia.org/wiki/Brendon_Hartley  \n",
       "23774  http://en.wikipedia.org/wiki/Brendon_Hartley  \n",
       "23775  http://en.wikipedia.org/wiki/Brendon_Hartley  \n",
       "23776  http://en.wikipedia.org/wiki/Brendon_Hartley  \n",
       "\n",
       "[23777 rows x 11 columns]"
      ]
     },
     "execution_count": 79,
     "metadata": {},
     "output_type": "execute_result"
    }
   ],
   "source": [
    "merged_df = pd.merge(racing_results_df_subset, racing_drivers_df, on=\"driverId\")\n",
    "merged_df"
   ]
  },
  {
   "cell_type": "markdown",
   "metadata": {},
   "source": [
    "- The `on` keyword told it which column to use to match up the rows of the two dataframes.\n",
    "- Note that the first 5 rows have the same `driverId`, so they pulled the same data from `racing_drivers_df`.\n",
    "- Now we could keep only the columns we plan to encode:"
   ]
  },
  {
   "cell_type": "code",
   "execution_count": 80,
   "metadata": {},
   "outputs": [
    {
     "data": {
      "text/html": [
       "<div>\n",
       "<style scoped>\n",
       "    .dataframe tbody tr th:only-of-type {\n",
       "        vertical-align: middle;\n",
       "    }\n",
       "\n",
       "    .dataframe tbody tr th {\n",
       "        vertical-align: top;\n",
       "    }\n",
       "\n",
       "    .dataframe thead th {\n",
       "        text-align: right;\n",
       "    }\n",
       "</style>\n",
       "<table border=\"1\" class=\"dataframe\">\n",
       "  <thead>\n",
       "    <tr style=\"text-align: right;\">\n",
       "      <th></th>\n",
       "      <th>raceId</th>\n",
       "      <th>driverId</th>\n",
       "      <th>milliseconds</th>\n",
       "      <th>dob</th>\n",
       "      <th>nationality</th>\n",
       "    </tr>\n",
       "  </thead>\n",
       "  <tbody>\n",
       "    <tr>\n",
       "      <th>0</th>\n",
       "      <td>18</td>\n",
       "      <td>1</td>\n",
       "      <td>5690616.0</td>\n",
       "      <td>1985-07-01</td>\n",
       "      <td>British</td>\n",
       "    </tr>\n",
       "    <tr>\n",
       "      <th>1</th>\n",
       "      <td>19</td>\n",
       "      <td>1</td>\n",
       "      <td>5525103.0</td>\n",
       "      <td>1985-07-01</td>\n",
       "      <td>British</td>\n",
       "    </tr>\n",
       "    <tr>\n",
       "      <th>2</th>\n",
       "      <td>20</td>\n",
       "      <td>1</td>\n",
       "      <td>NaN</td>\n",
       "      <td>1985-07-01</td>\n",
       "      <td>British</td>\n",
       "    </tr>\n",
       "    <tr>\n",
       "      <th>3</th>\n",
       "      <td>21</td>\n",
       "      <td>1</td>\n",
       "      <td>5903238.0</td>\n",
       "      <td>1985-07-01</td>\n",
       "      <td>British</td>\n",
       "    </tr>\n",
       "    <tr>\n",
       "      <th>4</th>\n",
       "      <td>22</td>\n",
       "      <td>1</td>\n",
       "      <td>5213230.0</td>\n",
       "      <td>1985-07-01</td>\n",
       "      <td>British</td>\n",
       "    </tr>\n",
       "    <tr>\n",
       "      <th>...</th>\n",
       "      <td>...</td>\n",
       "      <td>...</td>\n",
       "      <td>...</td>\n",
       "      <td>...</td>\n",
       "      <td>...</td>\n",
       "    </tr>\n",
       "    <tr>\n",
       "      <th>23772</th>\n",
       "      <td>988</td>\n",
       "      <td>842</td>\n",
       "      <td>NaN</td>\n",
       "      <td>1996-07-02</td>\n",
       "      <td>French</td>\n",
       "    </tr>\n",
       "    <tr>\n",
       "      <th>23773</th>\n",
       "      <td>985</td>\n",
       "      <td>843</td>\n",
       "      <td>NaN</td>\n",
       "      <td>1989-10-11</td>\n",
       "      <td>New Zealander</td>\n",
       "    </tr>\n",
       "    <tr>\n",
       "      <th>23774</th>\n",
       "      <td>986</td>\n",
       "      <td>843</td>\n",
       "      <td>NaN</td>\n",
       "      <td>1989-10-11</td>\n",
       "      <td>New Zealander</td>\n",
       "    </tr>\n",
       "    <tr>\n",
       "      <th>23775</th>\n",
       "      <td>987</td>\n",
       "      <td>843</td>\n",
       "      <td>NaN</td>\n",
       "      <td>1989-10-11</td>\n",
       "      <td>New Zealander</td>\n",
       "    </tr>\n",
       "    <tr>\n",
       "      <th>23776</th>\n",
       "      <td>988</td>\n",
       "      <td>843</td>\n",
       "      <td>NaN</td>\n",
       "      <td>1989-10-11</td>\n",
       "      <td>New Zealander</td>\n",
       "    </tr>\n",
       "  </tbody>\n",
       "</table>\n",
       "<p>23777 rows × 5 columns</p>\n",
       "</div>"
      ],
      "text/plain": [
       "       raceId  driverId  milliseconds        dob    nationality\n",
       "0          18         1     5690616.0 1985-07-01        British\n",
       "1          19         1     5525103.0 1985-07-01        British\n",
       "2          20         1           NaN 1985-07-01        British\n",
       "3          21         1     5903238.0 1985-07-01        British\n",
       "4          22         1     5213230.0 1985-07-01        British\n",
       "...       ...       ...           ...        ...            ...\n",
       "23772     988       842           NaN 1996-07-02         French\n",
       "23773     985       843           NaN 1989-10-11  New Zealander\n",
       "23774     986       843           NaN 1989-10-11  New Zealander\n",
       "23775     987       843           NaN 1989-10-11  New Zealander\n",
       "23776     988       843           NaN 1989-10-11  New Zealander\n",
       "\n",
       "[23777 rows x 5 columns]"
      ]
     },
     "execution_count": 80,
     "metadata": {},
     "output_type": "execute_result"
    }
   ],
   "source": [
    "merged_df_subset = merged_df[['raceId', 'driverId', 'milliseconds', 'dob', 'nationality']]\n",
    "merged_df_subset"
   ]
  },
  {
   "cell_type": "markdown",
   "metadata": {},
   "source": [
    "Now we can process the `dob` column to get age:"
   ]
  },
  {
   "cell_type": "code",
   "execution_count": 81,
   "metadata": {},
   "outputs": [
    {
     "data": {
      "text/html": [
       "<div>\n",
       "<style scoped>\n",
       "    .dataframe tbody tr th:only-of-type {\n",
       "        vertical-align: middle;\n",
       "    }\n",
       "\n",
       "    .dataframe tbody tr th {\n",
       "        vertical-align: top;\n",
       "    }\n",
       "\n",
       "    .dataframe thead th {\n",
       "        text-align: right;\n",
       "    }\n",
       "</style>\n",
       "<table border=\"1\" class=\"dataframe\">\n",
       "  <thead>\n",
       "    <tr style=\"text-align: right;\">\n",
       "      <th></th>\n",
       "      <th>raceId</th>\n",
       "      <th>driverId</th>\n",
       "      <th>milliseconds</th>\n",
       "      <th>dob</th>\n",
       "      <th>nationality</th>\n",
       "      <th>age</th>\n",
       "    </tr>\n",
       "  </thead>\n",
       "  <tbody>\n",
       "    <tr>\n",
       "      <th>0</th>\n",
       "      <td>18</td>\n",
       "      <td>1</td>\n",
       "      <td>5690616.0</td>\n",
       "      <td>1985-07-01</td>\n",
       "      <td>British</td>\n",
       "      <td>35.412308</td>\n",
       "    </tr>\n",
       "    <tr>\n",
       "      <th>1</th>\n",
       "      <td>19</td>\n",
       "      <td>1</td>\n",
       "      <td>5525103.0</td>\n",
       "      <td>1985-07-01</td>\n",
       "      <td>British</td>\n",
       "      <td>35.412308</td>\n",
       "    </tr>\n",
       "    <tr>\n",
       "      <th>2</th>\n",
       "      <td>20</td>\n",
       "      <td>1</td>\n",
       "      <td>NaN</td>\n",
       "      <td>1985-07-01</td>\n",
       "      <td>British</td>\n",
       "      <td>35.412308</td>\n",
       "    </tr>\n",
       "    <tr>\n",
       "      <th>3</th>\n",
       "      <td>21</td>\n",
       "      <td>1</td>\n",
       "      <td>5903238.0</td>\n",
       "      <td>1985-07-01</td>\n",
       "      <td>British</td>\n",
       "      <td>35.412308</td>\n",
       "    </tr>\n",
       "    <tr>\n",
       "      <th>4</th>\n",
       "      <td>22</td>\n",
       "      <td>1</td>\n",
       "      <td>5213230.0</td>\n",
       "      <td>1985-07-01</td>\n",
       "      <td>British</td>\n",
       "      <td>35.412308</td>\n",
       "    </tr>\n",
       "    <tr>\n",
       "      <th>...</th>\n",
       "      <td>...</td>\n",
       "      <td>...</td>\n",
       "      <td>...</td>\n",
       "      <td>...</td>\n",
       "      <td>...</td>\n",
       "      <td>...</td>\n",
       "    </tr>\n",
       "    <tr>\n",
       "      <th>23772</th>\n",
       "      <td>988</td>\n",
       "      <td>842</td>\n",
       "      <td>NaN</td>\n",
       "      <td>1996-07-02</td>\n",
       "      <td>French</td>\n",
       "      <td>24.401349</td>\n",
       "    </tr>\n",
       "    <tr>\n",
       "      <th>23773</th>\n",
       "      <td>985</td>\n",
       "      <td>843</td>\n",
       "      <td>NaN</td>\n",
       "      <td>1989-10-11</td>\n",
       "      <td>New Zealander</td>\n",
       "      <td>31.130116</td>\n",
       "    </tr>\n",
       "    <tr>\n",
       "      <th>23774</th>\n",
       "      <td>986</td>\n",
       "      <td>843</td>\n",
       "      <td>NaN</td>\n",
       "      <td>1989-10-11</td>\n",
       "      <td>New Zealander</td>\n",
       "      <td>31.130116</td>\n",
       "    </tr>\n",
       "    <tr>\n",
       "      <th>23775</th>\n",
       "      <td>987</td>\n",
       "      <td>843</td>\n",
       "      <td>NaN</td>\n",
       "      <td>1989-10-11</td>\n",
       "      <td>New Zealander</td>\n",
       "      <td>31.130116</td>\n",
       "    </tr>\n",
       "    <tr>\n",
       "      <th>23776</th>\n",
       "      <td>988</td>\n",
       "      <td>843</td>\n",
       "      <td>NaN</td>\n",
       "      <td>1989-10-11</td>\n",
       "      <td>New Zealander</td>\n",
       "      <td>31.130116</td>\n",
       "    </tr>\n",
       "  </tbody>\n",
       "</table>\n",
       "<p>23777 rows × 6 columns</p>\n",
       "</div>"
      ],
      "text/plain": [
       "       raceId  driverId  milliseconds        dob    nationality        age\n",
       "0          18         1     5690616.0 1985-07-01        British  35.412308\n",
       "1          19         1     5525103.0 1985-07-01        British  35.412308\n",
       "2          20         1           NaN 1985-07-01        British  35.412308\n",
       "3          21         1     5903238.0 1985-07-01        British  35.412308\n",
       "4          22         1     5213230.0 1985-07-01        British  35.412308\n",
       "...       ...       ...           ...        ...            ...        ...\n",
       "23772     988       842           NaN 1996-07-02         French  24.401349\n",
       "23773     985       843           NaN 1989-10-11  New Zealander  31.130116\n",
       "23774     986       843           NaN 1989-10-11  New Zealander  31.130116\n",
       "23775     987       843           NaN 1989-10-11  New Zealander  31.130116\n",
       "23776     988       843           NaN 1989-10-11  New Zealander  31.130116\n",
       "\n",
       "[23777 rows x 6 columns]"
      ]
     },
     "execution_count": 81,
     "metadata": {},
     "output_type": "execute_result"
    }
   ],
   "source": [
    "ages = (pd.Timestamp.now() - merged_df_subset[\"dob\"]).apply(lambda x: x.total_seconds()/3600/24/365)\n",
    "merged_df_age = merged_df_subset.assign(age=ages)\n",
    "merged_df_age"
   ]
  },
  {
   "cell_type": "markdown",
   "metadata": {},
   "source": [
    "- So far we got information for each driver.\n",
    "- Likewise, we can get information about the races, and use those as well."
   ]
  },
  {
   "cell_type": "code",
   "execution_count": 82,
   "metadata": {},
   "outputs": [
    {
     "data": {
      "text/html": [
       "<div>\n",
       "<style scoped>\n",
       "    .dataframe tbody tr th:only-of-type {\n",
       "        vertical-align: middle;\n",
       "    }\n",
       "\n",
       "    .dataframe tbody tr th {\n",
       "        vertical-align: top;\n",
       "    }\n",
       "\n",
       "    .dataframe thead th {\n",
       "        text-align: right;\n",
       "    }\n",
       "</style>\n",
       "<table border=\"1\" class=\"dataframe\">\n",
       "  <thead>\n",
       "    <tr style=\"text-align: right;\">\n",
       "      <th></th>\n",
       "      <th>year</th>\n",
       "      <th>round</th>\n",
       "      <th>circuitId</th>\n",
       "      <th>name</th>\n",
       "      <th>date</th>\n",
       "      <th>time</th>\n",
       "      <th>url</th>\n",
       "    </tr>\n",
       "    <tr>\n",
       "      <th>raceId</th>\n",
       "      <th></th>\n",
       "      <th></th>\n",
       "      <th></th>\n",
       "      <th></th>\n",
       "      <th></th>\n",
       "      <th></th>\n",
       "      <th></th>\n",
       "    </tr>\n",
       "  </thead>\n",
       "  <tbody>\n",
       "    <tr>\n",
       "      <th>1</th>\n",
       "      <td>2009</td>\n",
       "      <td>1</td>\n",
       "      <td>1</td>\n",
       "      <td>Australian Grand Prix</td>\n",
       "      <td>2009-03-29</td>\n",
       "      <td>06:00:00</td>\n",
       "      <td>http://en.wikipedia.org/wiki/2009_Australian_G...</td>\n",
       "    </tr>\n",
       "    <tr>\n",
       "      <th>2</th>\n",
       "      <td>2009</td>\n",
       "      <td>2</td>\n",
       "      <td>2</td>\n",
       "      <td>Malaysian Grand Prix</td>\n",
       "      <td>2009-04-05</td>\n",
       "      <td>09:00:00</td>\n",
       "      <td>http://en.wikipedia.org/wiki/2009_Malaysian_Gr...</td>\n",
       "    </tr>\n",
       "    <tr>\n",
       "      <th>3</th>\n",
       "      <td>2009</td>\n",
       "      <td>3</td>\n",
       "      <td>17</td>\n",
       "      <td>Chinese Grand Prix</td>\n",
       "      <td>2009-04-19</td>\n",
       "      <td>07:00:00</td>\n",
       "      <td>http://en.wikipedia.org/wiki/2009_Chinese_Gran...</td>\n",
       "    </tr>\n",
       "    <tr>\n",
       "      <th>4</th>\n",
       "      <td>2009</td>\n",
       "      <td>4</td>\n",
       "      <td>3</td>\n",
       "      <td>Bahrain Grand Prix</td>\n",
       "      <td>2009-04-26</td>\n",
       "      <td>12:00:00</td>\n",
       "      <td>http://en.wikipedia.org/wiki/2009_Bahrain_Gran...</td>\n",
       "    </tr>\n",
       "    <tr>\n",
       "      <th>5</th>\n",
       "      <td>2009</td>\n",
       "      <td>5</td>\n",
       "      <td>4</td>\n",
       "      <td>Spanish Grand Prix</td>\n",
       "      <td>2009-05-10</td>\n",
       "      <td>12:00:00</td>\n",
       "      <td>http://en.wikipedia.org/wiki/2009_Spanish_Gran...</td>\n",
       "    </tr>\n",
       "    <tr>\n",
       "      <th>...</th>\n",
       "      <td>...</td>\n",
       "      <td>...</td>\n",
       "      <td>...</td>\n",
       "      <td>...</td>\n",
       "      <td>...</td>\n",
       "      <td>...</td>\n",
       "      <td>...</td>\n",
       "    </tr>\n",
       "    <tr>\n",
       "      <th>1005</th>\n",
       "      <td>2018</td>\n",
       "      <td>17</td>\n",
       "      <td>22</td>\n",
       "      <td>Japanese Grand Prix</td>\n",
       "      <td>2018-10-07</td>\n",
       "      <td>05:00:00</td>\n",
       "      <td>http://en.wikipedia.org/wiki/2018_Japanese_Gra...</td>\n",
       "    </tr>\n",
       "    <tr>\n",
       "      <th>1006</th>\n",
       "      <td>2018</td>\n",
       "      <td>18</td>\n",
       "      <td>69</td>\n",
       "      <td>United States Grand Prix</td>\n",
       "      <td>2018-10-21</td>\n",
       "      <td>19:00:00</td>\n",
       "      <td>http://en.wikipedia.org/wiki/2018_United_State...</td>\n",
       "    </tr>\n",
       "    <tr>\n",
       "      <th>1007</th>\n",
       "      <td>2018</td>\n",
       "      <td>19</td>\n",
       "      <td>32</td>\n",
       "      <td>Mexican Grand Prix</td>\n",
       "      <td>2018-10-28</td>\n",
       "      <td>19:00:00</td>\n",
       "      <td>http://en.wikipedia.org/wiki/2018_Mexican_Gran...</td>\n",
       "    </tr>\n",
       "    <tr>\n",
       "      <th>1008</th>\n",
       "      <td>2018</td>\n",
       "      <td>20</td>\n",
       "      <td>18</td>\n",
       "      <td>Brazilian Grand Prix</td>\n",
       "      <td>2018-11-11</td>\n",
       "      <td>16:00:00</td>\n",
       "      <td>http://en.wikipedia.org/wiki/2018_Brazilian_Gr...</td>\n",
       "    </tr>\n",
       "    <tr>\n",
       "      <th>1009</th>\n",
       "      <td>2018</td>\n",
       "      <td>21</td>\n",
       "      <td>24</td>\n",
       "      <td>Abu Dhabi Grand Prix</td>\n",
       "      <td>2018-11-25</td>\n",
       "      <td>13:00:00</td>\n",
       "      <td>http://en.wikipedia.org/wiki/2018_Abu_Dhabi_Gr...</td>\n",
       "    </tr>\n",
       "  </tbody>\n",
       "</table>\n",
       "<p>997 rows × 7 columns</p>\n",
       "</div>"
      ],
      "text/plain": [
       "        year  round  circuitId                      name        date  \\\n",
       "raceId                                                                 \n",
       "1       2009      1          1     Australian Grand Prix  2009-03-29   \n",
       "2       2009      2          2      Malaysian Grand Prix  2009-04-05   \n",
       "3       2009      3         17        Chinese Grand Prix  2009-04-19   \n",
       "4       2009      4          3        Bahrain Grand Prix  2009-04-26   \n",
       "5       2009      5          4        Spanish Grand Prix  2009-05-10   \n",
       "...      ...    ...        ...                       ...         ...   \n",
       "1005    2018     17         22       Japanese Grand Prix  2018-10-07   \n",
       "1006    2018     18         69  United States Grand Prix  2018-10-21   \n",
       "1007    2018     19         32        Mexican Grand Prix  2018-10-28   \n",
       "1008    2018     20         18      Brazilian Grand Prix  2018-11-11   \n",
       "1009    2018     21         24      Abu Dhabi Grand Prix  2018-11-25   \n",
       "\n",
       "            time                                                url  \n",
       "raceId                                                               \n",
       "1       06:00:00  http://en.wikipedia.org/wiki/2009_Australian_G...  \n",
       "2       09:00:00  http://en.wikipedia.org/wiki/2009_Malaysian_Gr...  \n",
       "3       07:00:00  http://en.wikipedia.org/wiki/2009_Chinese_Gran...  \n",
       "4       12:00:00  http://en.wikipedia.org/wiki/2009_Bahrain_Gran...  \n",
       "5       12:00:00  http://en.wikipedia.org/wiki/2009_Spanish_Gran...  \n",
       "...          ...                                                ...  \n",
       "1005    05:00:00  http://en.wikipedia.org/wiki/2018_Japanese_Gra...  \n",
       "1006    19:00:00  http://en.wikipedia.org/wiki/2018_United_State...  \n",
       "1007    19:00:00  http://en.wikipedia.org/wiki/2018_Mexican_Gran...  \n",
       "1008    16:00:00  http://en.wikipedia.org/wiki/2018_Brazilian_Gr...  \n",
       "1009    13:00:00  http://en.wikipedia.org/wiki/2018_Abu_Dhabi_Gr...  \n",
       "\n",
       "[997 rows x 7 columns]"
      ]
     },
     "execution_count": 82,
     "metadata": {},
     "output_type": "execute_result"
    }
   ],
   "source": [
    "racing_races_df = pd.read_csv(\"data/formula-1-race-data-19502017/races.csv\", encoding='latin-1', index_col=0)\n",
    "racing_races_df"
   ]
  },
  {
   "cell_type": "markdown",
   "metadata": {},
   "source": [
    "Etc."
   ]
  },
  {
   "cell_type": "markdown",
   "metadata": {},
   "source": [
    "- For those who have taken CPSC 304 or some have other database training, you'll recognize this type of multi-table situation, with foreign keys connecting the tables.\n",
    "- `pd.merge` supports several types of joins, see the documentation:"
   ]
  },
  {
   "cell_type": "code",
   "execution_count": null,
   "metadata": {},
   "outputs": [],
   "source": [
    "?pd.merge"
   ]
  },
  {
   "cell_type": "markdown",
   "metadata": {},
   "source": [
    "## True/False questions (15 min)\n",
    "\n",
    "1. `CatBoost` is effective because, when increasing `iterations`, you lower the training error and the approximation error. \n",
    "2. `CatBoost` is likely to be popular in 10 years.\n",
    "3. The primary motivation for using `SGDClassifier` or `SGDRegressor` is speed.\n",
    "4. In multi-class logistic regression, if the coefficient for feature 10, class 2 is positive, that means increasing the value of feature 10 _decreases_ the predicted probability of class 1 (a different class).\n",
    "5. If we are dealing with data from multiple sources, our strategy is to first combine them as a preprocessing step, and then build a model.\n"
   ]
  },
  {
   "cell_type": "code",
   "execution_count": null,
   "metadata": {},
   "outputs": [],
   "source": []
  },
  {
   "cell_type": "markdown",
   "metadata": {},
   "source": [
    "## Course review (15 min)\n",
    "\n",
    "#### Learning objectives\n",
    "\n",
    "Here are the course learning outcomes I came up with when proposing this new course:\n",
    "\n",
    "1. Identify problems that may be addressed with machine learning.\n",
    "2. Select the appropriate machine learning tool for a problem.\n",
    "3. Transform data of various types into usable features.\n",
    "4. Apply standard tools implementing supervised and unsupervised learning techniques.\n",
    "5. Describe core differences between training, validation, and testing regimes.\n",
    "6. Effectively communicate the results of a machine learning pipeline.\n",
    "7. Be realistic about the limitations of individual approaches and machine learning as a whole. \n",
    "8. Create reproducible workflows and pipelines.\n",
    "\n",
    "- How did we do? \n",
    "- Hopefully OK, except we skipped the last point (that will likely be its own new course).\n",
    "- I would also add:\n",
    "\n",
    "9. Identify and avoid scenarios in which training and testing data are accidentally mixed (the \"Golden Rule\").\n",
    "10. Employ good habits for applying ML, such as starting an analysis with a baseline estimator.\n",
    "\n",
    "because I think they are important enough to make it to the course-level list."
   ]
  },
  {
   "cell_type": "markdown",
   "metadata": {},
   "source": [
    "#### What did we cover?\n",
    "\n",
    "I see the course roughly like this (not in order):\n",
    "\n",
    "Part 1: Supervised learning on tabular data\n",
    "\n",
    "- Overfitting, train/validation/test/deployment, cross-validation\n",
    "- Feature preprocessing, pipelines, imputation, OHE, etc\n",
    "- The Golden Rule, various ways to accidentally violate it\n",
    "- Classification metrics: confusion matrix, precision/recall, ROC, AUC\n",
    "- Regression metrics: MSE, MAPE\n",
    "- Regression: transforming the targets\n",
    "- Feature importances, feature selection"
   ]
  },
  {
   "cell_type": "markdown",
   "metadata": {},
   "source": [
    "Part 2: Other data types (non-tabular)\n",
    "\n",
    "- Time series\n",
    "- Right-censored data / survival analysis\n",
    "- Computer vision with deep learning\n",
    "- Language data, text preprocessing\n",
    "- Ratings data"
   ]
  },
  {
   "cell_type": "markdown",
   "metadata": {},
   "source": [
    "Part 3: Other stuff\n",
    "\n",
    "- Some Python (numpy, pandas, scipy sparse matrices)\n",
    "- Hyperparameter optimization\n",
    "- Ensembles\n",
    "- Outlier detection\n",
    "- Clustering\n",
    "- A bunch of models: \n",
    "  - Dummy*\n",
    "  - linear models (ridge, lasso, huber, logistic regression, SGD*)\n",
    "  - tree-based models (random forest, gradient boosted trees)\n",
    "  - KNN classifier/regressor\n",
    "  - pre-trained deep learning models\n",
    "- Communicating your results (including visualizations)\n",
    "- ML skepticism\n",
    "- Ethics for ML"
   ]
  },
  {
   "cell_type": "markdown",
   "metadata": {},
   "source": [
    "#### What would I do differently?\n",
    "\n",
    "Lots of things, of course! Here are some important ones:\n",
    "\n",
    "- Introduce `Pipeline` earlier.\n",
    "- Throughout the course, default to cross-validation instead of train/valid split.\n",
    "- Find a dataset with multi-class classification for a section of the course.\n",
    "- Spend more time on quantifying the uncertainty in one's results (scores, predictions, feature importances, etc).\n",
    "- Add a lecture on deploying a trained model.\n",
    "- Skip some of the content on text preprocessing.\n",
    "- Skip some of the content on SVMs.\n",
    "- Skip `Lasso`?\n",
    "\n",
    "I'm sure you have other suggestions - feel free to drop me an email, submit my contact form anonymously at mikegelbart.com, or drop them in the course evaluations."
   ]
  },
  {
   "cell_type": "markdown",
   "metadata": {},
   "source": [
    "#### 330 vs. 340\n",
    "\n",
    "- Just talked about it - see recording.\n",
    "\n",
    "# TODO - add this"
   ]
  },
  {
   "cell_type": "markdown",
   "metadata": {},
   "source": [
    "#### What was not covered\n",
    "\n",
    "- Deployment\n",
    "- Big data, distributed computing\n",
    "- How ML methods work (CPSC 340)\n",
    "- Probabilistic methods\n",
    "- A lot of unsupervised learning, semi-supervised"
   ]
  },
  {
   "cell_type": "markdown",
   "metadata": {},
   "source": [
    "## Unsolicited advice: working with others (20 min)"
   ]
  },
  {
   "cell_type": "markdown",
   "metadata": {},
   "source": [
    "- I sometimes end my courses with \"unsolicited life advice\".\n",
    "- I won't repeat myself here because some of you took CPSC 340 with me. But if you're interested [it's on YouTube](https://www.youtube.com/watch?v=_7zYxpzrKmQ&list=PLWmXHcz_53Q02ZLeAxigki1JZFfCO6M-b&index=34&t=0s).\n",
    "- Instead of general life advice I'll try a different topic this time: unsolicited advice on _working with others_.\n",
    "- These are just my opinions. They not be complete, or correct. Follow my advice at your own risk!\n",
    "\n",
    "<br><br>"
   ]
  },
  {
   "cell_type": "markdown",
   "metadata": {},
   "source": [
    "#### Don't lead with blame - investigate first\n",
    "\n",
    "Leading with blame:\n",
    "\n",
    "> Hey Malcolm, you were supposed to submit this form by the deadline - why didn't you?\n",
    "\n",
    "Instead, try this:\n",
    "\n",
    "> Hey Malcolm, from my end it looks like the form hasn't been submitted - can you shed some light on the situation?\n",
    "\n",
    "- Blaming others is very embarrassing and damaging if the blame is not deserved.\n",
    "- And also not great if the blame _is_ deserved.\n",
    "\n",
    "<br><br>"
   ]
  },
  {
   "cell_type": "markdown",
   "metadata": {},
   "source": [
    "#### The fundamental attribution error\n",
    "\n",
    "- https://en.wikipedia.org/wiki/Fundamental_attribution_error\n",
    "- If you miss a deadline: “I was too busy moving apartments.”\n",
    "- If your teammate misses a deadline: “They are incompetent.”\n",
    "- This is a known psychological phenomenon, so try to correct for this. Are you sure you know why they missed the deadline?\n",
    "\n",
    "<br><br>"
   ]
  },
  {
   "cell_type": "markdown",
   "metadata": {},
   "source": [
    "#### Don't procrastinate on disappointing others\n",
    "\n",
    "- This can be highly damaging, and is a serious form of procrastination.\n",
    "- If you need to break a commitment, communicate this right away. \n",
    " - Can't get your work done on time.\n",
    " - Need to pull out of a project.\n",
    " - Need to move your organization to another city.\n",
    "- Consider how much better this is for the person being disappointed.\n",
    "\n",
    "<br><br>"
   ]
  },
  {
   "cell_type": "markdown",
   "metadata": {},
   "source": [
    "#### Your opinion is not special\n",
    "\n",
    "- If you disagree with someone, why do you think you're more likely to be right than the other person?\n",
    "  - After all, there's a symmetry to the situation.\n",
    "- I think most people are in denial about this.\n",
    "  - That is, if you take an issue (e.g. \"will lowering taxes improve the economy?\", or religious beliefs), the credence of opposing sides are likely both above 50%. \n",
    "- A good question to ask yourself: is there data? E.g. if you are always on time and your co-worker is always late, then OK to trust your opinion on scheduling.\n",
    "- My approach:\n",
    "  - For critical decisions: try to \"average\" different opinions, including my own, based on trustworthiness.\n",
    "  - For most decisions: do it my way because life is more fun that way.\n",
    "  \n",
    "<br><br>"
   ]
  },
  {
   "cell_type": "markdown",
   "metadata": {},
   "source": [
    "## Conclusion\n",
    "\n",
    "That's all, folks! Thank you for your active participation and supportive attitude."
   ]
  }
 ],
 "metadata": {
  "celltoolbar": "Slideshow",
  "kernelspec": {
   "display_name": "Python 3",
   "language": "python",
   "name": "python3"
  },
  "language_info": {
   "codemirror_mode": {
    "name": "ipython",
    "version": 3
   },
   "file_extension": ".py",
   "mimetype": "text/x-python",
   "name": "python",
   "nbconvert_exporter": "python",
   "pygments_lexer": "ipython3",
   "version": "3.8.5"
  }
 },
 "nbformat": 4,
 "nbformat_minor": 4
}
